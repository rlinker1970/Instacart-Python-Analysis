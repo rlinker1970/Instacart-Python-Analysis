{
 "cells": [
  {
   "cell_type": "markdown",
   "id": "cf8f1bfa-8bba-4852-8a97-a6d390ee2339",
   "metadata": {},
   "source": [
    "#0.1 Importing Libraries"
   ]
  },
  {
   "cell_type": "code",
   "execution_count": 1,
   "id": "2877756f-ba20-47dd-bcda-499a9e94c341",
   "metadata": {},
   "outputs": [],
   "source": [
    "# Import libraries\n",
    "import pandas as pd\n",
    "import numpy as np\n",
    "import os"
   ]
  },
  {
   "cell_type": "markdown",
   "id": "9944aa94-fa65-4763-b3d1-e4110593e696",
   "metadata": {},
   "source": [
    "#0.2 Data Types"
   ]
  },
  {
   "cell_type": "code",
   "execution_count": 27,
   "id": "be59aea8-9efd-48e6-8cd0-c8e19c017ff5",
   "metadata": {},
   "outputs": [],
   "source": [
    "w=10"
   ]
  },
  {
   "cell_type": "code",
   "execution_count": 29,
   "id": "5200508d-acf0-46b7-80c6-90409a839c7c",
   "metadata": {},
   "outputs": [],
   "source": [
    "x=25"
   ]
  },
  {
   "cell_type": "code",
   "execution_count": 31,
   "id": "2c65cb28-7ea7-4e31-a71d-a3beda04ede0",
   "metadata": {},
   "outputs": [],
   "source": [
    "y=50"
   ]
  },
  {
   "cell_type": "code",
   "execution_count": 39,
   "id": "879732c0-a875-4a4b-a09a-98b1cce098cd",
   "metadata": {},
   "outputs": [],
   "source": [
    "z=30"
   ]
  },
  {
   "cell_type": "code",
   "execution_count": 41,
   "id": "88a2a275-9814-4d77-8506-ddbc1ac4cfb5",
   "metadata": {},
   "outputs": [
    {
     "data": {
      "text/plain": [
       "100"
      ]
     },
     "execution_count": 41,
     "metadata": {},
     "output_type": "execute_result"
    }
   ],
   "source": [
    "y+y"
   ]
  },
  {
   "cell_type": "code",
   "execution_count": 43,
   "id": "516579fa-8347-4a1b-8efb-bf2ebbd19067",
   "metadata": {},
   "outputs": [
    {
     "data": {
      "text/plain": [
       "100"
      ]
     },
     "execution_count": 43,
     "metadata": {},
     "output_type": "execute_result"
    }
   ],
   "source": [
    "y+x+x"
   ]
  },
  {
   "cell_type": "code",
   "execution_count": 45,
   "id": "a739f020-f4ae-46e3-9022-b7aa69921862",
   "metadata": {},
   "outputs": [
    {
     "data": {
      "text/plain": [
       "100"
      ]
     },
     "execution_count": 45,
     "metadata": {},
     "output_type": "execute_result"
    }
   ],
   "source": [
    "z+z+z+w"
   ]
  },
  {
   "cell_type": "code",
   "execution_count": 47,
   "id": "93411527-2bad-4d27-ae88-2693b011de9a",
   "metadata": {},
   "outputs": [
    {
     "data": {
      "text/plain": [
       "100"
      ]
     },
     "execution_count": 47,
     "metadata": {},
     "output_type": "execute_result"
    }
   ],
   "source": [
    "y+z+w+w"
   ]
  },
  {
   "cell_type": "code",
   "execution_count": 49,
   "id": "cf192e15-d37b-49cf-bdad-1827dbc26958",
   "metadata": {},
   "outputs": [],
   "source": [
    "a=2.5"
   ]
  },
  {
   "cell_type": "code",
   "execution_count": 51,
   "id": "2fb17e9c-a39b-47ab-9158-0a505a5fe88e",
   "metadata": {},
   "outputs": [],
   "source": [
    "b=1.25"
   ]
  },
  {
   "cell_type": "code",
   "execution_count": 53,
   "id": "811521ca-107a-4334-93fa-2117af51c547",
   "metadata": {},
   "outputs": [
    {
     "data": {
      "text/plain": [
       "2.0"
      ]
     },
     "execution_count": 53,
     "metadata": {},
     "output_type": "execute_result"
    }
   ],
   "source": [
    "a/b"
   ]
  },
  {
   "cell_type": "code",
   "execution_count": 55,
   "id": "7eaf65b4-03ad-4559-bf3c-8aa8ab68b578",
   "metadata": {},
   "outputs": [],
   "source": [
    "e='news'"
   ]
  },
  {
   "cell_type": "code",
   "execution_count": 57,
   "id": "9e6c5da5-8f44-4e3e-b448-e8a022385bdd",
   "metadata": {},
   "outputs": [],
   "source": [
    "f='paper'"
   ]
  },
  {
   "cell_type": "code",
   "execution_count": 59,
   "id": "198f58f2-ea54-457a-a2e6-c0cd146e71c0",
   "metadata": {},
   "outputs": [
    {
     "data": {
      "text/plain": [
       "'newspaper'"
      ]
     },
     "execution_count": 59,
     "metadata": {},
     "output_type": "execute_result"
    }
   ],
   "source": [
    "e+f"
   ]
  },
  {
   "cell_type": "code",
   "execution_count": 63,
   "id": "38ebc167-e128-4253-98d7-b6b4e3a7a387",
   "metadata": {},
   "outputs": [],
   "source": [
    "g='fun '"
   ]
  },
  {
   "cell_type": "code",
   "execution_count": 65,
   "id": "8f338892-f5d1-46af-95af-7f2338528e61",
   "metadata": {},
   "outputs": [
    {
     "data": {
      "text/plain": [
       "'fun fun fun fun fun fun fun fun fun fun fun fun fun fun fun fun fun fun fun fun fun fun fun fun fun fun fun fun fun fun fun fun fun fun fun fun fun fun fun fun fun fun fun fun fun fun fun fun fun fun fun fun fun fun fun fun fun fun fun fun fun fun fun fun fun fun fun fun fun fun fun fun fun fun fun fun fun fun fun fun fun fun fun fun fun fun fun fun fun fun fun fun fun fun fun fun fun fun fun fun '"
      ]
     },
     "execution_count": 65,
     "metadata": {},
     "output_type": "execute_result"
    }
   ],
   "source": [
    "g*100"
   ]
  },
  {
   "cell_type": "code",
   "execution_count": null,
   "id": "450ea053-515c-4c75-a7b1-17b607c6e39c",
   "metadata": {},
   "outputs": [],
   "source": []
  }
 ],
 "metadata": {
  "kernelspec": {
   "display_name": "Python 3 (ipykernel)",
   "language": "python",
   "name": "python3"
  },
  "language_info": {
   "codemirror_mode": {
    "name": "ipython",
    "version": 3
   },
   "file_extension": ".py",
   "mimetype": "text/x-python",
   "name": "python",
   "nbconvert_exporter": "python",
   "pygments_lexer": "ipython3",
   "version": "3.12.4"
  }
 },
 "nbformat": 4,
 "nbformat_minor": 5
}
