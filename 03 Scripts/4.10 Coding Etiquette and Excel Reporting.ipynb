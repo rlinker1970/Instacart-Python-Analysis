{
 "cells": [
  {
   "cell_type": "markdown",
   "id": "7966c3d4-852b-46dc-a4ec-ec1a38e32b1e",
   "metadata": {},
   "source": [
    "# 4.10 Coding Etiquette and Exel Reporting"
   ]
  },
  {
   "cell_type": "markdown",
   "id": "32f9cf54-8c58-448b-8d70-d3d4e7ac3955",
   "metadata": {},
   "source": [
    "## This script includes task assignements:"
   ]
  },
  {
   "cell_type": "markdown",
   "id": "29746691-91de-4f77-9dc2-c9482a3b237b",
   "metadata": {},
   "source": [
    "### 1. Import the data set you exported in Exercise 4.9 into a new Jupyter notebook.\n",
    "### 2. Consider any security implications. Address any PII data before continuing your analysis.\n",
    "### 3. Create a regional segmentation of the data.\n",
    "### 4. Create an exclusion flag for low-activity customers (customers with less than 5 orders) and exclude them from the data.\n",
    "### 5 and 6. Create a profiling variable based on age, income, certain goods in the “department_id” column, and number of dependents; then create an appropriate visualization to show the distribution of profiles\n",
    "### 7. Aggregate the max, mean, and min variables on a customer-profile level for usage frequency and expenditure.\n",
    "### 8. Compare your customer profiles with regions and departments. Can you identify a link between them?\n",
    "### Note: 8. is continued in Part 2 due to memory issues."
   ]
  },
  {
   "cell_type": "markdown",
   "id": "49abe567-923d-42d1-88b7-bfedb51f5abe",
   "metadata": {},
   "source": [
    "## Import libraries and data"
   ]
  },
  {
   "cell_type": "code",
   "execution_count": 3,
   "id": "3e2ec5ae-96e6-422c-a982-f598e494cc01",
   "metadata": {},
   "outputs": [],
   "source": [
    "import pandas as pd\n",
    "import numpy as np\n",
    "import os\n",
    "import matplotlib.pyplot as plt\n",
    "import seaborn as sns\n",
    "import scipy"
   ]
  },
  {
   "cell_type": "markdown",
   "id": "b9de1149-c503-4fc6-8250-50ff9d77d43a",
   "metadata": {},
   "source": [
    "## 1. Import the data set you exported in Exercise 4.9 into a new Jupyter notebook."
   ]
  },
  {
   "cell_type": "code",
   "execution_count": 5,
   "id": "27ce3081-b903-4ebe-9d70-69ea58fe0b02",
   "metadata": {},
   "outputs": [],
   "source": [
    "path = r'C:\\Users\\rlink\\Documents\\Instacart Basket Analysis'"
   ]
  },
  {
   "cell_type": "code",
   "execution_count": 8,
   "id": "fdac473b-f73d-4e10-8f82-b05c8a86c982",
   "metadata": {},
   "outputs": [],
   "source": [
    "big_ords_prods_agg_cust = pd.read_pickle(os.path.join(path, '02 Data', 'prepared Data', 'big_ords_prods_agg_cust.pkl'))"
   ]
  },
  {
   "cell_type": "code",
   "execution_count": 10,
   "id": "0e741eed-b1ef-48a4-9bb0-171670bed62d",
   "metadata": {},
   "outputs": [
    {
     "data": {
      "text/plain": [
       "['product_id',\n",
       " 'product_name',\n",
       " 'aisle_id',\n",
       " 'department_id',\n",
       " 'prices',\n",
       " 'order_id',\n",
       " 'user_id',\n",
       " 'eval_set',\n",
       " 'order_number',\n",
       " 'order_dow',\n",
       " 'order_hour_of_day',\n",
       " 'days_since_prior_order',\n",
       " 'add_to_cart_order',\n",
       " 'reordered',\n",
       " 'price_range_loc',\n",
       " 'busiest_day',\n",
       " 'days_most_busy',\n",
       " 'busiest_period_of_day',\n",
       " 'max_order',\n",
       " 'loyalty_flag',\n",
       " 'mean_product_price',\n",
       " 'spending_flag',\n",
       " 'median_days_between_orders',\n",
       " 'order_frequency',\n",
       " 'first_name',\n",
       " 'last_name',\n",
       " 'gender',\n",
       " 'state',\n",
       " 'age',\n",
       " 'date_joined',\n",
       " 'n_dependants',\n",
       " 'marital_status',\n",
       " 'income',\n",
       " '_merge']"
      ]
     },
     "execution_count": 10,
     "metadata": {},
     "output_type": "execute_result"
    }
   ],
   "source": [
    "big_ords_prods_agg_cust.columns.tolist()"
   ]
  },
  {
   "cell_type": "markdown",
   "id": "3bb86296-88df-41eb-9e2d-067e47f4cb00",
   "metadata": {},
   "source": [
    "## 2. Consider any security implications. Address any PII data before continuing your analysis."
   ]
  },
  {
   "cell_type": "code",
   "execution_count": 13,
   "id": "232fdeca-c165-4bfa-9c1a-b0cb3d8c3a69",
   "metadata": {},
   "outputs": [
    {
     "data": {
      "text/html": [
       "<div>\n",
       "<style scoped>\n",
       "    .dataframe tbody tr th:only-of-type {\n",
       "        vertical-align: middle;\n",
       "    }\n",
       "\n",
       "    .dataframe tbody tr th {\n",
       "        vertical-align: top;\n",
       "    }\n",
       "\n",
       "    .dataframe thead th {\n",
       "        text-align: right;\n",
       "    }\n",
       "</style>\n",
       "<table border=\"1\" class=\"dataframe\">\n",
       "  <thead>\n",
       "    <tr style=\"text-align: right;\">\n",
       "      <th></th>\n",
       "      <th>product_id</th>\n",
       "      <th>product_name</th>\n",
       "      <th>aisle_id</th>\n",
       "      <th>department_id</th>\n",
       "      <th>prices</th>\n",
       "      <th>order_id</th>\n",
       "      <th>user_id</th>\n",
       "      <th>eval_set</th>\n",
       "      <th>order_number</th>\n",
       "      <th>order_dow</th>\n",
       "      <th>...</th>\n",
       "      <th>first_name</th>\n",
       "      <th>last_name</th>\n",
       "      <th>gender</th>\n",
       "      <th>state</th>\n",
       "      <th>age</th>\n",
       "      <th>date_joined</th>\n",
       "      <th>n_dependants</th>\n",
       "      <th>marital_status</th>\n",
       "      <th>income</th>\n",
       "      <th>_merge</th>\n",
       "    </tr>\n",
       "  </thead>\n",
       "  <tbody>\n",
       "    <tr>\n",
       "      <th>0</th>\n",
       "      <td>1</td>\n",
       "      <td>Chocolate Sandwich Cookies</td>\n",
       "      <td>61</td>\n",
       "      <td>19</td>\n",
       "      <td>5.8</td>\n",
       "      <td>3139998</td>\n",
       "      <td>138</td>\n",
       "      <td>prior</td>\n",
       "      <td>28</td>\n",
       "      <td>6</td>\n",
       "      <td>...</td>\n",
       "      <td>Charles</td>\n",
       "      <td>Cox</td>\n",
       "      <td>Male</td>\n",
       "      <td>Minnesota</td>\n",
       "      <td>81</td>\n",
       "      <td>8/1/2019</td>\n",
       "      <td>1</td>\n",
       "      <td>married</td>\n",
       "      <td>49620</td>\n",
       "      <td>both</td>\n",
       "    </tr>\n",
       "    <tr>\n",
       "      <th>1</th>\n",
       "      <td>1</td>\n",
       "      <td>Chocolate Sandwich Cookies</td>\n",
       "      <td>61</td>\n",
       "      <td>19</td>\n",
       "      <td>5.8</td>\n",
       "      <td>389851</td>\n",
       "      <td>709</td>\n",
       "      <td>prior</td>\n",
       "      <td>2</td>\n",
       "      <td>0</td>\n",
       "      <td>...</td>\n",
       "      <td>Deborah</td>\n",
       "      <td>Glass</td>\n",
       "      <td>Female</td>\n",
       "      <td>Vermont</td>\n",
       "      <td>66</td>\n",
       "      <td>6/16/2018</td>\n",
       "      <td>2</td>\n",
       "      <td>married</td>\n",
       "      <td>158302</td>\n",
       "      <td>both</td>\n",
       "    </tr>\n",
       "    <tr>\n",
       "      <th>2</th>\n",
       "      <td>1</td>\n",
       "      <td>Chocolate Sandwich Cookies</td>\n",
       "      <td>61</td>\n",
       "      <td>19</td>\n",
       "      <td>5.8</td>\n",
       "      <td>1813452</td>\n",
       "      <td>764</td>\n",
       "      <td>prior</td>\n",
       "      <td>3</td>\n",
       "      <td>4</td>\n",
       "      <td>...</td>\n",
       "      <td>Heather</td>\n",
       "      <td>Myers</td>\n",
       "      <td>Female</td>\n",
       "      <td>Wisconsin</td>\n",
       "      <td>40</td>\n",
       "      <td>2/9/2020</td>\n",
       "      <td>3</td>\n",
       "      <td>married</td>\n",
       "      <td>31308</td>\n",
       "      <td>both</td>\n",
       "    </tr>\n",
       "    <tr>\n",
       "      <th>3</th>\n",
       "      <td>1</td>\n",
       "      <td>Chocolate Sandwich Cookies</td>\n",
       "      <td>61</td>\n",
       "      <td>19</td>\n",
       "      <td>5.8</td>\n",
       "      <td>1290456</td>\n",
       "      <td>910</td>\n",
       "      <td>prior</td>\n",
       "      <td>12</td>\n",
       "      <td>3</td>\n",
       "      <td>...</td>\n",
       "      <td>Sandra</td>\n",
       "      <td>Trejo</td>\n",
       "      <td>Female</td>\n",
       "      <td>Tennessee</td>\n",
       "      <td>65</td>\n",
       "      <td>7/25/2019</td>\n",
       "      <td>0</td>\n",
       "      <td>divorced/widowed</td>\n",
       "      <td>44856</td>\n",
       "      <td>both</td>\n",
       "    </tr>\n",
       "    <tr>\n",
       "      <th>4</th>\n",
       "      <td>1</td>\n",
       "      <td>Chocolate Sandwich Cookies</td>\n",
       "      <td>61</td>\n",
       "      <td>19</td>\n",
       "      <td>5.8</td>\n",
       "      <td>369558</td>\n",
       "      <td>1052</td>\n",
       "      <td>prior</td>\n",
       "      <td>10</td>\n",
       "      <td>1</td>\n",
       "      <td>...</td>\n",
       "      <td>Ralph</td>\n",
       "      <td>Avalos</td>\n",
       "      <td>Male</td>\n",
       "      <td>Oregon</td>\n",
       "      <td>72</td>\n",
       "      <td>3/30/2018</td>\n",
       "      <td>1</td>\n",
       "      <td>married</td>\n",
       "      <td>153843</td>\n",
       "      <td>both</td>\n",
       "    </tr>\n",
       "    <tr>\n",
       "      <th>5</th>\n",
       "      <td>1</td>\n",
       "      <td>Chocolate Sandwich Cookies</td>\n",
       "      <td>61</td>\n",
       "      <td>19</td>\n",
       "      <td>5.8</td>\n",
       "      <td>589712</td>\n",
       "      <td>1052</td>\n",
       "      <td>prior</td>\n",
       "      <td>15</td>\n",
       "      <td>1</td>\n",
       "      <td>...</td>\n",
       "      <td>Ralph</td>\n",
       "      <td>Avalos</td>\n",
       "      <td>Male</td>\n",
       "      <td>Oregon</td>\n",
       "      <td>72</td>\n",
       "      <td>3/30/2018</td>\n",
       "      <td>1</td>\n",
       "      <td>married</td>\n",
       "      <td>153843</td>\n",
       "      <td>both</td>\n",
       "    </tr>\n",
       "    <tr>\n",
       "      <th>6</th>\n",
       "      <td>1</td>\n",
       "      <td>Chocolate Sandwich Cookies</td>\n",
       "      <td>61</td>\n",
       "      <td>19</td>\n",
       "      <td>5.8</td>\n",
       "      <td>1798115</td>\n",
       "      <td>1379</td>\n",
       "      <td>prior</td>\n",
       "      <td>1</td>\n",
       "      <td>5</td>\n",
       "      <td>...</td>\n",
       "      <td>Thomas</td>\n",
       "      <td>Howard</td>\n",
       "      <td>Male</td>\n",
       "      <td>Alaska</td>\n",
       "      <td>61</td>\n",
       "      <td>3/30/2020</td>\n",
       "      <td>1</td>\n",
       "      <td>married</td>\n",
       "      <td>42573</td>\n",
       "      <td>both</td>\n",
       "    </tr>\n",
       "    <tr>\n",
       "      <th>7</th>\n",
       "      <td>1</td>\n",
       "      <td>Chocolate Sandwich Cookies</td>\n",
       "      <td>61</td>\n",
       "      <td>19</td>\n",
       "      <td>5.8</td>\n",
       "      <td>1727826</td>\n",
       "      <td>1480</td>\n",
       "      <td>prior</td>\n",
       "      <td>38</td>\n",
       "      <td>4</td>\n",
       "      <td>...</td>\n",
       "      <td>Randy</td>\n",
       "      <td>Franklin</td>\n",
       "      <td>Male</td>\n",
       "      <td>Alabama</td>\n",
       "      <td>19</td>\n",
       "      <td>12/28/2019</td>\n",
       "      <td>1</td>\n",
       "      <td>living with parents and siblings</td>\n",
       "      <td>32283</td>\n",
       "      <td>both</td>\n",
       "    </tr>\n",
       "    <tr>\n",
       "      <th>8</th>\n",
       "      <td>1</td>\n",
       "      <td>Chocolate Sandwich Cookies</td>\n",
       "      <td>61</td>\n",
       "      <td>19</td>\n",
       "      <td>5.8</td>\n",
       "      <td>2694698</td>\n",
       "      <td>1480</td>\n",
       "      <td>prior</td>\n",
       "      <td>39</td>\n",
       "      <td>2</td>\n",
       "      <td>...</td>\n",
       "      <td>Randy</td>\n",
       "      <td>Franklin</td>\n",
       "      <td>Male</td>\n",
       "      <td>Alabama</td>\n",
       "      <td>19</td>\n",
       "      <td>12/28/2019</td>\n",
       "      <td>1</td>\n",
       "      <td>living with parents and siblings</td>\n",
       "      <td>32283</td>\n",
       "      <td>both</td>\n",
       "    </tr>\n",
       "    <tr>\n",
       "      <th>9</th>\n",
       "      <td>1</td>\n",
       "      <td>Chocolate Sandwich Cookies</td>\n",
       "      <td>61</td>\n",
       "      <td>19</td>\n",
       "      <td>5.8</td>\n",
       "      <td>186761</td>\n",
       "      <td>1494</td>\n",
       "      <td>prior</td>\n",
       "      <td>7</td>\n",
       "      <td>2</td>\n",
       "      <td>...</td>\n",
       "      <td>Kathryn</td>\n",
       "      <td>Hull</td>\n",
       "      <td>Female</td>\n",
       "      <td>Indiana</td>\n",
       "      <td>78</td>\n",
       "      <td>6/29/2017</td>\n",
       "      <td>1</td>\n",
       "      <td>married</td>\n",
       "      <td>49504</td>\n",
       "      <td>both</td>\n",
       "    </tr>\n",
       "    <tr>\n",
       "      <th>10</th>\n",
       "      <td>1</td>\n",
       "      <td>Chocolate Sandwich Cookies</td>\n",
       "      <td>61</td>\n",
       "      <td>19</td>\n",
       "      <td>5.8</td>\n",
       "      <td>317121</td>\n",
       "      <td>1494</td>\n",
       "      <td>prior</td>\n",
       "      <td>9</td>\n",
       "      <td>5</td>\n",
       "      <td>...</td>\n",
       "      <td>Kathryn</td>\n",
       "      <td>Hull</td>\n",
       "      <td>Female</td>\n",
       "      <td>Indiana</td>\n",
       "      <td>78</td>\n",
       "      <td>6/29/2017</td>\n",
       "      <td>1</td>\n",
       "      <td>married</td>\n",
       "      <td>49504</td>\n",
       "      <td>both</td>\n",
       "    </tr>\n",
       "    <tr>\n",
       "      <th>11</th>\n",
       "      <td>1</td>\n",
       "      <td>Chocolate Sandwich Cookies</td>\n",
       "      <td>61</td>\n",
       "      <td>19</td>\n",
       "      <td>5.8</td>\n",
       "      <td>200390</td>\n",
       "      <td>1540</td>\n",
       "      <td>prior</td>\n",
       "      <td>4</td>\n",
       "      <td>2</td>\n",
       "      <td>...</td>\n",
       "      <td>Willie</td>\n",
       "      <td>Goodman</td>\n",
       "      <td>Male</td>\n",
       "      <td>Florida</td>\n",
       "      <td>76</td>\n",
       "      <td>11/24/2017</td>\n",
       "      <td>3</td>\n",
       "      <td>married</td>\n",
       "      <td>53340</td>\n",
       "      <td>both</td>\n",
       "    </tr>\n",
       "    <tr>\n",
       "      <th>12</th>\n",
       "      <td>1</td>\n",
       "      <td>Chocolate Sandwich Cookies</td>\n",
       "      <td>61</td>\n",
       "      <td>19</td>\n",
       "      <td>5.8</td>\n",
       "      <td>2920553</td>\n",
       "      <td>1540</td>\n",
       "      <td>prior</td>\n",
       "      <td>6</td>\n",
       "      <td>1</td>\n",
       "      <td>...</td>\n",
       "      <td>Willie</td>\n",
       "      <td>Goodman</td>\n",
       "      <td>Male</td>\n",
       "      <td>Florida</td>\n",
       "      <td>76</td>\n",
       "      <td>11/24/2017</td>\n",
       "      <td>3</td>\n",
       "      <td>married</td>\n",
       "      <td>53340</td>\n",
       "      <td>both</td>\n",
       "    </tr>\n",
       "    <tr>\n",
       "      <th>13</th>\n",
       "      <td>1</td>\n",
       "      <td>Chocolate Sandwich Cookies</td>\n",
       "      <td>61</td>\n",
       "      <td>19</td>\n",
       "      <td>5.8</td>\n",
       "      <td>2813049</td>\n",
       "      <td>1540</td>\n",
       "      <td>prior</td>\n",
       "      <td>7</td>\n",
       "      <td>2</td>\n",
       "      <td>...</td>\n",
       "      <td>Willie</td>\n",
       "      <td>Goodman</td>\n",
       "      <td>Male</td>\n",
       "      <td>Florida</td>\n",
       "      <td>76</td>\n",
       "      <td>11/24/2017</td>\n",
       "      <td>3</td>\n",
       "      <td>married</td>\n",
       "      <td>53340</td>\n",
       "      <td>both</td>\n",
       "    </tr>\n",
       "    <tr>\n",
       "      <th>14</th>\n",
       "      <td>1</td>\n",
       "      <td>Chocolate Sandwich Cookies</td>\n",
       "      <td>61</td>\n",
       "      <td>19</td>\n",
       "      <td>5.8</td>\n",
       "      <td>2365998</td>\n",
       "      <td>1540</td>\n",
       "      <td>prior</td>\n",
       "      <td>8</td>\n",
       "      <td>1</td>\n",
       "      <td>...</td>\n",
       "      <td>Willie</td>\n",
       "      <td>Goodman</td>\n",
       "      <td>Male</td>\n",
       "      <td>Florida</td>\n",
       "      <td>76</td>\n",
       "      <td>11/24/2017</td>\n",
       "      <td>3</td>\n",
       "      <td>married</td>\n",
       "      <td>53340</td>\n",
       "      <td>both</td>\n",
       "    </tr>\n",
       "    <tr>\n",
       "      <th>15</th>\n",
       "      <td>1</td>\n",
       "      <td>Chocolate Sandwich Cookies</td>\n",
       "      <td>61</td>\n",
       "      <td>19</td>\n",
       "      <td>5.8</td>\n",
       "      <td>1604797</td>\n",
       "      <td>1540</td>\n",
       "      <td>prior</td>\n",
       "      <td>9</td>\n",
       "      <td>1</td>\n",
       "      <td>...</td>\n",
       "      <td>Willie</td>\n",
       "      <td>Goodman</td>\n",
       "      <td>Male</td>\n",
       "      <td>Florida</td>\n",
       "      <td>76</td>\n",
       "      <td>11/24/2017</td>\n",
       "      <td>3</td>\n",
       "      <td>married</td>\n",
       "      <td>53340</td>\n",
       "      <td>both</td>\n",
       "    </tr>\n",
       "    <tr>\n",
       "      <th>16</th>\n",
       "      <td>1</td>\n",
       "      <td>Chocolate Sandwich Cookies</td>\n",
       "      <td>61</td>\n",
       "      <td>19</td>\n",
       "      <td>5.8</td>\n",
       "      <td>2799665</td>\n",
       "      <td>1540</td>\n",
       "      <td>prior</td>\n",
       "      <td>14</td>\n",
       "      <td>1</td>\n",
       "      <td>...</td>\n",
       "      <td>Willie</td>\n",
       "      <td>Goodman</td>\n",
       "      <td>Male</td>\n",
       "      <td>Florida</td>\n",
       "      <td>76</td>\n",
       "      <td>11/24/2017</td>\n",
       "      <td>3</td>\n",
       "      <td>married</td>\n",
       "      <td>53340</td>\n",
       "      <td>both</td>\n",
       "    </tr>\n",
       "    <tr>\n",
       "      <th>17</th>\n",
       "      <td>1</td>\n",
       "      <td>Chocolate Sandwich Cookies</td>\n",
       "      <td>61</td>\n",
       "      <td>19</td>\n",
       "      <td>5.8</td>\n",
       "      <td>2228851</td>\n",
       "      <td>1540</td>\n",
       "      <td>prior</td>\n",
       "      <td>15</td>\n",
       "      <td>1</td>\n",
       "      <td>...</td>\n",
       "      <td>Willie</td>\n",
       "      <td>Goodman</td>\n",
       "      <td>Male</td>\n",
       "      <td>Florida</td>\n",
       "      <td>76</td>\n",
       "      <td>11/24/2017</td>\n",
       "      <td>3</td>\n",
       "      <td>married</td>\n",
       "      <td>53340</td>\n",
       "      <td>both</td>\n",
       "    </tr>\n",
       "    <tr>\n",
       "      <th>18</th>\n",
       "      <td>1</td>\n",
       "      <td>Chocolate Sandwich Cookies</td>\n",
       "      <td>61</td>\n",
       "      <td>19</td>\n",
       "      <td>5.8</td>\n",
       "      <td>2337422</td>\n",
       "      <td>1540</td>\n",
       "      <td>prior</td>\n",
       "      <td>18</td>\n",
       "      <td>0</td>\n",
       "      <td>...</td>\n",
       "      <td>Willie</td>\n",
       "      <td>Goodman</td>\n",
       "      <td>Male</td>\n",
       "      <td>Florida</td>\n",
       "      <td>76</td>\n",
       "      <td>11/24/2017</td>\n",
       "      <td>3</td>\n",
       "      <td>married</td>\n",
       "      <td>53340</td>\n",
       "      <td>both</td>\n",
       "    </tr>\n",
       "    <tr>\n",
       "      <th>19</th>\n",
       "      <td>1</td>\n",
       "      <td>Chocolate Sandwich Cookies</td>\n",
       "      <td>61</td>\n",
       "      <td>19</td>\n",
       "      <td>5.8</td>\n",
       "      <td>2699008</td>\n",
       "      <td>1540</td>\n",
       "      <td>prior</td>\n",
       "      <td>19</td>\n",
       "      <td>0</td>\n",
       "      <td>...</td>\n",
       "      <td>Willie</td>\n",
       "      <td>Goodman</td>\n",
       "      <td>Male</td>\n",
       "      <td>Florida</td>\n",
       "      <td>76</td>\n",
       "      <td>11/24/2017</td>\n",
       "      <td>3</td>\n",
       "      <td>married</td>\n",
       "      <td>53340</td>\n",
       "      <td>both</td>\n",
       "    </tr>\n",
       "  </tbody>\n",
       "</table>\n",
       "<p>20 rows × 34 columns</p>\n",
       "</div>"
      ],
      "text/plain": [
       "    product_id                product_name  aisle_id  department_id  prices  \\\n",
       "0            1  Chocolate Sandwich Cookies        61             19     5.8   \n",
       "1            1  Chocolate Sandwich Cookies        61             19     5.8   \n",
       "2            1  Chocolate Sandwich Cookies        61             19     5.8   \n",
       "3            1  Chocolate Sandwich Cookies        61             19     5.8   \n",
       "4            1  Chocolate Sandwich Cookies        61             19     5.8   \n",
       "5            1  Chocolate Sandwich Cookies        61             19     5.8   \n",
       "6            1  Chocolate Sandwich Cookies        61             19     5.8   \n",
       "7            1  Chocolate Sandwich Cookies        61             19     5.8   \n",
       "8            1  Chocolate Sandwich Cookies        61             19     5.8   \n",
       "9            1  Chocolate Sandwich Cookies        61             19     5.8   \n",
       "10           1  Chocolate Sandwich Cookies        61             19     5.8   \n",
       "11           1  Chocolate Sandwich Cookies        61             19     5.8   \n",
       "12           1  Chocolate Sandwich Cookies        61             19     5.8   \n",
       "13           1  Chocolate Sandwich Cookies        61             19     5.8   \n",
       "14           1  Chocolate Sandwich Cookies        61             19     5.8   \n",
       "15           1  Chocolate Sandwich Cookies        61             19     5.8   \n",
       "16           1  Chocolate Sandwich Cookies        61             19     5.8   \n",
       "17           1  Chocolate Sandwich Cookies        61             19     5.8   \n",
       "18           1  Chocolate Sandwich Cookies        61             19     5.8   \n",
       "19           1  Chocolate Sandwich Cookies        61             19     5.8   \n",
       "\n",
       "    order_id  user_id eval_set  order_number  order_dow  ...  first_name  \\\n",
       "0    3139998      138    prior            28          6  ...     Charles   \n",
       "1     389851      709    prior             2          0  ...     Deborah   \n",
       "2    1813452      764    prior             3          4  ...     Heather   \n",
       "3    1290456      910    prior            12          3  ...      Sandra   \n",
       "4     369558     1052    prior            10          1  ...       Ralph   \n",
       "5     589712     1052    prior            15          1  ...       Ralph   \n",
       "6    1798115     1379    prior             1          5  ...      Thomas   \n",
       "7    1727826     1480    prior            38          4  ...       Randy   \n",
       "8    2694698     1480    prior            39          2  ...       Randy   \n",
       "9     186761     1494    prior             7          2  ...     Kathryn   \n",
       "10    317121     1494    prior             9          5  ...     Kathryn   \n",
       "11    200390     1540    prior             4          2  ...      Willie   \n",
       "12   2920553     1540    prior             6          1  ...      Willie   \n",
       "13   2813049     1540    prior             7          2  ...      Willie   \n",
       "14   2365998     1540    prior             8          1  ...      Willie   \n",
       "15   1604797     1540    prior             9          1  ...      Willie   \n",
       "16   2799665     1540    prior            14          1  ...      Willie   \n",
       "17   2228851     1540    prior            15          1  ...      Willie   \n",
       "18   2337422     1540    prior            18          0  ...      Willie   \n",
       "19   2699008     1540    prior            19          0  ...      Willie   \n",
       "\n",
       "    last_name  gender      state age date_joined n_dependants  \\\n",
       "0         Cox    Male  Minnesota  81    8/1/2019            1   \n",
       "1       Glass  Female    Vermont  66   6/16/2018            2   \n",
       "2       Myers  Female  Wisconsin  40    2/9/2020            3   \n",
       "3       Trejo  Female  Tennessee  65   7/25/2019            0   \n",
       "4      Avalos    Male     Oregon  72   3/30/2018            1   \n",
       "5      Avalos    Male     Oregon  72   3/30/2018            1   \n",
       "6      Howard    Male     Alaska  61   3/30/2020            1   \n",
       "7    Franklin    Male    Alabama  19  12/28/2019            1   \n",
       "8    Franklin    Male    Alabama  19  12/28/2019            1   \n",
       "9        Hull  Female    Indiana  78   6/29/2017            1   \n",
       "10       Hull  Female    Indiana  78   6/29/2017            1   \n",
       "11    Goodman    Male    Florida  76  11/24/2017            3   \n",
       "12    Goodman    Male    Florida  76  11/24/2017            3   \n",
       "13    Goodman    Male    Florida  76  11/24/2017            3   \n",
       "14    Goodman    Male    Florida  76  11/24/2017            3   \n",
       "15    Goodman    Male    Florida  76  11/24/2017            3   \n",
       "16    Goodman    Male    Florida  76  11/24/2017            3   \n",
       "17    Goodman    Male    Florida  76  11/24/2017            3   \n",
       "18    Goodman    Male    Florida  76  11/24/2017            3   \n",
       "19    Goodman    Male    Florida  76  11/24/2017            3   \n",
       "\n",
       "                      marital_status  income _merge  \n",
       "0                            married   49620   both  \n",
       "1                            married  158302   both  \n",
       "2                            married   31308   both  \n",
       "3                   divorced/widowed   44856   both  \n",
       "4                            married  153843   both  \n",
       "5                            married  153843   both  \n",
       "6                            married   42573   both  \n",
       "7   living with parents and siblings   32283   both  \n",
       "8   living with parents and siblings   32283   both  \n",
       "9                            married   49504   both  \n",
       "10                           married   49504   both  \n",
       "11                           married   53340   both  \n",
       "12                           married   53340   both  \n",
       "13                           married   53340   both  \n",
       "14                           married   53340   both  \n",
       "15                           married   53340   both  \n",
       "16                           married   53340   both  \n",
       "17                           married   53340   both  \n",
       "18                           married   53340   both  \n",
       "19                           married   53340   both  \n",
       "\n",
       "[20 rows x 34 columns]"
      ]
     },
     "execution_count": 13,
     "metadata": {},
     "output_type": "execute_result"
    }
   ],
   "source": [
    "big_ords_prods_agg_cust.head(20)"
   ]
  },
  {
   "cell_type": "markdown",
   "id": "57a46c8b-68a2-467d-9025-e88767f7429a",
   "metadata": {},
   "source": [
    "The PII issue is the first and last name. I would ask for guidance about removing these columns, as the user_id can provide the same functon. For the purpose of this task I will leave them in."
   ]
  },
  {
   "cell_type": "markdown",
   "id": "32d80741-566f-49c5-b599-76ebba5b223b",
   "metadata": {},
   "source": [
    "## 3. Create a regional segmentation of the data."
   ]
  },
  {
   "cell_type": "markdown",
   "id": "e6c968ef-d1ee-45ac-bb26-25ec91958f11",
   "metadata": {},
   "source": [
    "### Create region lists"
   ]
  },
  {
   "cell_type": "code",
   "execution_count": 18,
   "id": "4b4fe541-3c34-47d9-8cef-9d3039580f77",
   "metadata": {},
   "outputs": [],
   "source": [
    "Northeast=['Maine','New Hampshire','Vermont','Massachusetts','Rhode Island','Connecticut','New York','Pennsylvania','New Jersey']"
   ]
  },
  {
   "cell_type": "code",
   "execution_count": 20,
   "id": "75e03ecf-bf0d-4afd-92f4-6f31a7794671",
   "metadata": {},
   "outputs": [],
   "source": [
    "Midwest=['Wisconsin','Michigan','Illinois','Indiana','Ohio','North Dakota','South Dakota','Nebraska','Kansas','Minnesota','Iowa','Missouri']"
   ]
  },
  {
   "cell_type": "code",
   "execution_count": 22,
   "id": "8949abc9-fa9b-403b-a06e-41541ac9f1c1",
   "metadata": {},
   "outputs": [],
   "source": [
    "South=['Delaware','Maryland','District of Columbia','Virginia','West Virginia','North Carolina','South Carolina','Georgia','Florida','Kentucky','Tennessee','Mississippi','Alabama','Oklahoma','Texas','Arkansas','Louisiana']"
   ]
  },
  {
   "cell_type": "code",
   "execution_count": 24,
   "id": "d43062fd-7710-47c9-b4fb-33b38e07b2ac",
   "metadata": {},
   "outputs": [],
   "source": [
    "West=['Idaho','Montana','Wyoming','Nevada','Utah','Colorado','Arizona','New Mexico','Alaska','Washington','Oregon','California','Hawaii']"
   ]
  },
  {
   "cell_type": "markdown",
   "id": "b92b3404-9c4a-4201-85b7-79f34b76b51a",
   "metadata": {},
   "source": [
    "### Create region columns"
   ]
  },
  {
   "cell_type": "code",
   "execution_count": 27,
   "id": "7719a2e4-6f7e-4d57-aa5a-db54d594319b",
   "metadata": {},
   "outputs": [],
   "source": [
    "big_ords_prods_agg_cust.loc[big_ords_prods_agg_cust['state'].isin(Northeast),'region']='Northeast'"
   ]
  },
  {
   "cell_type": "code",
   "execution_count": 28,
   "id": "b12cde4e-b375-40b2-a531-e66d150291a4",
   "metadata": {},
   "outputs": [],
   "source": [
    "big_ords_prods_agg_cust.loc[big_ords_prods_agg_cust['state'].isin(Midwest),'region']='Midwest'"
   ]
  },
  {
   "cell_type": "code",
   "execution_count": 29,
   "id": "7945376d-9596-470c-9245-5825669438ee",
   "metadata": {},
   "outputs": [],
   "source": [
    "big_ords_prods_agg_cust.loc[big_ords_prods_agg_cust['state'].isin(South),'region']='South'"
   ]
  },
  {
   "cell_type": "code",
   "execution_count": 30,
   "id": "a6b96f08-00e4-4103-aac4-f20a45228c6f",
   "metadata": {},
   "outputs": [],
   "source": [
    "big_ords_prods_agg_cust.loc[big_ords_prods_agg_cust['state'].isin(West),'region']='West'"
   ]
  },
  {
   "cell_type": "code",
   "execution_count": 34,
   "id": "c121b76d-92df-4231-a75b-681a09e2b6dd",
   "metadata": {},
   "outputs": [
    {
     "data": {
      "text/html": [
       "<div>\n",
       "<style scoped>\n",
       "    .dataframe tbody tr th:only-of-type {\n",
       "        vertical-align: middle;\n",
       "    }\n",
       "\n",
       "    .dataframe tbody tr th {\n",
       "        vertical-align: top;\n",
       "    }\n",
       "\n",
       "    .dataframe thead th {\n",
       "        text-align: right;\n",
       "    }\n",
       "</style>\n",
       "<table border=\"1\" class=\"dataframe\">\n",
       "  <thead>\n",
       "    <tr style=\"text-align: right;\">\n",
       "      <th></th>\n",
       "      <th>product_id</th>\n",
       "      <th>product_name</th>\n",
       "      <th>aisle_id</th>\n",
       "      <th>department_id</th>\n",
       "      <th>prices</th>\n",
       "      <th>order_id</th>\n",
       "      <th>user_id</th>\n",
       "      <th>eval_set</th>\n",
       "      <th>order_number</th>\n",
       "      <th>order_dow</th>\n",
       "      <th>...</th>\n",
       "      <th>last_name</th>\n",
       "      <th>gender</th>\n",
       "      <th>state</th>\n",
       "      <th>age</th>\n",
       "      <th>date_joined</th>\n",
       "      <th>n_dependants</th>\n",
       "      <th>marital_status</th>\n",
       "      <th>income</th>\n",
       "      <th>_merge</th>\n",
       "      <th>region</th>\n",
       "    </tr>\n",
       "  </thead>\n",
       "  <tbody>\n",
       "    <tr>\n",
       "      <th>0</th>\n",
       "      <td>1</td>\n",
       "      <td>Chocolate Sandwich Cookies</td>\n",
       "      <td>61</td>\n",
       "      <td>19</td>\n",
       "      <td>5.8</td>\n",
       "      <td>3139998</td>\n",
       "      <td>138</td>\n",
       "      <td>prior</td>\n",
       "      <td>28</td>\n",
       "      <td>6</td>\n",
       "      <td>...</td>\n",
       "      <td>Cox</td>\n",
       "      <td>Male</td>\n",
       "      <td>Minnesota</td>\n",
       "      <td>81</td>\n",
       "      <td>8/1/2019</td>\n",
       "      <td>1</td>\n",
       "      <td>married</td>\n",
       "      <td>49620</td>\n",
       "      <td>both</td>\n",
       "      <td>Midwest</td>\n",
       "    </tr>\n",
       "    <tr>\n",
       "      <th>1</th>\n",
       "      <td>1</td>\n",
       "      <td>Chocolate Sandwich Cookies</td>\n",
       "      <td>61</td>\n",
       "      <td>19</td>\n",
       "      <td>5.8</td>\n",
       "      <td>389851</td>\n",
       "      <td>709</td>\n",
       "      <td>prior</td>\n",
       "      <td>2</td>\n",
       "      <td>0</td>\n",
       "      <td>...</td>\n",
       "      <td>Glass</td>\n",
       "      <td>Female</td>\n",
       "      <td>Vermont</td>\n",
       "      <td>66</td>\n",
       "      <td>6/16/2018</td>\n",
       "      <td>2</td>\n",
       "      <td>married</td>\n",
       "      <td>158302</td>\n",
       "      <td>both</td>\n",
       "      <td>Northeast</td>\n",
       "    </tr>\n",
       "    <tr>\n",
       "      <th>2</th>\n",
       "      <td>1</td>\n",
       "      <td>Chocolate Sandwich Cookies</td>\n",
       "      <td>61</td>\n",
       "      <td>19</td>\n",
       "      <td>5.8</td>\n",
       "      <td>1813452</td>\n",
       "      <td>764</td>\n",
       "      <td>prior</td>\n",
       "      <td>3</td>\n",
       "      <td>4</td>\n",
       "      <td>...</td>\n",
       "      <td>Myers</td>\n",
       "      <td>Female</td>\n",
       "      <td>Wisconsin</td>\n",
       "      <td>40</td>\n",
       "      <td>2/9/2020</td>\n",
       "      <td>3</td>\n",
       "      <td>married</td>\n",
       "      <td>31308</td>\n",
       "      <td>both</td>\n",
       "      <td>Midwest</td>\n",
       "    </tr>\n",
       "    <tr>\n",
       "      <th>3</th>\n",
       "      <td>1</td>\n",
       "      <td>Chocolate Sandwich Cookies</td>\n",
       "      <td>61</td>\n",
       "      <td>19</td>\n",
       "      <td>5.8</td>\n",
       "      <td>1290456</td>\n",
       "      <td>910</td>\n",
       "      <td>prior</td>\n",
       "      <td>12</td>\n",
       "      <td>3</td>\n",
       "      <td>...</td>\n",
       "      <td>Trejo</td>\n",
       "      <td>Female</td>\n",
       "      <td>Tennessee</td>\n",
       "      <td>65</td>\n",
       "      <td>7/25/2019</td>\n",
       "      <td>0</td>\n",
       "      <td>divorced/widowed</td>\n",
       "      <td>44856</td>\n",
       "      <td>both</td>\n",
       "      <td>South</td>\n",
       "    </tr>\n",
       "    <tr>\n",
       "      <th>4</th>\n",
       "      <td>1</td>\n",
       "      <td>Chocolate Sandwich Cookies</td>\n",
       "      <td>61</td>\n",
       "      <td>19</td>\n",
       "      <td>5.8</td>\n",
       "      <td>369558</td>\n",
       "      <td>1052</td>\n",
       "      <td>prior</td>\n",
       "      <td>10</td>\n",
       "      <td>1</td>\n",
       "      <td>...</td>\n",
       "      <td>Avalos</td>\n",
       "      <td>Male</td>\n",
       "      <td>Oregon</td>\n",
       "      <td>72</td>\n",
       "      <td>3/30/2018</td>\n",
       "      <td>1</td>\n",
       "      <td>married</td>\n",
       "      <td>153843</td>\n",
       "      <td>both</td>\n",
       "      <td>West</td>\n",
       "    </tr>\n",
       "    <tr>\n",
       "      <th>5</th>\n",
       "      <td>1</td>\n",
       "      <td>Chocolate Sandwich Cookies</td>\n",
       "      <td>61</td>\n",
       "      <td>19</td>\n",
       "      <td>5.8</td>\n",
       "      <td>589712</td>\n",
       "      <td>1052</td>\n",
       "      <td>prior</td>\n",
       "      <td>15</td>\n",
       "      <td>1</td>\n",
       "      <td>...</td>\n",
       "      <td>Avalos</td>\n",
       "      <td>Male</td>\n",
       "      <td>Oregon</td>\n",
       "      <td>72</td>\n",
       "      <td>3/30/2018</td>\n",
       "      <td>1</td>\n",
       "      <td>married</td>\n",
       "      <td>153843</td>\n",
       "      <td>both</td>\n",
       "      <td>West</td>\n",
       "    </tr>\n",
       "    <tr>\n",
       "      <th>6</th>\n",
       "      <td>1</td>\n",
       "      <td>Chocolate Sandwich Cookies</td>\n",
       "      <td>61</td>\n",
       "      <td>19</td>\n",
       "      <td>5.8</td>\n",
       "      <td>1798115</td>\n",
       "      <td>1379</td>\n",
       "      <td>prior</td>\n",
       "      <td>1</td>\n",
       "      <td>5</td>\n",
       "      <td>...</td>\n",
       "      <td>Howard</td>\n",
       "      <td>Male</td>\n",
       "      <td>Alaska</td>\n",
       "      <td>61</td>\n",
       "      <td>3/30/2020</td>\n",
       "      <td>1</td>\n",
       "      <td>married</td>\n",
       "      <td>42573</td>\n",
       "      <td>both</td>\n",
       "      <td>West</td>\n",
       "    </tr>\n",
       "    <tr>\n",
       "      <th>7</th>\n",
       "      <td>1</td>\n",
       "      <td>Chocolate Sandwich Cookies</td>\n",
       "      <td>61</td>\n",
       "      <td>19</td>\n",
       "      <td>5.8</td>\n",
       "      <td>1727826</td>\n",
       "      <td>1480</td>\n",
       "      <td>prior</td>\n",
       "      <td>38</td>\n",
       "      <td>4</td>\n",
       "      <td>...</td>\n",
       "      <td>Franklin</td>\n",
       "      <td>Male</td>\n",
       "      <td>Alabama</td>\n",
       "      <td>19</td>\n",
       "      <td>12/28/2019</td>\n",
       "      <td>1</td>\n",
       "      <td>living with parents and siblings</td>\n",
       "      <td>32283</td>\n",
       "      <td>both</td>\n",
       "      <td>South</td>\n",
       "    </tr>\n",
       "    <tr>\n",
       "      <th>8</th>\n",
       "      <td>1</td>\n",
       "      <td>Chocolate Sandwich Cookies</td>\n",
       "      <td>61</td>\n",
       "      <td>19</td>\n",
       "      <td>5.8</td>\n",
       "      <td>2694698</td>\n",
       "      <td>1480</td>\n",
       "      <td>prior</td>\n",
       "      <td>39</td>\n",
       "      <td>2</td>\n",
       "      <td>...</td>\n",
       "      <td>Franklin</td>\n",
       "      <td>Male</td>\n",
       "      <td>Alabama</td>\n",
       "      <td>19</td>\n",
       "      <td>12/28/2019</td>\n",
       "      <td>1</td>\n",
       "      <td>living with parents and siblings</td>\n",
       "      <td>32283</td>\n",
       "      <td>both</td>\n",
       "      <td>South</td>\n",
       "    </tr>\n",
       "    <tr>\n",
       "      <th>9</th>\n",
       "      <td>1</td>\n",
       "      <td>Chocolate Sandwich Cookies</td>\n",
       "      <td>61</td>\n",
       "      <td>19</td>\n",
       "      <td>5.8</td>\n",
       "      <td>186761</td>\n",
       "      <td>1494</td>\n",
       "      <td>prior</td>\n",
       "      <td>7</td>\n",
       "      <td>2</td>\n",
       "      <td>...</td>\n",
       "      <td>Hull</td>\n",
       "      <td>Female</td>\n",
       "      <td>Indiana</td>\n",
       "      <td>78</td>\n",
       "      <td>6/29/2017</td>\n",
       "      <td>1</td>\n",
       "      <td>married</td>\n",
       "      <td>49504</td>\n",
       "      <td>both</td>\n",
       "      <td>Midwest</td>\n",
       "    </tr>\n",
       "    <tr>\n",
       "      <th>10</th>\n",
       "      <td>1</td>\n",
       "      <td>Chocolate Sandwich Cookies</td>\n",
       "      <td>61</td>\n",
       "      <td>19</td>\n",
       "      <td>5.8</td>\n",
       "      <td>317121</td>\n",
       "      <td>1494</td>\n",
       "      <td>prior</td>\n",
       "      <td>9</td>\n",
       "      <td>5</td>\n",
       "      <td>...</td>\n",
       "      <td>Hull</td>\n",
       "      <td>Female</td>\n",
       "      <td>Indiana</td>\n",
       "      <td>78</td>\n",
       "      <td>6/29/2017</td>\n",
       "      <td>1</td>\n",
       "      <td>married</td>\n",
       "      <td>49504</td>\n",
       "      <td>both</td>\n",
       "      <td>Midwest</td>\n",
       "    </tr>\n",
       "    <tr>\n",
       "      <th>11</th>\n",
       "      <td>1</td>\n",
       "      <td>Chocolate Sandwich Cookies</td>\n",
       "      <td>61</td>\n",
       "      <td>19</td>\n",
       "      <td>5.8</td>\n",
       "      <td>200390</td>\n",
       "      <td>1540</td>\n",
       "      <td>prior</td>\n",
       "      <td>4</td>\n",
       "      <td>2</td>\n",
       "      <td>...</td>\n",
       "      <td>Goodman</td>\n",
       "      <td>Male</td>\n",
       "      <td>Florida</td>\n",
       "      <td>76</td>\n",
       "      <td>11/24/2017</td>\n",
       "      <td>3</td>\n",
       "      <td>married</td>\n",
       "      <td>53340</td>\n",
       "      <td>both</td>\n",
       "      <td>South</td>\n",
       "    </tr>\n",
       "    <tr>\n",
       "      <th>12</th>\n",
       "      <td>1</td>\n",
       "      <td>Chocolate Sandwich Cookies</td>\n",
       "      <td>61</td>\n",
       "      <td>19</td>\n",
       "      <td>5.8</td>\n",
       "      <td>2920553</td>\n",
       "      <td>1540</td>\n",
       "      <td>prior</td>\n",
       "      <td>6</td>\n",
       "      <td>1</td>\n",
       "      <td>...</td>\n",
       "      <td>Goodman</td>\n",
       "      <td>Male</td>\n",
       "      <td>Florida</td>\n",
       "      <td>76</td>\n",
       "      <td>11/24/2017</td>\n",
       "      <td>3</td>\n",
       "      <td>married</td>\n",
       "      <td>53340</td>\n",
       "      <td>both</td>\n",
       "      <td>South</td>\n",
       "    </tr>\n",
       "    <tr>\n",
       "      <th>13</th>\n",
       "      <td>1</td>\n",
       "      <td>Chocolate Sandwich Cookies</td>\n",
       "      <td>61</td>\n",
       "      <td>19</td>\n",
       "      <td>5.8</td>\n",
       "      <td>2813049</td>\n",
       "      <td>1540</td>\n",
       "      <td>prior</td>\n",
       "      <td>7</td>\n",
       "      <td>2</td>\n",
       "      <td>...</td>\n",
       "      <td>Goodman</td>\n",
       "      <td>Male</td>\n",
       "      <td>Florida</td>\n",
       "      <td>76</td>\n",
       "      <td>11/24/2017</td>\n",
       "      <td>3</td>\n",
       "      <td>married</td>\n",
       "      <td>53340</td>\n",
       "      <td>both</td>\n",
       "      <td>South</td>\n",
       "    </tr>\n",
       "    <tr>\n",
       "      <th>14</th>\n",
       "      <td>1</td>\n",
       "      <td>Chocolate Sandwich Cookies</td>\n",
       "      <td>61</td>\n",
       "      <td>19</td>\n",
       "      <td>5.8</td>\n",
       "      <td>2365998</td>\n",
       "      <td>1540</td>\n",
       "      <td>prior</td>\n",
       "      <td>8</td>\n",
       "      <td>1</td>\n",
       "      <td>...</td>\n",
       "      <td>Goodman</td>\n",
       "      <td>Male</td>\n",
       "      <td>Florida</td>\n",
       "      <td>76</td>\n",
       "      <td>11/24/2017</td>\n",
       "      <td>3</td>\n",
       "      <td>married</td>\n",
       "      <td>53340</td>\n",
       "      <td>both</td>\n",
       "      <td>South</td>\n",
       "    </tr>\n",
       "    <tr>\n",
       "      <th>15</th>\n",
       "      <td>1</td>\n",
       "      <td>Chocolate Sandwich Cookies</td>\n",
       "      <td>61</td>\n",
       "      <td>19</td>\n",
       "      <td>5.8</td>\n",
       "      <td>1604797</td>\n",
       "      <td>1540</td>\n",
       "      <td>prior</td>\n",
       "      <td>9</td>\n",
       "      <td>1</td>\n",
       "      <td>...</td>\n",
       "      <td>Goodman</td>\n",
       "      <td>Male</td>\n",
       "      <td>Florida</td>\n",
       "      <td>76</td>\n",
       "      <td>11/24/2017</td>\n",
       "      <td>3</td>\n",
       "      <td>married</td>\n",
       "      <td>53340</td>\n",
       "      <td>both</td>\n",
       "      <td>South</td>\n",
       "    </tr>\n",
       "    <tr>\n",
       "      <th>16</th>\n",
       "      <td>1</td>\n",
       "      <td>Chocolate Sandwich Cookies</td>\n",
       "      <td>61</td>\n",
       "      <td>19</td>\n",
       "      <td>5.8</td>\n",
       "      <td>2799665</td>\n",
       "      <td>1540</td>\n",
       "      <td>prior</td>\n",
       "      <td>14</td>\n",
       "      <td>1</td>\n",
       "      <td>...</td>\n",
       "      <td>Goodman</td>\n",
       "      <td>Male</td>\n",
       "      <td>Florida</td>\n",
       "      <td>76</td>\n",
       "      <td>11/24/2017</td>\n",
       "      <td>3</td>\n",
       "      <td>married</td>\n",
       "      <td>53340</td>\n",
       "      <td>both</td>\n",
       "      <td>South</td>\n",
       "    </tr>\n",
       "    <tr>\n",
       "      <th>17</th>\n",
       "      <td>1</td>\n",
       "      <td>Chocolate Sandwich Cookies</td>\n",
       "      <td>61</td>\n",
       "      <td>19</td>\n",
       "      <td>5.8</td>\n",
       "      <td>2228851</td>\n",
       "      <td>1540</td>\n",
       "      <td>prior</td>\n",
       "      <td>15</td>\n",
       "      <td>1</td>\n",
       "      <td>...</td>\n",
       "      <td>Goodman</td>\n",
       "      <td>Male</td>\n",
       "      <td>Florida</td>\n",
       "      <td>76</td>\n",
       "      <td>11/24/2017</td>\n",
       "      <td>3</td>\n",
       "      <td>married</td>\n",
       "      <td>53340</td>\n",
       "      <td>both</td>\n",
       "      <td>South</td>\n",
       "    </tr>\n",
       "    <tr>\n",
       "      <th>18</th>\n",
       "      <td>1</td>\n",
       "      <td>Chocolate Sandwich Cookies</td>\n",
       "      <td>61</td>\n",
       "      <td>19</td>\n",
       "      <td>5.8</td>\n",
       "      <td>2337422</td>\n",
       "      <td>1540</td>\n",
       "      <td>prior</td>\n",
       "      <td>18</td>\n",
       "      <td>0</td>\n",
       "      <td>...</td>\n",
       "      <td>Goodman</td>\n",
       "      <td>Male</td>\n",
       "      <td>Florida</td>\n",
       "      <td>76</td>\n",
       "      <td>11/24/2017</td>\n",
       "      <td>3</td>\n",
       "      <td>married</td>\n",
       "      <td>53340</td>\n",
       "      <td>both</td>\n",
       "      <td>South</td>\n",
       "    </tr>\n",
       "    <tr>\n",
       "      <th>19</th>\n",
       "      <td>1</td>\n",
       "      <td>Chocolate Sandwich Cookies</td>\n",
       "      <td>61</td>\n",
       "      <td>19</td>\n",
       "      <td>5.8</td>\n",
       "      <td>2699008</td>\n",
       "      <td>1540</td>\n",
       "      <td>prior</td>\n",
       "      <td>19</td>\n",
       "      <td>0</td>\n",
       "      <td>...</td>\n",
       "      <td>Goodman</td>\n",
       "      <td>Male</td>\n",
       "      <td>Florida</td>\n",
       "      <td>76</td>\n",
       "      <td>11/24/2017</td>\n",
       "      <td>3</td>\n",
       "      <td>married</td>\n",
       "      <td>53340</td>\n",
       "      <td>both</td>\n",
       "      <td>South</td>\n",
       "    </tr>\n",
       "  </tbody>\n",
       "</table>\n",
       "<p>20 rows × 35 columns</p>\n",
       "</div>"
      ],
      "text/plain": [
       "    product_id                product_name  aisle_id  department_id  prices  \\\n",
       "0            1  Chocolate Sandwich Cookies        61             19     5.8   \n",
       "1            1  Chocolate Sandwich Cookies        61             19     5.8   \n",
       "2            1  Chocolate Sandwich Cookies        61             19     5.8   \n",
       "3            1  Chocolate Sandwich Cookies        61             19     5.8   \n",
       "4            1  Chocolate Sandwich Cookies        61             19     5.8   \n",
       "5            1  Chocolate Sandwich Cookies        61             19     5.8   \n",
       "6            1  Chocolate Sandwich Cookies        61             19     5.8   \n",
       "7            1  Chocolate Sandwich Cookies        61             19     5.8   \n",
       "8            1  Chocolate Sandwich Cookies        61             19     5.8   \n",
       "9            1  Chocolate Sandwich Cookies        61             19     5.8   \n",
       "10           1  Chocolate Sandwich Cookies        61             19     5.8   \n",
       "11           1  Chocolate Sandwich Cookies        61             19     5.8   \n",
       "12           1  Chocolate Sandwich Cookies        61             19     5.8   \n",
       "13           1  Chocolate Sandwich Cookies        61             19     5.8   \n",
       "14           1  Chocolate Sandwich Cookies        61             19     5.8   \n",
       "15           1  Chocolate Sandwich Cookies        61             19     5.8   \n",
       "16           1  Chocolate Sandwich Cookies        61             19     5.8   \n",
       "17           1  Chocolate Sandwich Cookies        61             19     5.8   \n",
       "18           1  Chocolate Sandwich Cookies        61             19     5.8   \n",
       "19           1  Chocolate Sandwich Cookies        61             19     5.8   \n",
       "\n",
       "    order_id  user_id eval_set  order_number  order_dow  ...  last_name  \\\n",
       "0    3139998      138    prior            28          6  ...        Cox   \n",
       "1     389851      709    prior             2          0  ...      Glass   \n",
       "2    1813452      764    prior             3          4  ...      Myers   \n",
       "3    1290456      910    prior            12          3  ...      Trejo   \n",
       "4     369558     1052    prior            10          1  ...     Avalos   \n",
       "5     589712     1052    prior            15          1  ...     Avalos   \n",
       "6    1798115     1379    prior             1          5  ...     Howard   \n",
       "7    1727826     1480    prior            38          4  ...   Franklin   \n",
       "8    2694698     1480    prior            39          2  ...   Franklin   \n",
       "9     186761     1494    prior             7          2  ...       Hull   \n",
       "10    317121     1494    prior             9          5  ...       Hull   \n",
       "11    200390     1540    prior             4          2  ...    Goodman   \n",
       "12   2920553     1540    prior             6          1  ...    Goodman   \n",
       "13   2813049     1540    prior             7          2  ...    Goodman   \n",
       "14   2365998     1540    prior             8          1  ...    Goodman   \n",
       "15   1604797     1540    prior             9          1  ...    Goodman   \n",
       "16   2799665     1540    prior            14          1  ...    Goodman   \n",
       "17   2228851     1540    prior            15          1  ...    Goodman   \n",
       "18   2337422     1540    prior            18          0  ...    Goodman   \n",
       "19   2699008     1540    prior            19          0  ...    Goodman   \n",
       "\n",
       "    gender      state  age date_joined n_dependants  \\\n",
       "0     Male  Minnesota   81    8/1/2019            1   \n",
       "1   Female    Vermont   66   6/16/2018            2   \n",
       "2   Female  Wisconsin   40    2/9/2020            3   \n",
       "3   Female  Tennessee   65   7/25/2019            0   \n",
       "4     Male     Oregon   72   3/30/2018            1   \n",
       "5     Male     Oregon   72   3/30/2018            1   \n",
       "6     Male     Alaska   61   3/30/2020            1   \n",
       "7     Male    Alabama   19  12/28/2019            1   \n",
       "8     Male    Alabama   19  12/28/2019            1   \n",
       "9   Female    Indiana   78   6/29/2017            1   \n",
       "10  Female    Indiana   78   6/29/2017            1   \n",
       "11    Male    Florida   76  11/24/2017            3   \n",
       "12    Male    Florida   76  11/24/2017            3   \n",
       "13    Male    Florida   76  11/24/2017            3   \n",
       "14    Male    Florida   76  11/24/2017            3   \n",
       "15    Male    Florida   76  11/24/2017            3   \n",
       "16    Male    Florida   76  11/24/2017            3   \n",
       "17    Male    Florida   76  11/24/2017            3   \n",
       "18    Male    Florida   76  11/24/2017            3   \n",
       "19    Male    Florida   76  11/24/2017            3   \n",
       "\n",
       "                      marital_status  income  _merge     region  \n",
       "0                            married   49620    both    Midwest  \n",
       "1                            married  158302    both  Northeast  \n",
       "2                            married   31308    both    Midwest  \n",
       "3                   divorced/widowed   44856    both      South  \n",
       "4                            married  153843    both       West  \n",
       "5                            married  153843    both       West  \n",
       "6                            married   42573    both       West  \n",
       "7   living with parents and siblings   32283    both      South  \n",
       "8   living with parents and siblings   32283    both      South  \n",
       "9                            married   49504    both    Midwest  \n",
       "10                           married   49504    both    Midwest  \n",
       "11                           married   53340    both      South  \n",
       "12                           married   53340    both      South  \n",
       "13                           married   53340    both      South  \n",
       "14                           married   53340    both      South  \n",
       "15                           married   53340    both      South  \n",
       "16                           married   53340    both      South  \n",
       "17                           married   53340    both      South  \n",
       "18                           married   53340    both      South  \n",
       "19                           married   53340    both      South  \n",
       "\n",
       "[20 rows x 35 columns]"
      ]
     },
     "execution_count": 34,
     "metadata": {},
     "output_type": "execute_result"
    }
   ],
   "source": [
    "big_ords_prods_agg_cust.head(20)"
   ]
  },
  {
   "cell_type": "code",
   "execution_count": 37,
   "id": "bfde946f-f49b-43a3-b796-bd14e1d78b0d",
   "metadata": {},
   "outputs": [
    {
     "data": {
      "text/plain": [
       "region\n",
       "South        6477033\n",
       "West         4975600\n",
       "Midwest      4559382\n",
       "Northeast    3432650\n",
       "Name: count, dtype: int64"
      ]
     },
     "execution_count": 37,
     "metadata": {},
     "output_type": "execute_result"
    }
   ],
   "source": [
    "big_ords_prods_agg_cust['region'].value_counts(dropna=False)"
   ]
  },
  {
   "cell_type": "code",
   "execution_count": 39,
   "id": "31bdb171-b7fd-4e83-9d69-bd0b0891b40b",
   "metadata": {},
   "outputs": [],
   "source": [
    "region_spending_crosstab=pd.crosstab(big_ords_prods_agg_cust['region'],big_ords_prods_agg_cust['spending_flag'],dropna=False)"
   ]
  },
  {
   "cell_type": "code",
   "execution_count": 40,
   "id": "4de5cb50-7c51-4138-be8e-57477f7a309b",
   "metadata": {},
   "outputs": [
    {
     "data": {
      "text/html": [
       "<div>\n",
       "<style scoped>\n",
       "    .dataframe tbody tr th:only-of-type {\n",
       "        vertical-align: middle;\n",
       "    }\n",
       "\n",
       "    .dataframe tbody tr th {\n",
       "        vertical-align: top;\n",
       "    }\n",
       "\n",
       "    .dataframe thead th {\n",
       "        text-align: right;\n",
       "    }\n",
       "</style>\n",
       "<table border=\"1\" class=\"dataframe\">\n",
       "  <thead>\n",
       "    <tr style=\"text-align: right;\">\n",
       "      <th>spending_flag</th>\n",
       "      <th>High spender</th>\n",
       "      <th>Low spender</th>\n",
       "    </tr>\n",
       "    <tr>\n",
       "      <th>region</th>\n",
       "      <th></th>\n",
       "      <th></th>\n",
       "    </tr>\n",
       "  </thead>\n",
       "  <tbody>\n",
       "    <tr>\n",
       "      <th>Midwest</th>\n",
       "      <td>93581</td>\n",
       "      <td>4465801</td>\n",
       "    </tr>\n",
       "    <tr>\n",
       "      <th>Northeast</th>\n",
       "      <td>64980</td>\n",
       "      <td>3367670</td>\n",
       "    </tr>\n",
       "    <tr>\n",
       "      <th>South</th>\n",
       "      <td>125584</td>\n",
       "      <td>6351449</td>\n",
       "    </tr>\n",
       "    <tr>\n",
       "      <th>West</th>\n",
       "      <td>96023</td>\n",
       "      <td>4879577</td>\n",
       "    </tr>\n",
       "  </tbody>\n",
       "</table>\n",
       "</div>"
      ],
      "text/plain": [
       "spending_flag  High spender  Low spender\n",
       "region                                  \n",
       "Midwest               93581      4465801\n",
       "Northeast             64980      3367670\n",
       "South                125584      6351449\n",
       "West                  96023      4879577"
      ]
     },
     "execution_count": 40,
     "metadata": {},
     "output_type": "execute_result"
    }
   ],
   "source": [
    "region_spending_crosstab"
   ]
  },
  {
   "cell_type": "code",
   "execution_count": 41,
   "id": "e15f46b7-6b03-44c7-b070-d632ff0977f5",
   "metadata": {},
   "outputs": [
    {
     "data": {
      "image/png": "[encoded data removed]",
      "text/plain": [
       "<Figure size 640x480 with 1 Axes>"
      ]
     },
     "metadata": {},
     "output_type": "display_data"
    }
   ],
   "source": [
    "bar_spending_flag=region_spending_crosstab.plot.bar(color=['teal','black'])"
   ]
  },
  {
   "cell_type": "markdown",
   "id": "01edfa3d-c929-4522-b78a-db816fcd6403",
   "metadata": {},
   "source": [
    "Across all regions the vast majority of spenders fall into the \"Low Spender\" category."
   ]
  },
  {
   "cell_type": "code",
   "execution_count": 43,
   "id": "09dff275-0c6f-4615-b9a0-c53838a9639b",
   "metadata": {},
   "outputs": [],
   "source": [
    "bar_spending_flag.figure.savefig(os.path.join(path,'04 Analysis','Visualizations','bar_spending_flag.png'))"
   ]
  },
  {
   "cell_type": "markdown",
   "id": "0c845b9f-0c48-4d89-ac89-12cff14cf901",
   "metadata": {},
   "source": [
    "## 4. Create an exclusion flag for low-activity customers (customers with less than 5 orders) and exclude them from the data."
   ]
  },
  {
   "cell_type": "code",
   "execution_count": 45,
   "id": "d2c9515a-0f8b-4085-98c6-e55f821869dc",
   "metadata": {},
   "outputs": [],
   "source": [
    "big_ords_prods_agg_cust.loc[big_ords_prods_agg_cust['max_order']>=5,'customer_activity_flag']='High Activity'"
   ]
  },
  {
   "cell_type": "code",
   "execution_count": 46,
   "id": "47cddbe7-db65-4385-b9d0-3eefe59c529f",
   "metadata": {},
   "outputs": [],
   "source": [
    "big_ords_prods_agg_cust.loc[big_ords_prods_agg_cust['max_order']<5,'customer_activity_flag']='Low Activity'"
   ]
  },
  {
   "cell_type": "code",
   "execution_count": 47,
   "id": "82993d30-7758-47de-8f03-092ccaf92776",
   "metadata": {},
   "outputs": [
    {
     "data": {
      "text/html": [
       "<div>\n",
       "<style scoped>\n",
       "    .dataframe tbody tr th:only-of-type {\n",
       "        vertical-align: middle;\n",
       "    }\n",
       "\n",
       "    .dataframe tbody tr th {\n",
       "        vertical-align: top;\n",
       "    }\n",
       "\n",
       "    .dataframe thead th {\n",
       "        text-align: right;\n",
       "    }\n",
       "</style>\n",
       "<table border=\"1\" class=\"dataframe\">\n",
       "  <thead>\n",
       "    <tr style=\"text-align: right;\">\n",
       "      <th></th>\n",
       "      <th>product_id</th>\n",
       "      <th>product_name</th>\n",
       "      <th>aisle_id</th>\n",
       "      <th>department_id</th>\n",
       "      <th>prices</th>\n",
       "      <th>order_id</th>\n",
       "      <th>user_id</th>\n",
       "      <th>eval_set</th>\n",
       "      <th>order_number</th>\n",
       "      <th>order_dow</th>\n",
       "      <th>...</th>\n",
       "      <th>gender</th>\n",
       "      <th>state</th>\n",
       "      <th>age</th>\n",
       "      <th>date_joined</th>\n",
       "      <th>n_dependants</th>\n",
       "      <th>marital_status</th>\n",
       "      <th>income</th>\n",
       "      <th>_merge</th>\n",
       "      <th>region</th>\n",
       "      <th>customer_activity_flag</th>\n",
       "    </tr>\n",
       "  </thead>\n",
       "  <tbody>\n",
       "    <tr>\n",
       "      <th>0</th>\n",
       "      <td>1</td>\n",
       "      <td>Chocolate Sandwich Cookies</td>\n",
       "      <td>61</td>\n",
       "      <td>19</td>\n",
       "      <td>5.8</td>\n",
       "      <td>3139998</td>\n",
       "      <td>138</td>\n",
       "      <td>prior</td>\n",
       "      <td>28</td>\n",
       "      <td>6</td>\n",
       "      <td>...</td>\n",
       "      <td>Male</td>\n",
       "      <td>Minnesota</td>\n",
       "      <td>81</td>\n",
       "      <td>8/1/2019</td>\n",
       "      <td>1</td>\n",
       "      <td>married</td>\n",
       "      <td>49620</td>\n",
       "      <td>both</td>\n",
       "      <td>Midwest</td>\n",
       "      <td>High Activity</td>\n",
       "    </tr>\n",
       "    <tr>\n",
       "      <th>1</th>\n",
       "      <td>1</td>\n",
       "      <td>Chocolate Sandwich Cookies</td>\n",
       "      <td>61</td>\n",
       "      <td>19</td>\n",
       "      <td>5.8</td>\n",
       "      <td>389851</td>\n",
       "      <td>709</td>\n",
       "      <td>prior</td>\n",
       "      <td>2</td>\n",
       "      <td>0</td>\n",
       "      <td>...</td>\n",
       "      <td>Female</td>\n",
       "      <td>Vermont</td>\n",
       "      <td>66</td>\n",
       "      <td>6/16/2018</td>\n",
       "      <td>2</td>\n",
       "      <td>married</td>\n",
       "      <td>158302</td>\n",
       "      <td>both</td>\n",
       "      <td>Northeast</td>\n",
       "      <td>High Activity</td>\n",
       "    </tr>\n",
       "    <tr>\n",
       "      <th>2</th>\n",
       "      <td>1</td>\n",
       "      <td>Chocolate Sandwich Cookies</td>\n",
       "      <td>61</td>\n",
       "      <td>19</td>\n",
       "      <td>5.8</td>\n",
       "      <td>1813452</td>\n",
       "      <td>764</td>\n",
       "      <td>prior</td>\n",
       "      <td>3</td>\n",
       "      <td>4</td>\n",
       "      <td>...</td>\n",
       "      <td>Female</td>\n",
       "      <td>Wisconsin</td>\n",
       "      <td>40</td>\n",
       "      <td>2/9/2020</td>\n",
       "      <td>3</td>\n",
       "      <td>married</td>\n",
       "      <td>31308</td>\n",
       "      <td>both</td>\n",
       "      <td>Midwest</td>\n",
       "      <td>Low Activity</td>\n",
       "    </tr>\n",
       "    <tr>\n",
       "      <th>3</th>\n",
       "      <td>1</td>\n",
       "      <td>Chocolate Sandwich Cookies</td>\n",
       "      <td>61</td>\n",
       "      <td>19</td>\n",
       "      <td>5.8</td>\n",
       "      <td>1290456</td>\n",
       "      <td>910</td>\n",
       "      <td>prior</td>\n",
       "      <td>12</td>\n",
       "      <td>3</td>\n",
       "      <td>...</td>\n",
       "      <td>Female</td>\n",
       "      <td>Tennessee</td>\n",
       "      <td>65</td>\n",
       "      <td>7/25/2019</td>\n",
       "      <td>0</td>\n",
       "      <td>divorced/widowed</td>\n",
       "      <td>44856</td>\n",
       "      <td>both</td>\n",
       "      <td>South</td>\n",
       "      <td>High Activity</td>\n",
       "    </tr>\n",
       "    <tr>\n",
       "      <th>4</th>\n",
       "      <td>1</td>\n",
       "      <td>Chocolate Sandwich Cookies</td>\n",
       "      <td>61</td>\n",
       "      <td>19</td>\n",
       "      <td>5.8</td>\n",
       "      <td>369558</td>\n",
       "      <td>1052</td>\n",
       "      <td>prior</td>\n",
       "      <td>10</td>\n",
       "      <td>1</td>\n",
       "      <td>...</td>\n",
       "      <td>Male</td>\n",
       "      <td>Oregon</td>\n",
       "      <td>72</td>\n",
       "      <td>3/30/2018</td>\n",
       "      <td>1</td>\n",
       "      <td>married</td>\n",
       "      <td>153843</td>\n",
       "      <td>both</td>\n",
       "      <td>West</td>\n",
       "      <td>High Activity</td>\n",
       "    </tr>\n",
       "    <tr>\n",
       "      <th>5</th>\n",
       "      <td>1</td>\n",
       "      <td>Chocolate Sandwich Cookies</td>\n",
       "      <td>61</td>\n",
       "      <td>19</td>\n",
       "      <td>5.8</td>\n",
       "      <td>589712</td>\n",
       "      <td>1052</td>\n",
       "      <td>prior</td>\n",
       "      <td>15</td>\n",
       "      <td>1</td>\n",
       "      <td>...</td>\n",
       "      <td>Male</td>\n",
       "      <td>Oregon</td>\n",
       "      <td>72</td>\n",
       "      <td>3/30/2018</td>\n",
       "      <td>1</td>\n",
       "      <td>married</td>\n",
       "      <td>153843</td>\n",
       "      <td>both</td>\n",
       "      <td>West</td>\n",
       "      <td>High Activity</td>\n",
       "    </tr>\n",
       "    <tr>\n",
       "      <th>6</th>\n",
       "      <td>1</td>\n",
       "      <td>Chocolate Sandwich Cookies</td>\n",
       "      <td>61</td>\n",
       "      <td>19</td>\n",
       "      <td>5.8</td>\n",
       "      <td>1798115</td>\n",
       "      <td>1379</td>\n",
       "      <td>prior</td>\n",
       "      <td>1</td>\n",
       "      <td>5</td>\n",
       "      <td>...</td>\n",
       "      <td>Male</td>\n",
       "      <td>Alaska</td>\n",
       "      <td>61</td>\n",
       "      <td>3/30/2020</td>\n",
       "      <td>1</td>\n",
       "      <td>married</td>\n",
       "      <td>42573</td>\n",
       "      <td>both</td>\n",
       "      <td>West</td>\n",
       "      <td>High Activity</td>\n",
       "    </tr>\n",
       "    <tr>\n",
       "      <th>7</th>\n",
       "      <td>1</td>\n",
       "      <td>Chocolate Sandwich Cookies</td>\n",
       "      <td>61</td>\n",
       "      <td>19</td>\n",
       "      <td>5.8</td>\n",
       "      <td>1727826</td>\n",
       "      <td>1480</td>\n",
       "      <td>prior</td>\n",
       "      <td>38</td>\n",
       "      <td>4</td>\n",
       "      <td>...</td>\n",
       "      <td>Male</td>\n",
       "      <td>Alabama</td>\n",
       "      <td>19</td>\n",
       "      <td>12/28/2019</td>\n",
       "      <td>1</td>\n",
       "      <td>living with parents and siblings</td>\n",
       "      <td>32283</td>\n",
       "      <td>both</td>\n",
       "      <td>South</td>\n",
       "      <td>High Activity</td>\n",
       "    </tr>\n",
       "    <tr>\n",
       "      <th>8</th>\n",
       "      <td>1</td>\n",
       "      <td>Chocolate Sandwich Cookies</td>\n",
       "      <td>61</td>\n",
       "      <td>19</td>\n",
       "      <td>5.8</td>\n",
       "      <td>2694698</td>\n",
       "      <td>1480</td>\n",
       "      <td>prior</td>\n",
       "      <td>39</td>\n",
       "      <td>2</td>\n",
       "      <td>...</td>\n",
       "      <td>Male</td>\n",
       "      <td>Alabama</td>\n",
       "      <td>19</td>\n",
       "      <td>12/28/2019</td>\n",
       "      <td>1</td>\n",
       "      <td>living with parents and siblings</td>\n",
       "      <td>32283</td>\n",
       "      <td>both</td>\n",
       "      <td>South</td>\n",
       "      <td>High Activity</td>\n",
       "    </tr>\n",
       "    <tr>\n",
       "      <th>9</th>\n",
       "      <td>1</td>\n",
       "      <td>Chocolate Sandwich Cookies</td>\n",
       "      <td>61</td>\n",
       "      <td>19</td>\n",
       "      <td>5.8</td>\n",
       "      <td>186761</td>\n",
       "      <td>1494</td>\n",
       "      <td>prior</td>\n",
       "      <td>7</td>\n",
       "      <td>2</td>\n",
       "      <td>...</td>\n",
       "      <td>Female</td>\n",
       "      <td>Indiana</td>\n",
       "      <td>78</td>\n",
       "      <td>6/29/2017</td>\n",
       "      <td>1</td>\n",
       "      <td>married</td>\n",
       "      <td>49504</td>\n",
       "      <td>both</td>\n",
       "      <td>Midwest</td>\n",
       "      <td>High Activity</td>\n",
       "    </tr>\n",
       "    <tr>\n",
       "      <th>10</th>\n",
       "      <td>1</td>\n",
       "      <td>Chocolate Sandwich Cookies</td>\n",
       "      <td>61</td>\n",
       "      <td>19</td>\n",
       "      <td>5.8</td>\n",
       "      <td>317121</td>\n",
       "      <td>1494</td>\n",
       "      <td>prior</td>\n",
       "      <td>9</td>\n",
       "      <td>5</td>\n",
       "      <td>...</td>\n",
       "      <td>Female</td>\n",
       "      <td>Indiana</td>\n",
       "      <td>78</td>\n",
       "      <td>6/29/2017</td>\n",
       "      <td>1</td>\n",
       "      <td>married</td>\n",
       "      <td>49504</td>\n",
       "      <td>both</td>\n",
       "      <td>Midwest</td>\n",
       "      <td>High Activity</td>\n",
       "    </tr>\n",
       "    <tr>\n",
       "      <th>11</th>\n",
       "      <td>1</td>\n",
       "      <td>Chocolate Sandwich Cookies</td>\n",
       "      <td>61</td>\n",
       "      <td>19</td>\n",
       "      <td>5.8</td>\n",
       "      <td>200390</td>\n",
       "      <td>1540</td>\n",
       "      <td>prior</td>\n",
       "      <td>4</td>\n",
       "      <td>2</td>\n",
       "      <td>...</td>\n",
       "      <td>Male</td>\n",
       "      <td>Florida</td>\n",
       "      <td>76</td>\n",
       "      <td>11/24/2017</td>\n",
       "      <td>3</td>\n",
       "      <td>married</td>\n",
       "      <td>53340</td>\n",
       "      <td>both</td>\n",
       "      <td>South</td>\n",
       "      <td>High Activity</td>\n",
       "    </tr>\n",
       "    <tr>\n",
       "      <th>12</th>\n",
       "      <td>1</td>\n",
       "      <td>Chocolate Sandwich Cookies</td>\n",
       "      <td>61</td>\n",
       "      <td>19</td>\n",
       "      <td>5.8</td>\n",
       "      <td>2920553</td>\n",
       "      <td>1540</td>\n",
       "      <td>prior</td>\n",
       "      <td>6</td>\n",
       "      <td>1</td>\n",
       "      <td>...</td>\n",
       "      <td>Male</td>\n",
       "      <td>Florida</td>\n",
       "      <td>76</td>\n",
       "      <td>11/24/2017</td>\n",
       "      <td>3</td>\n",
       "      <td>married</td>\n",
       "      <td>53340</td>\n",
       "      <td>both</td>\n",
       "      <td>South</td>\n",
       "      <td>High Activity</td>\n",
       "    </tr>\n",
       "    <tr>\n",
       "      <th>13</th>\n",
       "      <td>1</td>\n",
       "      <td>Chocolate Sandwich Cookies</td>\n",
       "      <td>61</td>\n",
       "      <td>19</td>\n",
       "      <td>5.8</td>\n",
       "      <td>2813049</td>\n",
       "      <td>1540</td>\n",
       "      <td>prior</td>\n",
       "      <td>7</td>\n",
       "      <td>2</td>\n",
       "      <td>...</td>\n",
       "      <td>Male</td>\n",
       "      <td>Florida</td>\n",
       "      <td>76</td>\n",
       "      <td>11/24/2017</td>\n",
       "      <td>3</td>\n",
       "      <td>married</td>\n",
       "      <td>53340</td>\n",
       "      <td>both</td>\n",
       "      <td>South</td>\n",
       "      <td>High Activity</td>\n",
       "    </tr>\n",
       "    <tr>\n",
       "      <th>14</th>\n",
       "      <td>1</td>\n",
       "      <td>Chocolate Sandwich Cookies</td>\n",
       "      <td>61</td>\n",
       "      <td>19</td>\n",
       "      <td>5.8</td>\n",
       "      <td>2365998</td>\n",
       "      <td>1540</td>\n",
       "      <td>prior</td>\n",
       "      <td>8</td>\n",
       "      <td>1</td>\n",
       "      <td>...</td>\n",
       "      <td>Male</td>\n",
       "      <td>Florida</td>\n",
       "      <td>76</td>\n",
       "      <td>11/24/2017</td>\n",
       "      <td>3</td>\n",
       "      <td>married</td>\n",
       "      <td>53340</td>\n",
       "      <td>both</td>\n",
       "      <td>South</td>\n",
       "      <td>High Activity</td>\n",
       "    </tr>\n",
       "    <tr>\n",
       "      <th>15</th>\n",
       "      <td>1</td>\n",
       "      <td>Chocolate Sandwich Cookies</td>\n",
       "      <td>61</td>\n",
       "      <td>19</td>\n",
       "      <td>5.8</td>\n",
       "      <td>1604797</td>\n",
       "      <td>1540</td>\n",
       "      <td>prior</td>\n",
       "      <td>9</td>\n",
       "      <td>1</td>\n",
       "      <td>...</td>\n",
       "      <td>Male</td>\n",
       "      <td>Florida</td>\n",
       "      <td>76</td>\n",
       "      <td>11/24/2017</td>\n",
       "      <td>3</td>\n",
       "      <td>married</td>\n",
       "      <td>53340</td>\n",
       "      <td>both</td>\n",
       "      <td>South</td>\n",
       "      <td>High Activity</td>\n",
       "    </tr>\n",
       "    <tr>\n",
       "      <th>16</th>\n",
       "      <td>1</td>\n",
       "      <td>Chocolate Sandwich Cookies</td>\n",
       "      <td>61</td>\n",
       "      <td>19</td>\n",
       "      <td>5.8</td>\n",
       "      <td>2799665</td>\n",
       "      <td>1540</td>\n",
       "      <td>prior</td>\n",
       "      <td>14</td>\n",
       "      <td>1</td>\n",
       "      <td>...</td>\n",
       "      <td>Male</td>\n",
       "      <td>Florida</td>\n",
       "      <td>76</td>\n",
       "      <td>11/24/2017</td>\n",
       "      <td>3</td>\n",
       "      <td>married</td>\n",
       "      <td>53340</td>\n",
       "      <td>both</td>\n",
       "      <td>South</td>\n",
       "      <td>High Activity</td>\n",
       "    </tr>\n",
       "    <tr>\n",
       "      <th>17</th>\n",
       "      <td>1</td>\n",
       "      <td>Chocolate Sandwich Cookies</td>\n",
       "      <td>61</td>\n",
       "      <td>19</td>\n",
       "      <td>5.8</td>\n",
       "      <td>2228851</td>\n",
       "      <td>1540</td>\n",
       "      <td>prior</td>\n",
       "      <td>15</td>\n",
       "      <td>1</td>\n",
       "      <td>...</td>\n",
       "      <td>Male</td>\n",
       "      <td>Florida</td>\n",
       "      <td>76</td>\n",
       "      <td>11/24/2017</td>\n",
       "      <td>3</td>\n",
       "      <td>married</td>\n",
       "      <td>53340</td>\n",
       "      <td>both</td>\n",
       "      <td>South</td>\n",
       "      <td>High Activity</td>\n",
       "    </tr>\n",
       "    <tr>\n",
       "      <th>18</th>\n",
       "      <td>1</td>\n",
       "      <td>Chocolate Sandwich Cookies</td>\n",
       "      <td>61</td>\n",
       "      <td>19</td>\n",
       "      <td>5.8</td>\n",
       "      <td>2337422</td>\n",
       "      <td>1540</td>\n",
       "      <td>prior</td>\n",
       "      <td>18</td>\n",
       "      <td>0</td>\n",
       "      <td>...</td>\n",
       "      <td>Male</td>\n",
       "      <td>Florida</td>\n",
       "      <td>76</td>\n",
       "      <td>11/24/2017</td>\n",
       "      <td>3</td>\n",
       "      <td>married</td>\n",
       "      <td>53340</td>\n",
       "      <td>both</td>\n",
       "      <td>South</td>\n",
       "      <td>High Activity</td>\n",
       "    </tr>\n",
       "    <tr>\n",
       "      <th>19</th>\n",
       "      <td>1</td>\n",
       "      <td>Chocolate Sandwich Cookies</td>\n",
       "      <td>61</td>\n",
       "      <td>19</td>\n",
       "      <td>5.8</td>\n",
       "      <td>2699008</td>\n",
       "      <td>1540</td>\n",
       "      <td>prior</td>\n",
       "      <td>19</td>\n",
       "      <td>0</td>\n",
       "      <td>...</td>\n",
       "      <td>Male</td>\n",
       "      <td>Florida</td>\n",
       "      <td>76</td>\n",
       "      <td>11/24/2017</td>\n",
       "      <td>3</td>\n",
       "      <td>married</td>\n",
       "      <td>53340</td>\n",
       "      <td>both</td>\n",
       "      <td>South</td>\n",
       "      <td>High Activity</td>\n",
       "    </tr>\n",
       "  </tbody>\n",
       "</table>\n",
       "<p>20 rows × 36 columns</p>\n",
       "</div>"
      ],
      "text/plain": [
       "    product_id                product_name  aisle_id  department_id  prices  \\\n",
       "0            1  Chocolate Sandwich Cookies        61             19     5.8   \n",
       "1            1  Chocolate Sandwich Cookies        61             19     5.8   \n",
       "2            1  Chocolate Sandwich Cookies        61             19     5.8   \n",
       "3            1  Chocolate Sandwich Cookies        61             19     5.8   \n",
       "4            1  Chocolate Sandwich Cookies        61             19     5.8   \n",
       "5            1  Chocolate Sandwich Cookies        61             19     5.8   \n",
       "6            1  Chocolate Sandwich Cookies        61             19     5.8   \n",
       "7            1  Chocolate Sandwich Cookies        61             19     5.8   \n",
       "8            1  Chocolate Sandwich Cookies        61             19     5.8   \n",
       "9            1  Chocolate Sandwich Cookies        61             19     5.8   \n",
       "10           1  Chocolate Sandwich Cookies        61             19     5.8   \n",
       "11           1  Chocolate Sandwich Cookies        61             19     5.8   \n",
       "12           1  Chocolate Sandwich Cookies        61             19     5.8   \n",
       "13           1  Chocolate Sandwich Cookies        61             19     5.8   \n",
       "14           1  Chocolate Sandwich Cookies        61             19     5.8   \n",
       "15           1  Chocolate Sandwich Cookies        61             19     5.8   \n",
       "16           1  Chocolate Sandwich Cookies        61             19     5.8   \n",
       "17           1  Chocolate Sandwich Cookies        61             19     5.8   \n",
       "18           1  Chocolate Sandwich Cookies        61             19     5.8   \n",
       "19           1  Chocolate Sandwich Cookies        61             19     5.8   \n",
       "\n",
       "    order_id  user_id eval_set  order_number  order_dow  ...  gender  \\\n",
       "0    3139998      138    prior            28          6  ...    Male   \n",
       "1     389851      709    prior             2          0  ...  Female   \n",
       "2    1813452      764    prior             3          4  ...  Female   \n",
       "3    1290456      910    prior            12          3  ...  Female   \n",
       "4     369558     1052    prior            10          1  ...    Male   \n",
       "5     589712     1052    prior            15          1  ...    Male   \n",
       "6    1798115     1379    prior             1          5  ...    Male   \n",
       "7    1727826     1480    prior            38          4  ...    Male   \n",
       "8    2694698     1480    prior            39          2  ...    Male   \n",
       "9     186761     1494    prior             7          2  ...  Female   \n",
       "10    317121     1494    prior             9          5  ...  Female   \n",
       "11    200390     1540    prior             4          2  ...    Male   \n",
       "12   2920553     1540    prior             6          1  ...    Male   \n",
       "13   2813049     1540    prior             7          2  ...    Male   \n",
       "14   2365998     1540    prior             8          1  ...    Male   \n",
       "15   1604797     1540    prior             9          1  ...    Male   \n",
       "16   2799665     1540    prior            14          1  ...    Male   \n",
       "17   2228851     1540    prior            15          1  ...    Male   \n",
       "18   2337422     1540    prior            18          0  ...    Male   \n",
       "19   2699008     1540    prior            19          0  ...    Male   \n",
       "\n",
       "        state  age  date_joined n_dependants  \\\n",
       "0   Minnesota   81     8/1/2019            1   \n",
       "1     Vermont   66    6/16/2018            2   \n",
       "2   Wisconsin   40     2/9/2020            3   \n",
       "3   Tennessee   65    7/25/2019            0   \n",
       "4      Oregon   72    3/30/2018            1   \n",
       "5      Oregon   72    3/30/2018            1   \n",
       "6      Alaska   61    3/30/2020            1   \n",
       "7     Alabama   19   12/28/2019            1   \n",
       "8     Alabama   19   12/28/2019            1   \n",
       "9     Indiana   78    6/29/2017            1   \n",
       "10    Indiana   78    6/29/2017            1   \n",
       "11    Florida   76   11/24/2017            3   \n",
       "12    Florida   76   11/24/2017            3   \n",
       "13    Florida   76   11/24/2017            3   \n",
       "14    Florida   76   11/24/2017            3   \n",
       "15    Florida   76   11/24/2017            3   \n",
       "16    Florida   76   11/24/2017            3   \n",
       "17    Florida   76   11/24/2017            3   \n",
       "18    Florida   76   11/24/2017            3   \n",
       "19    Florida   76   11/24/2017            3   \n",
       "\n",
       "                      marital_status  income _merge     region  \\\n",
       "0                            married   49620   both    Midwest   \n",
       "1                            married  158302   both  Northeast   \n",
       "2                            married   31308   both    Midwest   \n",
       "3                   divorced/widowed   44856   both      South   \n",
       "4                            married  153843   both       West   \n",
       "5                            married  153843   both       West   \n",
       "6                            married   42573   both       West   \n",
       "7   living with parents and siblings   32283   both      South   \n",
       "8   living with parents and siblings   32283   both      South   \n",
       "9                            married   49504   both    Midwest   \n",
       "10                           married   49504   both    Midwest   \n",
       "11                           married   53340   both      South   \n",
       "12                           married   53340   both      South   \n",
       "13                           married   53340   both      South   \n",
       "14                           married   53340   both      South   \n",
       "15                           married   53340   both      South   \n",
       "16                           married   53340   both      South   \n",
       "17                           married   53340   both      South   \n",
       "18                           married   53340   both      South   \n",
       "19                           married   53340   both      South   \n",
       "\n",
       "   customer_activity_flag  \n",
       "0           High Activity  \n",
       "1           High Activity  \n",
       "2            Low Activity  \n",
       "3           High Activity  \n",
       "4           High Activity  \n",
       "5           High Activity  \n",
       "6           High Activity  \n",
       "7           High Activity  \n",
       "8           High Activity  \n",
       "9           High Activity  \n",
       "10          High Activity  \n",
       "11          High Activity  \n",
       "12          High Activity  \n",
       "13          High Activity  \n",
       "14          High Activity  \n",
       "15          High Activity  \n",
       "16          High Activity  \n",
       "17          High Activity  \n",
       "18          High Activity  \n",
       "19          High Activity  \n",
       "\n",
       "[20 rows x 36 columns]"
      ]
     },
     "execution_count": 47,
     "metadata": {},
     "output_type": "execute_result"
    }
   ],
   "source": [
    "big_ords_prods_agg_cust.head(20)"
   ]
  },
  {
   "cell_type": "code",
   "execution_count": 48,
   "id": "7a696522-7bb3-4751-b022-4248ed86f392",
   "metadata": {},
   "outputs": [
    {
     "data": {
      "text/plain": [
       "customer_activity_flag\n",
       "High Activity    18580751\n",
       "Low Activity       863914\n",
       "Name: count, dtype: int64"
      ]
     },
     "execution_count": 48,
     "metadata": {},
     "output_type": "execute_result"
    }
   ],
   "source": [
    "big_ords_prods_agg_cust['customer_activity_flag'].value_counts(dropna=False)"
   ]
  },
  {
   "cell_type": "markdown",
   "id": "717cb6fa-8344-4596-81f3-3b10ab149d77",
   "metadata": {},
   "source": [
    "Make sure you export this sample"
   ]
  },
  {
   "cell_type": "code",
   "execution_count": 54,
   "id": "6b528bea-9728-4116-b9e5-4d7d6f985813",
   "metadata": {},
   "outputs": [],
   "source": [
    "big_ords_prods_cust_high_activity=big_ords_prods_agg_cust[big_ords_prods_agg_cust['customer_activity_flag']=='High Activity']"
   ]
  },
  {
   "cell_type": "code",
   "execution_count": 55,
   "id": "31c37203-e185-4e66-bcd3-4ef3a6153936",
   "metadata": {},
   "outputs": [
    {
     "data": {
      "text/plain": [
       "(18580751, 36)"
      ]
     },
     "execution_count": 55,
     "metadata": {},
     "output_type": "execute_result"
    }
   ],
   "source": [
    "big_ords_prods_cust_high_activity.shape"
   ]
  },
  {
   "cell_type": "code",
   "execution_count": 60,
   "id": "78bf9dac-1e06-4661-9131-5f24ecf84ff0",
   "metadata": {},
   "outputs": [],
   "source": [
    "big_ords_prods_cust_high_activity.to_pickle(os.path.join(path,'02 Data','Prepared Data','big_ords_prods_cust_high_activity.pkl'))"
   ]
  },
  {
   "cell_type": "markdown",
   "id": "d71c5e82-779c-4fb8-ad33-0dae0507e802",
   "metadata": {},
   "source": [
    "## 5. Create a profiling variable based on age, income, certain goods in the “department_id” column, and number of dependents."
   ]
  },
  {
   "cell_type": "code",
   "execution_count": 65,
   "id": "3cebca5f-b75b-4251-9c53-eaeb7b304acc",
   "metadata": {},
   "outputs": [
    {
     "data": {
      "text/plain": [
       "count    1.944466e+07\n",
       "mean     4.946671e+01\n",
       "std      1.848626e+01\n",
       "min      1.800000e+01\n",
       "25%      3.300000e+01\n",
       "50%      4.900000e+01\n",
       "75%      6.500000e+01\n",
       "max      8.100000e+01\n",
       "Name: age, dtype: float64"
      ]
     },
     "execution_count": 65,
     "metadata": {},
     "output_type": "execute_result"
    }
   ],
   "source": [
    "big_ords_prods_agg_cust['age'].describe()"
   ]
  },
  {
   "cell_type": "code",
   "execution_count": 67,
   "id": "8a227119-38ef-4a8b-9775-2596ac7ad459",
   "metadata": {},
   "outputs": [
    {
     "data": {
      "text/plain": [
       "<Axes: ylabel='Frequency'>"
      ]
     },
     "execution_count": 67,
     "metadata": {},
     "output_type": "execute_result"
    },
    {
     "data": {
      "image/png": "[encoded data removed]",
      "text/plain": [
       "<Figure size 640x480 with 1 Axes>"
      ]
     },
     "metadata": {},
     "output_type": "display_data"
    }
   ],
   "source": [
    "big_ords_prods_agg_cust['age'].plot.hist(bins=81)"
   ]
  },
  {
   "cell_type": "markdown",
   "id": "ee9ff19d-6fb2-447c-a82d-ee348a6d1355",
   "metadata": {},
   "source": [
    "### Create Pie Chart for age groups"
   ]
  },
  {
   "cell_type": "code",
   "execution_count": 70,
   "id": "49a39728-b533-4011-aa3c-59041a9b20ef",
   "metadata": {},
   "outputs": [],
   "source": [
    "big_ords_prods_agg_cust.loc[big_ords_prods_agg_cust['age']<=30,'age_group']='Young'"
   ]
  },
  {
   "cell_type": "code",
   "execution_count": 71,
   "id": "6a8aa820-a7e4-4db9-aaec-b5541328290b",
   "metadata": {},
   "outputs": [],
   "source": [
    "big_ords_prods_agg_cust.loc[(big_ords_prods_agg_cust['age']>30)&(big_ords_prods_agg_cust['age']<=60),'age_group']='Middle-Age'"
   ]
  },
  {
   "cell_type": "code",
   "execution_count": 73,
   "id": "2e260829-365f-4b7f-8dc3-c6f42ba378c7",
   "metadata": {},
   "outputs": [],
   "source": [
    "big_ords_prods_agg_cust.loc[big_ords_prods_agg_cust['age']>60,'age_group']='Senior'"
   ]
  },
  {
   "cell_type": "code",
   "execution_count": 76,
   "id": "020ff844-e7d6-492d-83c9-209e194a7965",
   "metadata": {},
   "outputs": [
    {
     "data": {
      "text/plain": [
       "age_group\n",
       "Middle-Age    9132492\n",
       "Senior        6351624\n",
       "Young         3960549\n",
       "Name: count, dtype: int64"
      ]
     },
     "execution_count": 76,
     "metadata": {},
     "output_type": "execute_result"
    }
   ],
   "source": [
    "big_ords_prods_agg_cust['age_group'].value_counts(dropna=False)"
   ]
  },
  {
   "cell_type": "code",
   "execution_count": 78,
   "id": "26921f22-4ff6-44d5-9340-b5310ff876db",
   "metadata": {},
   "outputs": [],
   "source": [
    "age_group_counts = big_ords_prods_agg_cust['age_group'].value_counts()"
   ]
  },
  {
   "cell_type": "code",
   "execution_count": 79,
   "id": "f2177ec2-26a6-4ac8-8649-f507ab63368e",
   "metadata": {},
   "outputs": [
    {
     "data": {
      "text/plain": [
       "<Figure size 800x800 with 0 Axes>"
      ]
     },
     "execution_count": 79,
     "metadata": {},
     "output_type": "execute_result"
    },
    {
     "data": {
      "text/plain": [
       "<Figure size 800x800 with 0 Axes>"
      ]
     },
     "metadata": {},
     "output_type": "display_data"
    }
   ],
   "source": [
    "plt.figure(figsize=(8,8))"
   ]
  },
  {
   "cell_type": "code",
   "execution_count": 82,
   "id": "c33893a7-5d28-4acc-8324-59de61c51868",
   "metadata": {},
   "outputs": [
    {
     "data": {
      "image/png": "[encoded data removed]",
      "text/plain": [
       "<Figure size 640x480 with 1 Axes>"
      ]
     },
     "metadata": {},
     "output_type": "display_data"
    }
   ],
   "source": [
    "age_group_pie_chart = age_group_counts.plot.pie(labels=('Middle-Age Adult: Between 31 to 60 Years of Age','Senior: Over 60 Years of Age','Young Adult:30 Years of Age or Younger'))\n",
    "plt.title('Age Group')\n",
    "plt.ylabel('')\n",
    "plt.tight_layout()\n",
    "plt.show()"
   ]
  },
  {
   "cell_type": "code",
   "execution_count": 84,
   "id": "a44c2d5b-d9fc-4c2b-89ba-dd4bbeebabf9",
   "metadata": {},
   "outputs": [],
   "source": [
    "age_group_pie_chart.figure.savefig(os.path.join(path,'04 Analysis','Visualizations','age_group_pie_chart.png'))"
   ]
  },
  {
   "cell_type": "markdown",
   "id": "7a244603-8fb4-4b41-8b66-4ed2fb2e4af8",
   "metadata": {},
   "source": [
    "### Create bar chart for age groups"
   ]
  },
  {
   "cell_type": "code",
   "execution_count": 87,
   "id": "c0d86ede-5771-482a-9ead-b48f6106f65c",
   "metadata": {},
   "outputs": [
    {
     "data": {
      "image/png": "[encoded data removed]",
      "text/plain": [
       "<Figure size 800x800 with 1 Axes>"
      ]
     },
     "metadata": {},
     "output_type": "display_data"
    }
   ],
   "source": [
    "age_group_counts = big_ords_prods_agg_cust['age_group'].value_counts()\n",
    "plt.figure(figsize=(8,8))\n",
    "age_group_bar = age_group_counts.plot.bar(rot=0)\n",
    "plt.title('Age Groups')\n",
    "plt.xlabel('')\n",
    "plt.ylabel('Count')\n",
    "plt.tight_layout\n",
    "plt.show()"
   ]
  },
  {
   "cell_type": "code",
   "execution_count": 88,
   "id": "1de0418b-b592-421e-9558-2fa8747b85e3",
   "metadata": {},
   "outputs": [],
   "source": [
    "age_group_bar.figure.savefig(os.path.join(path,'04 Analysis','Visualizations','age_group_bar_chart.png'))"
   ]
  },
  {
   "cell_type": "code",
   "execution_count": 89,
   "id": "ae343328-de55-4de5-97f1-0f5d23bbb931",
   "metadata": {},
   "outputs": [
    {
     "data": {
      "text/plain": [
       "<Axes: ylabel='Frequency'>"
      ]
     },
     "execution_count": 89,
     "metadata": {},
     "output_type": "execute_result"
    },
    {
     "data": {
      "image/png": "[encoded data removed]",
      "text/plain": [
       "<Figure size 640x480 with 1 Axes>"
      ]
     },
     "metadata": {},
     "output_type": "display_data"
    }
   ],
   "source": [
    "big_ords_prods_agg_cust['income'].plot.hist(bins=26)"
   ]
  },
  {
   "cell_type": "code",
   "execution_count": 92,
   "id": "c2edbbe7-64c1-4452-bf86-c7eb6a7dd65d",
   "metadata": {},
   "outputs": [
    {
     "data": {
      "text/plain": [
       "count    1.944466e+07\n",
       "mean     9.943595e+04\n",
       "std      4.304646e+04\n",
       "min      2.590300e+04\n",
       "25%      6.700600e+04\n",
       "50%      9.661000e+04\n",
       "75%      1.279080e+05\n",
       "max      5.939010e+05\n",
       "Name: income, dtype: float64"
      ]
     },
     "execution_count": 92,
     "metadata": {},
     "output_type": "execute_result"
    }
   ],
   "source": [
    "big_ords_prods_agg_cust['income'].describe()"
   ]
  },
  {
   "cell_type": "markdown",
   "id": "df45fcb1-6e2b-4efa-add0-608b31c2ca15",
   "metadata": {},
   "source": [
    "### Create income groups"
   ]
  },
  {
   "cell_type": "code",
   "execution_count": 94,
   "id": "3a38bb10-cabc-4750-b47b-b0456162d419",
   "metadata": {},
   "outputs": [],
   "source": [
    "big_ords_prods_agg_cust.loc[big_ords_prods_agg_cust['income']<=65000,'income_group']='Low Income'"
   ]
  },
  {
   "cell_type": "code",
   "execution_count": 95,
   "id": "80740d1d-fc0d-4895-a9ed-52059b4599fe",
   "metadata": {},
   "outputs": [],
   "source": [
    "big_ords_prods_agg_cust.loc[(big_ords_prods_agg_cust['income']>65000)&(big_ords_prods_agg_cust['income']<=130000),'income_group']='Middle Income'"
   ]
  },
  {
   "cell_type": "code",
   "execution_count": 98,
   "id": "7d8a71a6-5984-41ff-bb53-330d492f7052",
   "metadata": {},
   "outputs": [],
   "source": [
    "big_ords_prods_agg_cust.loc[big_ords_prods_agg_cust['income']>130000,'income_group']='High Income'"
   ]
  },
  {
   "cell_type": "code",
   "execution_count": 99,
   "id": "b91a17e4-7237-4ec6-960c-2160f4ee1456",
   "metadata": {},
   "outputs": [
    {
     "data": {
      "text/plain": [
       "income_group\n",
       "Middle Income    10303944\n",
       "High Income       4628404\n",
       "Low Income        4512317\n",
       "Name: count, dtype: int64"
      ]
     },
     "execution_count": 99,
     "metadata": {},
     "output_type": "execute_result"
    }
   ],
   "source": [
    "big_ords_prods_agg_cust['income_group'].value_counts(dropna=False)"
   ]
  },
  {
   "cell_type": "markdown",
   "id": "6d566ab3-e145-410b-918d-7d80afedc478",
   "metadata": {},
   "source": [
    "### Create pie chart for income groups"
   ]
  },
  {
   "cell_type": "code",
   "execution_count": 104,
   "id": "dde82ee1-c113-4df4-9569-aa97e3e848fe",
   "metadata": {},
   "outputs": [
    {
     "data": {
      "image/png": "[encoded data removed]",
      "text/plain": [
       "<Figure size 600x600 with 1 Axes>"
      ]
     },
     "metadata": {},
     "output_type": "display_data"
    }
   ],
   "source": [
    "income_group_counts = big_ords_prods_agg_cust['income_group'].value_counts()\n",
    "plt.figure(figsize = (6,6))\n",
    "income_group_pie_chart = income_group_counts.plot.pie(autopct='%1.1f%%',wedgeprops = {'edgecolor':'black'})\n",
    "plt.title('Income Group ')\n",
    "plt.ylabel('')\n",
    "plt.tight_layout()\n",
    "plt.show()"
   ]
  },
  {
   "cell_type": "code",
   "execution_count": 106,
   "id": "939e991f-4acb-4979-abbf-3d0abbbba0e7",
   "metadata": {},
   "outputs": [],
   "source": [
    "income_group_pie_chart.figure.savefig(os.path.join(path,'04 Analysis','Visualizations','income_group_pie.png'))"
   ]
  },
  {
   "cell_type": "markdown",
   "id": "683a892e-e972-4672-994f-f26a0f8442b8",
   "metadata": {},
   "source": [
    "### Create bar chart by income groups"
   ]
  },
  {
   "cell_type": "code",
   "execution_count": 110,
   "id": "f7ea603c-19de-4a36-9ac8-d4de007f35a4",
   "metadata": {},
   "outputs": [
    {
     "data": {
      "image/png": "[encoded data removed]",
      "text/plain": [
       "<Figure size 800x800 with 1 Axes>"
      ]
     },
     "metadata": {},
     "output_type": "display_data"
    }
   ],
   "source": [
    "income_group_counts = big_ords_prods_agg_cust['income_group'].value_counts()\n",
    "plt.figure(figsize=(8,8))\n",
    "income_group_bar = income_group_counts.plot.bar(rot=0)\n",
    "plt.title('Income Group')\n",
    "plt.xlabel('')\n",
    "plt.ylabel('Count')\n",
    "plt.tight_layout\n",
    "plt.show()"
   ]
  },
  {
   "cell_type": "code",
   "execution_count": 111,
   "id": "4b45b660-f341-44ae-9bf8-7191336f2f04",
   "metadata": {},
   "outputs": [],
   "source": [
    "income_group_bar.figure.savefig(os.path.join(path,'04 Analysis','Visualizations','income_group_bar.png'))"
   ]
  },
  {
   "cell_type": "markdown",
   "id": "43797c1c-ecb2-45b5-9b20-6b4d708c80b1",
   "metadata": {},
   "source": [
    "### Create number of dependents groups"
   ]
  },
  {
   "cell_type": "code",
   "execution_count": 115,
   "id": "39629e78-064d-4f6c-bc02-e2927a3c006d",
   "metadata": {},
   "outputs": [
    {
     "data": {
      "text/plain": [
       "count    1.944466e+07\n",
       "mean     1.502023e+00\n",
       "std      1.118793e+00\n",
       "min      0.000000e+00\n",
       "25%      1.000000e+00\n",
       "50%      2.000000e+00\n",
       "75%      3.000000e+00\n",
       "max      3.000000e+00\n",
       "Name: n_dependants, dtype: float64"
      ]
     },
     "execution_count": 115,
     "metadata": {},
     "output_type": "execute_result"
    }
   ],
   "source": [
    "big_ords_prods_agg_cust['n_dependants'].describe()"
   ]
  },
  {
   "cell_type": "code",
   "execution_count": 117,
   "id": "80dcac63-0725-4134-8ca4-dd5550361a75",
   "metadata": {},
   "outputs": [],
   "source": [
    "big_ords_prods_agg_cust.loc[big_ords_prods_agg_cust['n_dependants']<=1,'dependant_size'] = 'Small'"
   ]
  },
  {
   "cell_type": "code",
   "execution_count": 118,
   "id": "d1b18de2-2672-49c3-b022-01897f3c689c",
   "metadata": {},
   "outputs": [],
   "source": [
    "big_ords_prods_agg_cust.loc[big_ords_prods_agg_cust['n_dependants']==2,'dependant_size'] = 'Medium'"
   ]
  },
  {
   "cell_type": "code",
   "execution_count": 121,
   "id": "208bae93-a0ea-4bf9-9de3-59014dd7072a",
   "metadata": {},
   "outputs": [],
   "source": [
    "big_ords_prods_agg_cust.loc[big_ords_prods_agg_cust['n_dependants']>=3,'dependant_size'] = 'Large'"
   ]
  },
  {
   "cell_type": "code",
   "execution_count": 123,
   "id": "d1cafade-7fb6-49d9-ad50-82210d149b10",
   "metadata": {},
   "outputs": [
    {
     "data": {
      "text/plain": [
       "dependant_size\n",
       "Small     9707859\n",
       "Large     4881871\n",
       "Medium    4854935\n",
       "Name: count, dtype: int64"
      ]
     },
     "execution_count": 123,
     "metadata": {},
     "output_type": "execute_result"
    }
   ],
   "source": [
    "big_ords_prods_agg_cust['dependant_size'].value_counts(dropna=False)"
   ]
  },
  {
   "cell_type": "markdown",
   "id": "99623244-fe34-4967-82db-f0a09b4da121",
   "metadata": {},
   "source": [
    "### Create bar chart of age groups by dependent size"
   ]
  },
  {
   "cell_type": "code",
   "execution_count": 126,
   "id": "453c7f87-32be-486d-9bde-2a56fa148805",
   "metadata": {},
   "outputs": [
    {
     "data": {
      "image/png": "[encoded data removed]",
      "text/plain": [
       "<Figure size 800x800 with 1 Axes>"
      ]
     },
     "metadata": {},
     "output_type": "display_data"
    }
   ],
   "source": [
    "import matplotlib.patches as mpatches\n",
    "dependants_group_counts = big_ords_prods_agg_cust['dependant_size'].value_counts()\n",
    "plt.figure(figsize=(8,8))\n",
    "dependant_group_bar = dependants_group_counts.plot.bar(rot=0)\n",
    "plt.title('Dependant Groups')\n",
    "plt.xlabel('')\n",
    "plt.ylabel('')\n",
    "small_patch = mpatches.Patch(color='none',label='Small: 0-1 Dependants')\n",
    "medium_patch = mpatches.Patch(color='none',label='Medium: 2 Dependants')\n",
    "large_patch = mpatches.Patch(color='none',label='Large: 3 or More Dependants')\n",
    "plt.legend(handles = [small_patch, medium_patch, large_patch], title = 'Group Sizes')\n",
    "plt.tight_layout()\n",
    "plt.show()"
   ]
  },
  {
   "cell_type": "code",
   "execution_count": 127,
   "id": "2edd25e9-303c-4a56-a810-2ec2b1002d30",
   "metadata": {},
   "outputs": [],
   "source": [
    "dependant_group_bar.figure.savefig(os.path.join(path,'04 Analysis','Visualizations','dependant_bar.png'))"
   ]
  },
  {
   "cell_type": "markdown",
   "id": "452d8c98-ceb7-4111-bc55-6ed733f41972",
   "metadata": {},
   "source": [
    "### Create order by day of the week bar chart"
   ]
  },
  {
   "cell_type": "code",
   "execution_count": 131,
   "id": "71f76abb-9cef-4377-83e7-cb9b9bd7f351",
   "metadata": {},
   "outputs": [],
   "source": [
    "day_names = {0: 'Saturday', 1: 'Sunday', 2: 'Monday', 3: 'Tuesday', 4: 'Wednesday', 5: 'Thursday', 6: 'Friday'}"
   ]
  },
  {
   "cell_type": "code",
   "execution_count": 133,
   "id": "45511a1b-1ce9-45b0-a9fd-d26b1645a388",
   "metadata": {},
   "outputs": [
    {
     "data": {
      "image/png": "[encoded data removed]",
      "text/plain": [
       "<Figure size 800x800 with 1 Axes>"
      ]
     },
     "metadata": {},
     "output_type": "display_data"
    }
   ],
   "source": [
    "plt.figure(figsize=(8, 8))\n",
    "orders_by_day_of_week = big_ords_prods_agg_cust['order_dow'].value_counts().sort_index().plot.bar(edgecolor='black', rot=0)\n",
    "plt.title('Orders by Day of Week')\n",
    "plt.xlabel('Day of Week')\n",
    "plt.ylabel('Count')\n",
    "plt.xticks(ticks=range(7), labels=[day_names[i] for i in range(7)])\n",
    "plt.tight_layout()\n",
    "plt.show()"
   ]
  },
  {
   "cell_type": "code",
   "execution_count": 135,
   "id": "33ce3f32-4e48-4e63-a6ed-4c5a529ca12d",
   "metadata": {},
   "outputs": [],
   "source": [
    "orders_by_day_of_week.figure.savefig(os.path.join(path,'04 Analysis','Visualizations','orders_by_day_of_week.png'))"
   ]
  },
  {
   "cell_type": "code",
   "execution_count": 137,
   "id": "329fe975-f017-4041-9ddd-c188be5d17d8",
   "metadata": {},
   "outputs": [
    {
     "data": {
      "text/plain": [
       "count    1.944466e+07\n",
       "mean     2.738542e+00\n",
       "std      2.089937e+00\n",
       "min      0.000000e+00\n",
       "25%      1.000000e+00\n",
       "50%      3.000000e+00\n",
       "75%      5.000000e+00\n",
       "max      6.000000e+00\n",
       "Name: order_dow, dtype: float64"
      ]
     },
     "execution_count": 137,
     "metadata": {},
     "output_type": "execute_result"
    }
   ],
   "source": [
    "big_ords_prods_agg_cust['order_dow'].describe()"
   ]
  },
  {
   "cell_type": "markdown",
   "id": "dcaad982-41ea-4057-88dd-06ab109e636d",
   "metadata": {},
   "source": [
    "### Create weekday/weekend flags"
   ]
  },
  {
   "cell_type": "code",
   "execution_count": 140,
   "id": "f824c578-f6fa-43a3-9447-a0a485680f97",
   "metadata": {},
   "outputs": [],
   "source": [
    "big_ords_prods_agg_cust.loc[big_ords_prods_agg_cust['order_dow'].isin([0,1]),'week_day_category'] = 'Weekend'"
   ]
  },
  {
   "cell_type": "code",
   "execution_count": 141,
   "id": "a3e9528f-018a-4aae-9b14-bb8b7ca8f287",
   "metadata": {},
   "outputs": [],
   "source": [
    "big_ords_prods_agg_cust.loc[big_ords_prods_agg_cust['order_dow'].isin([2,3,4,5,6]),'week_day_category'] = 'Weekday'"
   ]
  },
  {
   "cell_type": "code",
   "execution_count": 143,
   "id": "3fc2ef6b-983c-4e45-bc5c-209a53b7f2cd",
   "metadata": {},
   "outputs": [
    {
     "data": {
      "text/plain": [
       "week_day_category\n",
       "Weekday    12324221\n",
       "Weekend     7120444\n",
       "Name: count, dtype: int64"
      ]
     },
     "execution_count": 143,
     "metadata": {},
     "output_type": "execute_result"
    }
   ],
   "source": [
    "big_ords_prods_agg_cust['week_day_category'].value_counts(dropna=False)"
   ]
  },
  {
   "cell_type": "markdown",
   "id": "284fc5ff-6aa0-453b-996e-bb98ba4502d5",
   "metadata": {},
   "source": [
    "### Create bar chart of weekday/weekend orders"
   ]
  },
  {
   "cell_type": "code",
   "execution_count": 147,
   "id": "5a4495e4-7fc2-44ee-8cb8-2bd25e4d4ec7",
   "metadata": {},
   "outputs": [
    {
     "data": {
      "image/png": "[encoded data removed]",
      "text/plain": [
       "<Figure size 500x800 with 1 Axes>"
      ]
     },
     "metadata": {},
     "output_type": "display_data"
    }
   ],
   "source": [
    "week_day_count = big_ords_prods_agg_cust['week_day_category'].value_counts()\n",
    "plt.figure(figsize = (5,8))\n",
    "week_day_order_count_bar=week_day_count.plot.bar(rot=0)\n",
    "plt.title('Weekday Order Placement')\n",
    "plt.xlabel('')\n",
    "plt.ylabel('Count')\n",
    "plt.tight_layout\n",
    "plt.show()"
   ]
  },
  {
   "cell_type": "code",
   "execution_count": 148,
   "id": "83d79e6c-58d4-4f62-9ef1-bdd3dcf709fd",
   "metadata": {},
   "outputs": [],
   "source": [
    "week_day_order_count_bar.figure.savefig(os.path.join(path,'04 Analysis','Visualizations','week_day_order_placement_comparison_bar.png'))"
   ]
  },
  {
   "cell_type": "markdown",
   "id": "d64135bb-35e8-4427-af83-042ae5aebf83",
   "metadata": {},
   "source": [
    "### Create pie chart of weekday/weekend orders"
   ]
  },
  {
   "cell_type": "code",
   "execution_count": 152,
   "id": "c45ec279-48af-4610-8680-f767234da64e",
   "metadata": {},
   "outputs": [
    {
     "data": {
      "image/png": "[encoded data removed]",
      "text/plain": [
       "<Figure size 800x800 with 1 Axes>"
      ]
     },
     "metadata": {},
     "output_type": "display_data"
    }
   ],
   "source": [
    "week_day_count = big_ords_prods_agg_cust['week_day_category'].value_counts()\n",
    "plt.figure(figsize=(8,8))\n",
    "week_day_order_count_pie = week_day_count.plot.pie(autopct='%.1f%%',wedgeprops={'edgecolor':'black'})\n",
    "plt.title('Weekday Order Placement')\n",
    "plt.ylabel('')\n",
    "plt.tight_layout()\n",
    "plt.show()"
   ]
  },
  {
   "cell_type": "code",
   "execution_count": 153,
   "id": "647019f2-0ec3-4bc6-be42-39e6cc5cfad7",
   "metadata": {},
   "outputs": [],
   "source": [
    "week_day_order_count_pie.figure.savefig(os.path.join(path,'04 Analysis','Visualizations','week_day_order_placement_comparison_pie.png'))"
   ]
  },
  {
   "cell_type": "markdown",
   "id": "31d246e7-ffbe-4b57-93c8-e5b45a7d0149",
   "metadata": {},
   "source": [
    "### Create order by hour of the day bar chart"
   ]
  },
  {
   "cell_type": "code",
   "execution_count": 157,
   "id": "3372add1-2cbb-42b7-8bd2-aab13181eb53",
   "metadata": {},
   "outputs": [
    {
     "data": {
      "text/plain": [
       "count    1.944466e+07\n",
       "mean     1.342465e+01\n",
       "std      4.246372e+00\n",
       "min      0.000000e+00\n",
       "25%      1.000000e+01\n",
       "50%      1.300000e+01\n",
       "75%      1.600000e+01\n",
       "max      2.300000e+01\n",
       "Name: order_hour_of_day, dtype: float64"
      ]
     },
     "execution_count": 157,
     "metadata": {},
     "output_type": "execute_result"
    }
   ],
   "source": [
    "big_ords_prods_agg_cust['order_hour_of_day'].describe()"
   ]
  },
  {
   "cell_type": "code",
   "execution_count": 159,
   "id": "8aaefb38-6216-4578-bd23-37cbdcadfce3",
   "metadata": {},
   "outputs": [
    {
     "data": {
      "image/png": "[encoded data removed]",
      "text/plain": [
       "<Figure size 800x800 with 1 Axes>"
      ]
     },
     "metadata": {},
     "output_type": "display_data"
    }
   ],
   "source": [
    "plt.figure(figsize=(8, 8))\n",
    "ords_hour_by_day = big_ords_prods_agg_cust['order_hour_of_day'].plot.hist(bins=24, edgecolor='black')\n",
    "plt.title('Orders by Daily Hour')\n",
    "plt.xlabel('Hour of Day')\n",
    "plt.ylabel('Frequency')\n",
    "plt.xticks(range(0, 24))\n",
    "plt.tight_layout()\n",
    "plt.show()"
   ]
  },
  {
   "cell_type": "code",
   "execution_count": 160,
   "id": "454df801-d4b6-490b-8fcb-887ff3cec82e",
   "metadata": {},
   "outputs": [],
   "source": [
    "ords_hour_by_day.figure.savefig(os.path.join(path,'04 Analysis','Visualizations','ords_hour_by_day_hist.png'))"
   ]
  },
  {
   "cell_type": "markdown",
   "id": "f50fa362-65c6-4843-a359-438d22c488cb",
   "metadata": {},
   "source": [
    "### Create ordering groups"
   ]
  },
  {
   "cell_type": "code",
   "execution_count": 164,
   "id": "4bd79df4-ad49-4daf-b1a1-f30cc26e9ee1",
   "metadata": {},
   "outputs": [],
   "source": [
    "big_ords_prods_agg_cust.loc[big_ords_prods_agg_cust['order_hour_of_day']<12,'order_hour_group'] = 'Morning'"
   ]
  },
  {
   "cell_type": "code",
   "execution_count": 165,
   "id": "63ec21e9-a031-470c-a195-d2be51d4a48d",
   "metadata": {},
   "outputs": [],
   "source": [
    "big_ords_prods_agg_cust.loc[(big_ords_prods_agg_cust['order_hour_of_day']>=12)&(big_ords_prods_agg_cust['order_hour_of_day']<=17),'order_hour_group'] = 'Afternoon'"
   ]
  },
  {
   "cell_type": "code",
   "execution_count": 167,
   "id": "3ef30668-ec50-4234-8406-5f004ceb01c8",
   "metadata": {},
   "outputs": [],
   "source": [
    "big_ords_prods_agg_cust.loc[big_ords_prods_agg_cust['order_hour_of_day']>17,'order_hour_group']='Evening'"
   ]
  },
  {
   "cell_type": "code",
   "execution_count": 170,
   "id": "22cf41e9-fdfa-4e4e-9d10-a11e41bfc7cf",
   "metadata": {},
   "outputs": [
    {
     "data": {
      "text/plain": [
       "order_hour_group\n",
       "Afternoon    9153654\n",
       "Morning      6869506\n",
       "Evening      3421505\n",
       "Name: count, dtype: int64"
      ]
     },
     "execution_count": 170,
     "metadata": {},
     "output_type": "execute_result"
    }
   ],
   "source": [
    "big_ords_prods_agg_cust['order_hour_group'].value_counts(dropna=False)"
   ]
  },
  {
   "cell_type": "code",
   "execution_count": 172,
   "id": "96ecaf9a-371b-4a24-820b-9af93aba3d72",
   "metadata": {},
   "outputs": [
    {
     "data": {
      "image/png": "[encoded data removed]",
      "text/plain": [
       "<Figure size 800x800 with 1 Axes>"
      ]
     },
     "metadata": {},
     "output_type": "display_data"
    }
   ],
   "source": [
    "order_hour_group_count = big_ords_prods_agg_cust['order_hour_group'].value_counts()\n",
    "plt.figure(figsize=(8,8))\n",
    "order_hour_group_count_bar=order_hour_group_count.plot.bar(rot=0)\n",
    "plt.title('Hour of Day Order Placement Grouping')\n",
    "plt.xlabel('')\n",
    "plt.ylabel('Count')\n",
    "# Create proxy artists for the legend\n",
    "small_patch = mpatches.Patch(color='none',label='Afternoon: Between 12PM-5PM')\n",
    "medium_patch = mpatches.Patch(color='none',label='Morning: Hours Before 12PM')\n",
    "large_patch = mpatches.Patch(color='none',label='Evening: Hours After 5PM')\n",
    "# Add the custom legend\n",
    "plt.legend(handles=[small_patch, medium_patch, large_patch], title='Hour of Day Groups')\n",
    "plt.tight_layout()\n",
    "plt.show()\n",
    "plt.tight_layout\n",
    "plt.show()"
   ]
  },
  {
   "cell_type": "code",
   "execution_count": 173,
   "id": "595e4de7-bd38-40af-92f6-b75fa997a21f",
   "metadata": {},
   "outputs": [],
   "source": [
    "order_hour_group_count_bar.figure.savefig(os.path.join(path,'04 Analysis','Visualizations','orders_hour_group_comparison_bar.png'))"
   ]
  },
  {
   "cell_type": "markdown",
   "id": "ebd493c5-1668-49ea-b148-64b4a1da45be",
   "metadata": {},
   "source": [
    "## 7. Aggregate the max, mean, and min variables on a customer-profile level for usage frequency and expenditure."
   ]
  },
  {
   "cell_type": "code",
   "execution_count": 177,
   "id": "bf62dc96-365f-4318-bce8-b7ecd5d0d3f5",
   "metadata": {},
   "outputs": [
    {
     "data": {
      "text/plain": [
       "['product_id',\n",
       " 'product_name',\n",
       " 'aisle_id',\n",
       " 'department_id',\n",
       " 'prices',\n",
       " 'order_id',\n",
       " 'user_id',\n",
       " 'eval_set',\n",
       " 'order_number',\n",
       " 'order_dow',\n",
       " 'order_hour_of_day',\n",
       " 'days_since_prior_order',\n",
       " 'add_to_cart_order',\n",
       " 'reordered',\n",
       " 'price_range_loc',\n",
       " 'busiest_day',\n",
       " 'days_most_busy',\n",
       " 'busiest_period_of_day',\n",
       " 'max_order',\n",
       " 'loyalty_flag',\n",
       " 'mean_product_price',\n",
       " 'spending_flag',\n",
       " 'median_days_between_orders',\n",
       " 'order_frequency',\n",
       " 'first_name',\n",
       " 'last_name',\n",
       " 'gender',\n",
       " 'state',\n",
       " 'age',\n",
       " 'date_joined',\n",
       " 'n_dependants',\n",
       " 'marital_status',\n",
       " 'income',\n",
       " '_merge',\n",
       " 'region',\n",
       " 'customer_activity_flag',\n",
       " 'age_group',\n",
       " 'income_group',\n",
       " 'dependant_size',\n",
       " 'week_day_category',\n",
       " 'order_hour_group']"
      ]
     },
     "execution_count": 177,
     "metadata": {},
     "output_type": "execute_result"
    }
   ],
   "source": [
    "big_ords_prods_agg_cust.columns.tolist()"
   ]
  },
  {
   "cell_type": "markdown",
   "id": "3679f7cd-79c9-453c-af02-dc2a04be3247",
   "metadata": {},
   "source": [
    "### Create an aggregation subset of the customer profile"
   ]
  },
  {
   "cell_type": "code",
   "execution_count": 180,
   "id": "61677d9e-471b-4698-a975-a61262260056",
   "metadata": {},
   "outputs": [],
   "source": [
    "cust_profile_agg = big_ords_prods_agg_cust.groupby(['user_id','order_number','days_since_prior_order','loyalty_flag','spending_flag','order_frequency','state','region','customer_activity_flag','age_group','income','income_group','marital_status','dependant_size','week_day_category','order_dow','order_hour_group','order_hour_of_day'])['prices'].sum().reset_index()"
   ]
  },
  {
   "cell_type": "code",
   "execution_count": 181,
   "id": "3aff95dd-50e2-46da-9dcc-f2af6da67897",
   "metadata": {},
   "outputs": [
    {
     "data": {
      "text/html": [
       "<div>\n",
       "<style scoped>\n",
       "    .dataframe tbody tr th:only-of-type {\n",
       "        vertical-align: middle;\n",
       "    }\n",
       "\n",
       "    .dataframe tbody tr th {\n",
       "        vertical-align: top;\n",
       "    }\n",
       "\n",
       "    .dataframe thead th {\n",
       "        text-align: right;\n",
       "    }\n",
       "</style>\n",
       "<table border=\"1\" class=\"dataframe\">\n",
       "  <thead>\n",
       "    <tr style=\"text-align: right;\">\n",
       "      <th></th>\n",
       "      <th>user_id</th>\n",
       "      <th>order_number</th>\n",
       "      <th>days_since_prior_order</th>\n",
       "      <th>loyalty_flag</th>\n",
       "      <th>spending_flag</th>\n",
       "      <th>order_frequency</th>\n",
       "      <th>state</th>\n",
       "      <th>region</th>\n",
       "      <th>customer_activity_flag</th>\n",
       "      <th>age_group</th>\n",
       "      <th>income</th>\n",
       "      <th>income_group</th>\n",
       "      <th>marital_status</th>\n",
       "      <th>dependant_size</th>\n",
       "      <th>week_day_category</th>\n",
       "      <th>order_dow</th>\n",
       "      <th>order_hour_group</th>\n",
       "      <th>order_hour_of_day</th>\n",
       "      <th>prices</th>\n",
       "    </tr>\n",
       "  </thead>\n",
       "  <tbody>\n",
       "    <tr>\n",
       "      <th>0</th>\n",
       "      <td>1</td>\n",
       "      <td>2</td>\n",
       "      <td>15.0</td>\n",
       "      <td>New customer</td>\n",
       "      <td>Low spender</td>\n",
       "      <td>Non-frequent customer</td>\n",
       "      <td>Alabama</td>\n",
       "      <td>South</td>\n",
       "      <td>High Activity</td>\n",
       "      <td>Middle-Age</td>\n",
       "      <td>40423</td>\n",
       "      <td>Low Income</td>\n",
       "      <td>married</td>\n",
       "      <td>Large</td>\n",
       "      <td>Weekday</td>\n",
       "      <td>3</td>\n",
       "      <td>Morning</td>\n",
       "      <td>7</td>\n",
       "      <td>31.4</td>\n",
       "    </tr>\n",
       "    <tr>\n",
       "      <th>1</th>\n",
       "      <td>1</td>\n",
       "      <td>3</td>\n",
       "      <td>21.0</td>\n",
       "      <td>New customer</td>\n",
       "      <td>Low spender</td>\n",
       "      <td>Non-frequent customer</td>\n",
       "      <td>Alabama</td>\n",
       "      <td>South</td>\n",
       "      <td>High Activity</td>\n",
       "      <td>Middle-Age</td>\n",
       "      <td>40423</td>\n",
       "      <td>Low Income</td>\n",
       "      <td>married</td>\n",
       "      <td>Large</td>\n",
       "      <td>Weekday</td>\n",
       "      <td>3</td>\n",
       "      <td>Afternoon</td>\n",
       "      <td>12</td>\n",
       "      <td>25.0</td>\n",
       "    </tr>\n",
       "    <tr>\n",
       "      <th>2</th>\n",
       "      <td>1</td>\n",
       "      <td>4</td>\n",
       "      <td>29.0</td>\n",
       "      <td>New customer</td>\n",
       "      <td>Low spender</td>\n",
       "      <td>Non-frequent customer</td>\n",
       "      <td>Alabama</td>\n",
       "      <td>South</td>\n",
       "      <td>High Activity</td>\n",
       "      <td>Middle-Age</td>\n",
       "      <td>40423</td>\n",
       "      <td>Low Income</td>\n",
       "      <td>married</td>\n",
       "      <td>Large</td>\n",
       "      <td>Weekday</td>\n",
       "      <td>4</td>\n",
       "      <td>Morning</td>\n",
       "      <td>7</td>\n",
       "      <td>18.6</td>\n",
       "    </tr>\n",
       "    <tr>\n",
       "      <th>3</th>\n",
       "      <td>1</td>\n",
       "      <td>5</td>\n",
       "      <td>28.0</td>\n",
       "      <td>New customer</td>\n",
       "      <td>Low spender</td>\n",
       "      <td>Non-frequent customer</td>\n",
       "      <td>Alabama</td>\n",
       "      <td>South</td>\n",
       "      <td>High Activity</td>\n",
       "      <td>Middle-Age</td>\n",
       "      <td>40423</td>\n",
       "      <td>Low Income</td>\n",
       "      <td>married</td>\n",
       "      <td>Large</td>\n",
       "      <td>Weekday</td>\n",
       "      <td>4</td>\n",
       "      <td>Afternoon</td>\n",
       "      <td>15</td>\n",
       "      <td>23.4</td>\n",
       "    </tr>\n",
       "    <tr>\n",
       "      <th>4</th>\n",
       "      <td>1</td>\n",
       "      <td>6</td>\n",
       "      <td>19.0</td>\n",
       "      <td>New customer</td>\n",
       "      <td>Low spender</td>\n",
       "      <td>Non-frequent customer</td>\n",
       "      <td>Alabama</td>\n",
       "      <td>South</td>\n",
       "      <td>High Activity</td>\n",
       "      <td>Middle-Age</td>\n",
       "      <td>40423</td>\n",
       "      <td>Low Income</td>\n",
       "      <td>married</td>\n",
       "      <td>Large</td>\n",
       "      <td>Weekday</td>\n",
       "      <td>2</td>\n",
       "      <td>Morning</td>\n",
       "      <td>7</td>\n",
       "      <td>4.4</td>\n",
       "    </tr>\n",
       "  </tbody>\n",
       "</table>\n",
       "</div>"
      ],
      "text/plain": [
       "   user_id  order_number  days_since_prior_order  loyalty_flag spending_flag  \\\n",
       "0        1             2                    15.0  New customer   Low spender   \n",
       "1        1             3                    21.0  New customer   Low spender   \n",
       "2        1             4                    29.0  New customer   Low spender   \n",
       "3        1             5                    28.0  New customer   Low spender   \n",
       "4        1             6                    19.0  New customer   Low spender   \n",
       "\n",
       "         order_frequency    state region customer_activity_flag   age_group  \\\n",
       "0  Non-frequent customer  Alabama  South          High Activity  Middle-Age   \n",
       "1  Non-frequent customer  Alabama  South          High Activity  Middle-Age   \n",
       "2  Non-frequent customer  Alabama  South          High Activity  Middle-Age   \n",
       "3  Non-frequent customer  Alabama  South          High Activity  Middle-Age   \n",
       "4  Non-frequent customer  Alabama  South          High Activity  Middle-Age   \n",
       "\n",
       "   income income_group marital_status dependant_size week_day_category  \\\n",
       "0   40423   Low Income        married          Large           Weekday   \n",
       "1   40423   Low Income        married          Large           Weekday   \n",
       "2   40423   Low Income        married          Large           Weekday   \n",
       "3   40423   Low Income        married          Large           Weekday   \n",
       "4   40423   Low Income        married          Large           Weekday   \n",
       "\n",
       "   order_dow order_hour_group  order_hour_of_day  prices  \n",
       "0          3          Morning                  7    31.4  \n",
       "1          3        Afternoon                 12    25.0  \n",
       "2          4          Morning                  7    18.6  \n",
       "3          4        Afternoon                 15    23.4  \n",
       "4          2          Morning                  7     4.4  "
      ]
     },
     "execution_count": 181,
     "metadata": {},
     "output_type": "execute_result"
    }
   ],
   "source": [
    "cust_profile_agg.head()"
   ]
  },
  {
   "cell_type": "code",
   "execution_count": 182,
   "id": "5754c381-1bbd-4dd3-b0aa-80bdf1868960",
   "metadata": {},
   "outputs": [
    {
     "data": {
      "text/plain": [
       "user_id                     int64\n",
       "order_number                int64\n",
       "days_since_prior_order    float64\n",
       "loyalty_flag               object\n",
       "spending_flag              object\n",
       "order_frequency            object\n",
       "state                      object\n",
       "region                     object\n",
       "customer_activity_flag     object\n",
       "age_group                  object\n",
       "income                      int64\n",
       "income_group               object\n",
       "marital_status             object\n",
       "dependant_size             object\n",
       "week_day_category          object\n",
       "order_dow                   int64\n",
       "order_hour_group           object\n",
       "order_hour_of_day           int64\n",
       "prices                    float64\n",
       "dtype: object"
      ]
     },
     "execution_count": 182,
     "metadata": {},
     "output_type": "execute_result"
    }
   ],
   "source": [
    "cust_profile_agg.dtypes"
   ]
  },
  {
   "cell_type": "code",
   "execution_count": 183,
   "id": "cec7f576-4bbe-46f3-a7ce-3db76870f485",
   "metadata": {},
   "outputs": [],
   "source": [
    "user_agg=cust_profile_agg.groupby('user_id').agg({'order_number': ['mean', 'min', 'max'],'days_since_prior_order': ['mean', 'min', 'max'], 'order_dow': ['mean', 'min', 'max'],'order_hour_of_day': ['mean', 'min', 'max'], 'prices': ['mean', 'min', 'max'],'income':['mean','min','max']})"
   ]
  },
  {
   "cell_type": "code",
   "execution_count": 184,
   "id": "5dbc24dd-1135-4da4-ac0a-bde64511aa3e",
   "metadata": {},
   "outputs": [
    {
     "data": {
      "text/html": [
       "<div>\n",
       "<style scoped>\n",
       "    .dataframe tbody tr th:only-of-type {\n",
       "        vertical-align: middle;\n",
       "    }\n",
       "\n",
       "    .dataframe tbody tr th {\n",
       "        vertical-align: top;\n",
       "    }\n",
       "\n",
       "    .dataframe thead tr th {\n",
       "        text-align: left;\n",
       "    }\n",
       "\n",
       "    .dataframe thead tr:last-of-type th {\n",
       "        text-align: right;\n",
       "    }\n",
       "</style>\n",
       "<table border=\"1\" class=\"dataframe\">\n",
       "  <thead>\n",
       "    <tr>\n",
       "      <th></th>\n",
       "      <th colspan=\"3\" halign=\"left\">order_number</th>\n",
       "      <th colspan=\"3\" halign=\"left\">days_since_prior_order</th>\n",
       "      <th colspan=\"3\" halign=\"left\">order_dow</th>\n",
       "      <th colspan=\"3\" halign=\"left\">order_hour_of_day</th>\n",
       "      <th colspan=\"3\" halign=\"left\">prices</th>\n",
       "      <th colspan=\"3\" halign=\"left\">income</th>\n",
       "    </tr>\n",
       "    <tr>\n",
       "      <th></th>\n",
       "      <th>mean</th>\n",
       "      <th>min</th>\n",
       "      <th>max</th>\n",
       "      <th>mean</th>\n",
       "      <th>min</th>\n",
       "      <th>max</th>\n",
       "      <th>mean</th>\n",
       "      <th>min</th>\n",
       "      <th>max</th>\n",
       "      <th>mean</th>\n",
       "      <th>min</th>\n",
       "      <th>max</th>\n",
       "      <th>mean</th>\n",
       "      <th>min</th>\n",
       "      <th>max</th>\n",
       "      <th>mean</th>\n",
       "      <th>min</th>\n",
       "      <th>max</th>\n",
       "    </tr>\n",
       "    <tr>\n",
       "      <th>user_id</th>\n",
       "      <th></th>\n",
       "      <th></th>\n",
       "      <th></th>\n",
       "      <th></th>\n",
       "      <th></th>\n",
       "      <th></th>\n",
       "      <th></th>\n",
       "      <th></th>\n",
       "      <th></th>\n",
       "      <th></th>\n",
       "      <th></th>\n",
       "      <th></th>\n",
       "      <th></th>\n",
       "      <th></th>\n",
       "      <th></th>\n",
       "      <th></th>\n",
       "      <th></th>\n",
       "      <th></th>\n",
       "    </tr>\n",
       "  </thead>\n",
       "  <tbody>\n",
       "    <tr>\n",
       "      <th>1</th>\n",
       "      <td>6.000000</td>\n",
       "      <td>2</td>\n",
       "      <td>10</td>\n",
       "      <td>19.555556</td>\n",
       "      <td>0.0</td>\n",
       "      <td>30.0</td>\n",
       "      <td>2.555556</td>\n",
       "      <td>1</td>\n",
       "      <td>4</td>\n",
       "      <td>10.555556</td>\n",
       "      <td>7</td>\n",
       "      <td>16</td>\n",
       "      <td>18.866667</td>\n",
       "      <td>4.4</td>\n",
       "      <td>31.4</td>\n",
       "      <td>40423.0</td>\n",
       "      <td>40423</td>\n",
       "      <td>40423</td>\n",
       "    </tr>\n",
       "    <tr>\n",
       "      <th>2</th>\n",
       "      <td>8.000000</td>\n",
       "      <td>2</td>\n",
       "      <td>14</td>\n",
       "      <td>15.230769</td>\n",
       "      <td>3.0</td>\n",
       "      <td>30.0</td>\n",
       "      <td>2.153846</td>\n",
       "      <td>1</td>\n",
       "      <td>5</td>\n",
       "      <td>10.538462</td>\n",
       "      <td>9</td>\n",
       "      <td>15</td>\n",
       "      <td>65.423077</td>\n",
       "      <td>17.0</td>\n",
       "      <td>147.7</td>\n",
       "      <td>64940.0</td>\n",
       "      <td>64940</td>\n",
       "      <td>64940</td>\n",
       "    </tr>\n",
       "    <tr>\n",
       "      <th>3</th>\n",
       "      <td>7.000000</td>\n",
       "      <td>2</td>\n",
       "      <td>12</td>\n",
       "      <td>12.090909</td>\n",
       "      <td>7.0</td>\n",
       "      <td>21.0</td>\n",
       "      <td>1.090909</td>\n",
       "      <td>0</td>\n",
       "      <td>3</td>\n",
       "      <td>16.636364</td>\n",
       "      <td>15</td>\n",
       "      <td>19</td>\n",
       "      <td>34.018182</td>\n",
       "      <td>17.0</td>\n",
       "      <td>65.0</td>\n",
       "      <td>93240.0</td>\n",
       "      <td>93240</td>\n",
       "      <td>93240</td>\n",
       "    </tr>\n",
       "    <tr>\n",
       "      <th>4</th>\n",
       "      <td>3.500000</td>\n",
       "      <td>2</td>\n",
       "      <td>5</td>\n",
       "      <td>13.750000</td>\n",
       "      <td>0.0</td>\n",
       "      <td>21.0</td>\n",
       "      <td>4.500000</td>\n",
       "      <td>4</td>\n",
       "      <td>5</td>\n",
       "      <td>13.000000</td>\n",
       "      <td>11</td>\n",
       "      <td>15</td>\n",
       "      <td>12.925000</td>\n",
       "      <td>7.5</td>\n",
       "      <td>26.5</td>\n",
       "      <td>45435.0</td>\n",
       "      <td>45435</td>\n",
       "      <td>45435</td>\n",
       "    </tr>\n",
       "    <tr>\n",
       "      <th>5</th>\n",
       "      <td>3.000000</td>\n",
       "      <td>2</td>\n",
       "      <td>4</td>\n",
       "      <td>13.333333</td>\n",
       "      <td>10.0</td>\n",
       "      <td>19.0</td>\n",
       "      <td>1.333333</td>\n",
       "      <td>0</td>\n",
       "      <td>3</td>\n",
       "      <td>17.333333</td>\n",
       "      <td>16</td>\n",
       "      <td>18</td>\n",
       "      <td>44.766667</td>\n",
       "      <td>13.3</td>\n",
       "      <td>67.1</td>\n",
       "      <td>115242.0</td>\n",
       "      <td>115242</td>\n",
       "      <td>115242</td>\n",
       "    </tr>\n",
       "    <tr>\n",
       "      <th>...</th>\n",
       "      <td>...</td>\n",
       "      <td>...</td>\n",
       "      <td>...</td>\n",
       "      <td>...</td>\n",
       "      <td>...</td>\n",
       "      <td>...</td>\n",
       "      <td>...</td>\n",
       "      <td>...</td>\n",
       "      <td>...</td>\n",
       "      <td>...</td>\n",
       "      <td>...</td>\n",
       "      <td>...</td>\n",
       "      <td>...</td>\n",
       "      <td>...</td>\n",
       "      <td>...</td>\n",
       "      <td>...</td>\n",
       "      <td>...</td>\n",
       "      <td>...</td>\n",
       "    </tr>\n",
       "    <tr>\n",
       "      <th>206205</th>\n",
       "      <td>2.500000</td>\n",
       "      <td>2</td>\n",
       "      <td>3</td>\n",
       "      <td>20.000000</td>\n",
       "      <td>10.0</td>\n",
       "      <td>30.0</td>\n",
       "      <td>3.500000</td>\n",
       "      <td>2</td>\n",
       "      <td>5</td>\n",
       "      <td>15.500000</td>\n",
       "      <td>15</td>\n",
       "      <td>16</td>\n",
       "      <td>52.250000</td>\n",
       "      <td>46.4</td>\n",
       "      <td>58.1</td>\n",
       "      <td>99402.0</td>\n",
       "      <td>99402</td>\n",
       "      <td>99402</td>\n",
       "    </tr>\n",
       "    <tr>\n",
       "      <th>206206</th>\n",
       "      <td>35.500000</td>\n",
       "      <td>2</td>\n",
       "      <td>67</td>\n",
       "      <td>3.816667</td>\n",
       "      <td>0.0</td>\n",
       "      <td>15.0</td>\n",
       "      <td>2.416667</td>\n",
       "      <td>0</td>\n",
       "      <td>6</td>\n",
       "      <td>16.633333</td>\n",
       "      <td>9</td>\n",
       "      <td>20</td>\n",
       "      <td>20.365000</td>\n",
       "      <td>3.2</td>\n",
       "      <td>106.8</td>\n",
       "      <td>75041.0</td>\n",
       "      <td>75041</td>\n",
       "      <td>75041</td>\n",
       "    </tr>\n",
       "    <tr>\n",
       "      <th>206207</th>\n",
       "      <td>9.000000</td>\n",
       "      <td>2</td>\n",
       "      <td>16</td>\n",
       "      <td>14.333333</td>\n",
       "      <td>1.0</td>\n",
       "      <td>30.0</td>\n",
       "      <td>2.333333</td>\n",
       "      <td>0</td>\n",
       "      <td>6</td>\n",
       "      <td>12.066667</td>\n",
       "      <td>4</td>\n",
       "      <td>21</td>\n",
       "      <td>60.220000</td>\n",
       "      <td>26.4</td>\n",
       "      <td>129.4</td>\n",
       "      <td>110135.0</td>\n",
       "      <td>110135</td>\n",
       "      <td>110135</td>\n",
       "    </tr>\n",
       "    <tr>\n",
       "      <th>206208</th>\n",
       "      <td>25.500000</td>\n",
       "      <td>2</td>\n",
       "      <td>49</td>\n",
       "      <td>7.437500</td>\n",
       "      <td>0.0</td>\n",
       "      <td>20.0</td>\n",
       "      <td>2.687500</td>\n",
       "      <td>0</td>\n",
       "      <td>6</td>\n",
       "      <td>14.250000</td>\n",
       "      <td>4</td>\n",
       "      <td>23</td>\n",
       "      <td>70.962500</td>\n",
       "      <td>4.5</td>\n",
       "      <td>142.8</td>\n",
       "      <td>156838.0</td>\n",
       "      <td>156838</td>\n",
       "      <td>156838</td>\n",
       "    </tr>\n",
       "    <tr>\n",
       "      <th>206209</th>\n",
       "      <td>7.636364</td>\n",
       "      <td>2</td>\n",
       "      <td>13</td>\n",
       "      <td>18.818182</td>\n",
       "      <td>3.0</td>\n",
       "      <td>30.0</td>\n",
       "      <td>3.000000</td>\n",
       "      <td>1</td>\n",
       "      <td>5</td>\n",
       "      <td>13.636364</td>\n",
       "      <td>10</td>\n",
       "      <td>18</td>\n",
       "      <td>43.309091</td>\n",
       "      <td>11.5</td>\n",
       "      <td>66.9</td>\n",
       "      <td>137969.0</td>\n",
       "      <td>137969</td>\n",
       "      <td>137969</td>\n",
       "    </tr>\n",
       "  </tbody>\n",
       "</table>\n",
       "<p>205991 rows × 18 columns</p>\n",
       "</div>"
      ],
      "text/plain": [
       "        order_number         days_since_prior_order             order_dow      \\\n",
       "                mean min max                   mean   min   max      mean min   \n",
       "user_id                                                                         \n",
       "1           6.000000   2  10              19.555556   0.0  30.0  2.555556   1   \n",
       "2           8.000000   2  14              15.230769   3.0  30.0  2.153846   1   \n",
       "3           7.000000   2  12              12.090909   7.0  21.0  1.090909   0   \n",
       "4           3.500000   2   5              13.750000   0.0  21.0  4.500000   4   \n",
       "5           3.000000   2   4              13.333333  10.0  19.0  1.333333   0   \n",
       "...              ...  ..  ..                    ...   ...   ...       ...  ..   \n",
       "206205      2.500000   2   3              20.000000  10.0  30.0  3.500000   2   \n",
       "206206     35.500000   2  67               3.816667   0.0  15.0  2.416667   0   \n",
       "206207      9.000000   2  16              14.333333   1.0  30.0  2.333333   0   \n",
       "206208     25.500000   2  49               7.437500   0.0  20.0  2.687500   0   \n",
       "206209      7.636364   2  13              18.818182   3.0  30.0  3.000000   1   \n",
       "\n",
       "            order_hour_of_day             prices                 income  \\\n",
       "        max              mean min max       mean   min    max      mean   \n",
       "user_id                                                                   \n",
       "1         4         10.555556   7  16  18.866667   4.4   31.4   40423.0   \n",
       "2         5         10.538462   9  15  65.423077  17.0  147.7   64940.0   \n",
       "3         3         16.636364  15  19  34.018182  17.0   65.0   93240.0   \n",
       "4         5         13.000000  11  15  12.925000   7.5   26.5   45435.0   \n",
       "5         3         17.333333  16  18  44.766667  13.3   67.1  115242.0   \n",
       "...      ..               ...  ..  ..        ...   ...    ...       ...   \n",
       "206205    5         15.500000  15  16  52.250000  46.4   58.1   99402.0   \n",
       "206206    6         16.633333   9  20  20.365000   3.2  106.8   75041.0   \n",
       "206207    6         12.066667   4  21  60.220000  26.4  129.4  110135.0   \n",
       "206208    6         14.250000   4  23  70.962500   4.5  142.8  156838.0   \n",
       "206209    5         13.636364  10  18  43.309091  11.5   66.9  137969.0   \n",
       "\n",
       "                         \n",
       "            min     max  \n",
       "user_id                  \n",
       "1         40423   40423  \n",
       "2         64940   64940  \n",
       "3         93240   93240  \n",
       "4         45435   45435  \n",
       "5        115242  115242  \n",
       "...         ...     ...  \n",
       "206205    99402   99402  \n",
       "206206    75041   75041  \n",
       "206207   110135  110135  \n",
       "206208   156838  156838  \n",
       "206209   137969  137969  \n",
       "\n",
       "[205991 rows x 18 columns]"
      ]
     },
     "execution_count": 184,
     "metadata": {},
     "output_type": "execute_result"
    }
   ],
   "source": [
    "user_agg"
   ]
  },
  {
   "cell_type": "markdown",
   "id": "e28a6502-c7a6-4cfd-86be-11ace3377ea6",
   "metadata": {},
   "source": [
    "### Create aggregation by age_group for days_since_prior_order & prices"
   ]
  },
  {
   "cell_type": "code",
   "execution_count": 186,
   "id": "4e306b48-5f6c-4f54-ae62-8b0549169821",
   "metadata": {},
   "outputs": [],
   "source": [
    "age_group_agg = cust_profile_agg.groupby('age_group').agg({'days_since_prior_order':['mean','min','max'],'prices':['mean','min','max']})"
   ]
  },
  {
   "cell_type": "code",
   "execution_count": 187,
   "id": "533bef1a-2d22-4eb8-ab24-0c8bcdfd821a",
   "metadata": {},
   "outputs": [
    {
     "data": {
      "text/html": [
       "<div>\n",
       "<style scoped>\n",
       "    .dataframe tbody tr th:only-of-type {\n",
       "        vertical-align: middle;\n",
       "    }\n",
       "\n",
       "    .dataframe tbody tr th {\n",
       "        vertical-align: top;\n",
       "    }\n",
       "\n",
       "    .dataframe thead tr th {\n",
       "        text-align: left;\n",
       "    }\n",
       "\n",
       "    .dataframe thead tr:last-of-type th {\n",
       "        text-align: right;\n",
       "    }\n",
       "</style>\n",
       "<table border=\"1\" class=\"dataframe\">\n",
       "  <thead>\n",
       "    <tr>\n",
       "      <th></th>\n",
       "      <th colspan=\"3\" halign=\"left\">days_since_prior_order</th>\n",
       "      <th colspan=\"3\" halign=\"left\">prices</th>\n",
       "    </tr>\n",
       "    <tr>\n",
       "      <th></th>\n",
       "      <th>mean</th>\n",
       "      <th>min</th>\n",
       "      <th>max</th>\n",
       "      <th>mean</th>\n",
       "      <th>min</th>\n",
       "      <th>max</th>\n",
       "    </tr>\n",
       "    <tr>\n",
       "      <th>age_group</th>\n",
       "      <th></th>\n",
       "      <th></th>\n",
       "      <th></th>\n",
       "      <th></th>\n",
       "      <th></th>\n",
       "      <th></th>\n",
       "    </tr>\n",
       "  </thead>\n",
       "  <tbody>\n",
       "    <tr>\n",
       "      <th>Middle-Age</th>\n",
       "      <td>10.688920</td>\n",
       "      <td>0.0</td>\n",
       "      <td>30.0</td>\n",
       "      <td>74.870042</td>\n",
       "      <td>1.0</td>\n",
       "      <td>100230.7</td>\n",
       "    </tr>\n",
       "    <tr>\n",
       "      <th>Senior</th>\n",
       "      <td>10.698376</td>\n",
       "      <td>0.0</td>\n",
       "      <td>30.0</td>\n",
       "      <td>74.930595</td>\n",
       "      <td>1.0</td>\n",
       "      <td>100259.6</td>\n",
       "    </tr>\n",
       "    <tr>\n",
       "      <th>Young</th>\n",
       "      <td>10.743536</td>\n",
       "      <td>0.0</td>\n",
       "      <td>30.0</td>\n",
       "      <td>75.581651</td>\n",
       "      <td>1.0</td>\n",
       "      <td>100214.3</td>\n",
       "    </tr>\n",
       "  </tbody>\n",
       "</table>\n",
       "</div>"
      ],
      "text/plain": [
       "           days_since_prior_order                prices               \n",
       "                             mean  min   max       mean  min       max\n",
       "age_group                                                             \n",
       "Middle-Age              10.688920  0.0  30.0  74.870042  1.0  100230.7\n",
       "Senior                  10.698376  0.0  30.0  74.930595  1.0  100259.6\n",
       "Young                   10.743536  0.0  30.0  75.581651  1.0  100214.3"
      ]
     },
     "execution_count": 187,
     "metadata": {},
     "output_type": "execute_result"
    }
   ],
   "source": [
    "age_group_agg"
   ]
  },
  {
   "cell_type": "markdown",
   "id": "0ac9c8d7-f4df-4646-9d9b-88b9470b2ba8",
   "metadata": {},
   "source": [
    "### Create aggregation by income_group for days_since_prior_order and prices"
   ]
  },
  {
   "cell_type": "code",
   "execution_count": 189,
   "id": "65627891-09b7-4547-aa50-79a59c077a00",
   "metadata": {},
   "outputs": [],
   "source": [
    "income_group_agg = cust_profile_agg.groupby('income_group').agg({'days_since_prior_order':['mean','min','max'],'prices':['mean','min','max']})"
   ]
  },
  {
   "cell_type": "code",
   "execution_count": 190,
   "id": "f48240c4-48f4-4018-b012-b17bcde0b186",
   "metadata": {},
   "outputs": [
    {
     "data": {
      "text/html": [
       "<div>\n",
       "<style scoped>\n",
       "    .dataframe tbody tr th:only-of-type {\n",
       "        vertical-align: middle;\n",
       "    }\n",
       "\n",
       "    .dataframe tbody tr th {\n",
       "        vertical-align: top;\n",
       "    }\n",
       "\n",
       "    .dataframe thead tr th {\n",
       "        text-align: left;\n",
       "    }\n",
       "\n",
       "    .dataframe thead tr:last-of-type th {\n",
       "        text-align: right;\n",
       "    }\n",
       "</style>\n",
       "<table border=\"1\" class=\"dataframe\">\n",
       "  <thead>\n",
       "    <tr>\n",
       "      <th></th>\n",
       "      <th colspan=\"3\" halign=\"left\">days_since_prior_order</th>\n",
       "      <th colspan=\"3\" halign=\"left\">prices</th>\n",
       "    </tr>\n",
       "    <tr>\n",
       "      <th></th>\n",
       "      <th>mean</th>\n",
       "      <th>min</th>\n",
       "      <th>max</th>\n",
       "      <th>mean</th>\n",
       "      <th>min</th>\n",
       "      <th>max</th>\n",
       "    </tr>\n",
       "    <tr>\n",
       "      <th>income_group</th>\n",
       "      <th></th>\n",
       "      <th></th>\n",
       "      <th></th>\n",
       "      <th></th>\n",
       "      <th></th>\n",
       "      <th></th>\n",
       "    </tr>\n",
       "  </thead>\n",
       "  <tbody>\n",
       "    <tr>\n",
       "      <th>High Income</th>\n",
       "      <td>10.521655</td>\n",
       "      <td>0.0</td>\n",
       "      <td>30.0</td>\n",
       "      <td>146.751371</td>\n",
       "      <td>1.0</td>\n",
       "      <td>100259.6</td>\n",
       "    </tr>\n",
       "    <tr>\n",
       "      <th>Low Income</th>\n",
       "      <td>11.141673</td>\n",
       "      <td>0.0</td>\n",
       "      <td>30.0</td>\n",
       "      <td>40.401614</td>\n",
       "      <td>1.0</td>\n",
       "      <td>15118.2</td>\n",
       "    </tr>\n",
       "    <tr>\n",
       "      <th>Middle Income</th>\n",
       "      <td>10.561497</td>\n",
       "      <td>0.0</td>\n",
       "      <td>30.0</td>\n",
       "      <td>60.400641</td>\n",
       "      <td>1.0</td>\n",
       "      <td>100230.7</td>\n",
       "    </tr>\n",
       "  </tbody>\n",
       "</table>\n",
       "</div>"
      ],
      "text/plain": [
       "              days_since_prior_order                 prices               \n",
       "                                mean  min   max        mean  min       max\n",
       "income_group                                                              \n",
       "High Income                10.521655  0.0  30.0  146.751371  1.0  100259.6\n",
       "Low Income                 11.141673  0.0  30.0   40.401614  1.0   15118.2\n",
       "Middle Income              10.561497  0.0  30.0   60.400641  1.0  100230.7"
      ]
     },
     "execution_count": 190,
     "metadata": {},
     "output_type": "execute_result"
    }
   ],
   "source": [
    "income_group_agg"
   ]
  },
  {
   "cell_type": "markdown",
   "id": "db4406a3-567b-476b-bb0e-166504c7d565",
   "metadata": {},
   "source": [
    "### Create aggregation by dependent_size group for days_since_prior_order and prices dependent_size"
   ]
  },
  {
   "cell_type": "code",
   "execution_count": 192,
   "id": "dc08fe4b-ce40-4af2-9074-2f124e1df57c",
   "metadata": {},
   "outputs": [],
   "source": [
    "dependent_size_agg = cust_profile_agg.groupby('dependant_size').agg({'days_since_prior_order':['mean','min','max'],'prices':['mean','min','max']})"
   ]
  },
  {
   "cell_type": "code",
   "execution_count": 193,
   "id": "b2713065-59de-46bb-9a2b-c2f624457866",
   "metadata": {},
   "outputs": [
    {
     "data": {
      "text/html": [
       "<div>\n",
       "<style scoped>\n",
       "    .dataframe tbody tr th:only-of-type {\n",
       "        vertical-align: middle;\n",
       "    }\n",
       "\n",
       "    .dataframe tbody tr th {\n",
       "        vertical-align: top;\n",
       "    }\n",
       "\n",
       "    .dataframe thead tr th {\n",
       "        text-align: left;\n",
       "    }\n",
       "\n",
       "    .dataframe thead tr:last-of-type th {\n",
       "        text-align: right;\n",
       "    }\n",
       "</style>\n",
       "<table border=\"1\" class=\"dataframe\">\n",
       "  <thead>\n",
       "    <tr>\n",
       "      <th></th>\n",
       "      <th colspan=\"3\" halign=\"left\">days_since_prior_order</th>\n",
       "      <th colspan=\"3\" halign=\"left\">prices</th>\n",
       "    </tr>\n",
       "    <tr>\n",
       "      <th></th>\n",
       "      <th>mean</th>\n",
       "      <th>min</th>\n",
       "      <th>max</th>\n",
       "      <th>mean</th>\n",
       "      <th>min</th>\n",
       "      <th>max</th>\n",
       "    </tr>\n",
       "    <tr>\n",
       "      <th>dependant_size</th>\n",
       "      <th></th>\n",
       "      <th></th>\n",
       "      <th></th>\n",
       "      <th></th>\n",
       "      <th></th>\n",
       "      <th></th>\n",
       "    </tr>\n",
       "  </thead>\n",
       "  <tbody>\n",
       "    <tr>\n",
       "      <th>Large</th>\n",
       "      <td>10.680286</td>\n",
       "      <td>0.0</td>\n",
       "      <td>30.0</td>\n",
       "      <td>75.093179</td>\n",
       "      <td>1.0</td>\n",
       "      <td>100214.3</td>\n",
       "    </tr>\n",
       "    <tr>\n",
       "      <th>Medium</th>\n",
       "      <td>10.729373</td>\n",
       "      <td>0.0</td>\n",
       "      <td>30.0</td>\n",
       "      <td>77.015604</td>\n",
       "      <td>1.0</td>\n",
       "      <td>100259.6</td>\n",
       "    </tr>\n",
       "    <tr>\n",
       "      <th>Small</th>\n",
       "      <td>10.701430</td>\n",
       "      <td>0.0</td>\n",
       "      <td>30.0</td>\n",
       "      <td>74.016059</td>\n",
       "      <td>1.0</td>\n",
       "      <td>100230.7</td>\n",
       "    </tr>\n",
       "  </tbody>\n",
       "</table>\n",
       "</div>"
      ],
      "text/plain": [
       "               days_since_prior_order                prices               \n",
       "                                 mean  min   max       mean  min       max\n",
       "dependant_size                                                            \n",
       "Large                       10.680286  0.0  30.0  75.093179  1.0  100214.3\n",
       "Medium                      10.729373  0.0  30.0  77.015604  1.0  100259.6\n",
       "Small                       10.701430  0.0  30.0  74.016059  1.0  100230.7"
      ]
     },
     "execution_count": 193,
     "metadata": {},
     "output_type": "execute_result"
    }
   ],
   "source": [
    "dependent_size_agg"
   ]
  },
  {
   "cell_type": "markdown",
   "id": "cdb98c65-7afc-4559-b77c-ae28e0178af5",
   "metadata": {},
   "source": [
    "### Create aggregation by week_day_category group for days_since_prior_order & prices"
   ]
  },
  {
   "cell_type": "code",
   "execution_count": 206,
   "id": "5e05951e-40c8-46e5-802e-ab1525797620",
   "metadata": {},
   "outputs": [],
   "source": [
    "week_day_category_agg=cust_profile_agg.groupby('week_day_category').agg({'days_since_prior_order':['mean','min','max'],'prices':['mean','min','max']})"
   ]
  },
  {
   "cell_type": "code",
   "execution_count": 208,
   "id": "6fc9f32b-4674-40fd-a652-c0a1d623169c",
   "metadata": {},
   "outputs": [
    {
     "data": {
      "text/html": [
       "<div>\n",
       "<style scoped>\n",
       "    .dataframe tbody tr th:only-of-type {\n",
       "        vertical-align: middle;\n",
       "    }\n",
       "\n",
       "    .dataframe tbody tr th {\n",
       "        vertical-align: top;\n",
       "    }\n",
       "\n",
       "    .dataframe thead tr th {\n",
       "        text-align: left;\n",
       "    }\n",
       "\n",
       "    .dataframe thead tr:last-of-type th {\n",
       "        text-align: right;\n",
       "    }\n",
       "</style>\n",
       "<table border=\"1\" class=\"dataframe\">\n",
       "  <thead>\n",
       "    <tr>\n",
       "      <th></th>\n",
       "      <th colspan=\"3\" halign=\"left\">days_since_prior_order</th>\n",
       "      <th colspan=\"3\" halign=\"left\">prices</th>\n",
       "    </tr>\n",
       "    <tr>\n",
       "      <th></th>\n",
       "      <th>mean</th>\n",
       "      <th>min</th>\n",
       "      <th>max</th>\n",
       "      <th>mean</th>\n",
       "      <th>min</th>\n",
       "      <th>max</th>\n",
       "    </tr>\n",
       "    <tr>\n",
       "      <th>week_day_category</th>\n",
       "      <th></th>\n",
       "      <th></th>\n",
       "      <th></th>\n",
       "      <th></th>\n",
       "      <th></th>\n",
       "      <th></th>\n",
       "    </tr>\n",
       "  </thead>\n",
       "  <tbody>\n",
       "    <tr>\n",
       "      <th>Weekday</th>\n",
       "      <td>10.474455</td>\n",
       "      <td>0.0</td>\n",
       "      <td>30.0</td>\n",
       "      <td>74.120546</td>\n",
       "      <td>1.0</td>\n",
       "      <td>100230.7</td>\n",
       "    </tr>\n",
       "    <tr>\n",
       "      <th>Weekend</th>\n",
       "      <td>11.132062</td>\n",
       "      <td>0.0</td>\n",
       "      <td>30.0</td>\n",
       "      <td>76.748044</td>\n",
       "      <td>1.0</td>\n",
       "      <td>100259.6</td>\n",
       "    </tr>\n",
       "  </tbody>\n",
       "</table>\n",
       "</div>"
      ],
      "text/plain": [
       "                  days_since_prior_order                prices               \n",
       "                                    mean  min   max       mean  min       max\n",
       "week_day_category                                                            \n",
       "Weekday                        10.474455  0.0  30.0  74.120546  1.0  100230.7\n",
       "Weekend                        11.132062  0.0  30.0  76.748044  1.0  100259.6"
      ]
     },
     "execution_count": 208,
     "metadata": {},
     "output_type": "execute_result"
    }
   ],
   "source": [
    "week_day_category_agg"
   ]
  },
  {
   "cell_type": "markdown",
   "id": "781e4bdd-0475-446c-a39c-4956b7afe3b7",
   "metadata": {},
   "source": [
    "### Create aggregation by order_hour_group for days_since_prior_order and prices"
   ]
  },
  {
   "cell_type": "code",
   "execution_count": 211,
   "id": "a2bc029c-32be-45a5-8f3f-0188c975da63",
   "metadata": {},
   "outputs": [],
   "source": [
    "order_hour_group_agg=cust_profile_agg.groupby('order_hour_group').agg({'days_since_prior_order':['mean','min','max'],'prices':['mean','min','max']})"
   ]
  },
  {
   "cell_type": "code",
   "execution_count": 213,
   "id": "1314086e-e93a-46ab-90cb-3176572a18a9",
   "metadata": {},
   "outputs": [
    {
     "data": {
      "text/html": [
       "<div>\n",
       "<style scoped>\n",
       "    .dataframe tbody tr th:only-of-type {\n",
       "        vertical-align: middle;\n",
       "    }\n",
       "\n",
       "    .dataframe tbody tr th {\n",
       "        vertical-align: top;\n",
       "    }\n",
       "\n",
       "    .dataframe thead tr th {\n",
       "        text-align: left;\n",
       "    }\n",
       "\n",
       "    .dataframe thead tr:last-of-type th {\n",
       "        text-align: right;\n",
       "    }\n",
       "</style>\n",
       "<table border=\"1\" class=\"dataframe\">\n",
       "  <thead>\n",
       "    <tr>\n",
       "      <th></th>\n",
       "      <th colspan=\"3\" halign=\"left\">days_since_prior_order</th>\n",
       "      <th colspan=\"3\" halign=\"left\">prices</th>\n",
       "    </tr>\n",
       "    <tr>\n",
       "      <th></th>\n",
       "      <th>mean</th>\n",
       "      <th>min</th>\n",
       "      <th>max</th>\n",
       "      <th>mean</th>\n",
       "      <th>min</th>\n",
       "      <th>max</th>\n",
       "    </tr>\n",
       "    <tr>\n",
       "      <th>order_hour_group</th>\n",
       "      <th></th>\n",
       "      <th></th>\n",
       "      <th></th>\n",
       "      <th></th>\n",
       "      <th></th>\n",
       "      <th></th>\n",
       "    </tr>\n",
       "  </thead>\n",
       "  <tbody>\n",
       "    <tr>\n",
       "      <th>Afternoon</th>\n",
       "      <td>10.839140</td>\n",
       "      <td>0.0</td>\n",
       "      <td>30.0</td>\n",
       "      <td>76.112381</td>\n",
       "      <td>1.0</td>\n",
       "      <td>100259.6</td>\n",
       "    </tr>\n",
       "    <tr>\n",
       "      <th>Evening</th>\n",
       "      <td>10.580609</td>\n",
       "      <td>0.0</td>\n",
       "      <td>30.0</td>\n",
       "      <td>72.262651</td>\n",
       "      <td>1.0</td>\n",
       "      <td>100144.8</td>\n",
       "    </tr>\n",
       "    <tr>\n",
       "      <th>Morning</th>\n",
       "      <td>10.581869</td>\n",
       "      <td>0.0</td>\n",
       "      <td>30.0</td>\n",
       "      <td>74.979575</td>\n",
       "      <td>1.0</td>\n",
       "      <td>100221.5</td>\n",
       "    </tr>\n",
       "  </tbody>\n",
       "</table>\n",
       "</div>"
      ],
      "text/plain": [
       "                 days_since_prior_order                prices               \n",
       "                                   mean  min   max       mean  min       max\n",
       "order_hour_group                                                            \n",
       "Afternoon                     10.839140  0.0  30.0  76.112381  1.0  100259.6\n",
       "Evening                       10.580609  0.0  30.0  72.262651  1.0  100144.8\n",
       "Morning                       10.581869  0.0  30.0  74.979575  1.0  100221.5"
      ]
     },
     "execution_count": 213,
     "metadata": {},
     "output_type": "execute_result"
    }
   ],
   "source": [
    "order_hour_group_agg"
   ]
  },
  {
   "cell_type": "code",
   "execution_count": 215,
   "id": "a1af2722-561a-4c2f-8f8e-aff053cc32ca",
   "metadata": {},
   "outputs": [
    {
     "data": {
      "text/html": [
       "<div>\n",
       "<style scoped>\n",
       "    .dataframe tbody tr th:only-of-type {\n",
       "        vertical-align: middle;\n",
       "    }\n",
       "\n",
       "    .dataframe tbody tr th {\n",
       "        vertical-align: top;\n",
       "    }\n",
       "\n",
       "    .dataframe thead th {\n",
       "        text-align: right;\n",
       "    }\n",
       "</style>\n",
       "<table border=\"1\" class=\"dataframe\">\n",
       "  <thead>\n",
       "    <tr style=\"text-align: right;\">\n",
       "      <th></th>\n",
       "      <th>product_id</th>\n",
       "      <th>aisle_id</th>\n",
       "      <th>department_id</th>\n",
       "      <th>prices</th>\n",
       "      <th>order_id</th>\n",
       "      <th>user_id</th>\n",
       "      <th>order_number</th>\n",
       "      <th>order_dow</th>\n",
       "      <th>order_hour_of_day</th>\n",
       "      <th>days_since_prior_order</th>\n",
       "      <th>add_to_cart_order</th>\n",
       "      <th>reordered</th>\n",
       "      <th>max_order</th>\n",
       "      <th>mean_product_price</th>\n",
       "      <th>median_days_between_orders</th>\n",
       "      <th>age</th>\n",
       "      <th>n_dependants</th>\n",
       "      <th>income</th>\n",
       "    </tr>\n",
       "  </thead>\n",
       "  <tbody>\n",
       "    <tr>\n",
       "      <th>count</th>\n",
       "      <td>1.944466e+07</td>\n",
       "      <td>1.944466e+07</td>\n",
       "      <td>1.944466e+07</td>\n",
       "      <td>1.944466e+07</td>\n",
       "      <td>1.944466e+07</td>\n",
       "      <td>1.944466e+07</td>\n",
       "      <td>1.944466e+07</td>\n",
       "      <td>1.944466e+07</td>\n",
       "      <td>1.944466e+07</td>\n",
       "      <td>1.819862e+07</td>\n",
       "      <td>1.944466e+07</td>\n",
       "      <td>1.944466e+07</td>\n",
       "      <td>1.944466e+07</td>\n",
       "      <td>1.944466e+07</td>\n",
       "      <td>1.944466e+07</td>\n",
       "      <td>1.944466e+07</td>\n",
       "      <td>1.944466e+07</td>\n",
       "      <td>1.944466e+07</td>\n",
       "    </tr>\n",
       "    <tr>\n",
       "      <th>mean</th>\n",
       "      <td>2.560236e+04</td>\n",
       "      <td>7.119326e+01</td>\n",
       "      <td>9.919777e+00</td>\n",
       "      <td>1.196175e+01</td>\n",
       "      <td>1.710746e+06</td>\n",
       "      <td>1.029357e+05</td>\n",
       "      <td>1.714289e+01</td>\n",
       "      <td>2.738542e+00</td>\n",
       "      <td>1.342465e+01</td>\n",
       "      <td>1.110438e+01</td>\n",
       "      <td>8.353570e+00</td>\n",
       "      <td>5.896482e-01</td>\n",
       "      <td>3.305326e+01</td>\n",
       "      <td>1.199228e+01</td>\n",
       "      <td>1.039742e+01</td>\n",
       "      <td>4.946671e+01</td>\n",
       "      <td>1.502023e+00</td>\n",
       "      <td>9.943595e+04</td>\n",
       "    </tr>\n",
       "    <tr>\n",
       "      <th>std</th>\n",
       "      <td>1.408389e+04</td>\n",
       "      <td>3.821518e+01</td>\n",
       "      <td>6.280882e+00</td>\n",
       "      <td>4.901215e+02</td>\n",
       "      <td>9.873132e+05</td>\n",
       "      <td>5.946624e+04</td>\n",
       "      <td>1.753423e+01</td>\n",
       "      <td>2.089937e+00</td>\n",
       "      <td>4.246372e+00</td>\n",
       "      <td>8.779275e+00</td>\n",
       "      <td>7.127583e+00</td>\n",
       "      <td>4.918976e-01</td>\n",
       "      <td>2.515721e+01</td>\n",
       "      <td>8.321833e+01</td>\n",
       "      <td>7.131249e+00</td>\n",
       "      <td>1.848626e+01</td>\n",
       "      <td>1.118793e+00</td>\n",
       "      <td>4.304646e+04</td>\n",
       "    </tr>\n",
       "    <tr>\n",
       "      <th>min</th>\n",
       "      <td>1.000000e+00</td>\n",
       "      <td>1.000000e+00</td>\n",
       "      <td>1.000000e+00</td>\n",
       "      <td>1.000000e+00</td>\n",
       "      <td>2.000000e+00</td>\n",
       "      <td>1.000000e+00</td>\n",
       "      <td>1.000000e+00</td>\n",
       "      <td>0.000000e+00</td>\n",
       "      <td>0.000000e+00</td>\n",
       "      <td>0.000000e+00</td>\n",
       "      <td>1.000000e+00</td>\n",
       "      <td>0.000000e+00</td>\n",
       "      <td>1.000000e+00</td>\n",
       "      <td>1.000000e+00</td>\n",
       "      <td>0.000000e+00</td>\n",
       "      <td>1.800000e+01</td>\n",
       "      <td>0.000000e+00</td>\n",
       "      <td>2.590300e+04</td>\n",
       "    </tr>\n",
       "    <tr>\n",
       "      <th>25%</th>\n",
       "      <td>1.354800e+04</td>\n",
       "      <td>3.100000e+01</td>\n",
       "      <td>4.000000e+00</td>\n",
       "      <td>4.200000e+00</td>\n",
       "      <td>8.559820e+05</td>\n",
       "      <td>5.140900e+04</td>\n",
       "      <td>5.000000e+00</td>\n",
       "      <td>1.000000e+00</td>\n",
       "      <td>1.000000e+01</td>\n",
       "      <td>5.000000e+00</td>\n",
       "      <td>3.000000e+00</td>\n",
       "      <td>0.000000e+00</td>\n",
       "      <td>1.300000e+01</td>\n",
       "      <td>7.387151e+00</td>\n",
       "      <td>6.000000e+00</td>\n",
       "      <td>3.300000e+01</td>\n",
       "      <td>1.000000e+00</td>\n",
       "      <td>6.700600e+04</td>\n",
       "    </tr>\n",
       "    <tr>\n",
       "      <th>50%</th>\n",
       "      <td>2.531600e+04</td>\n",
       "      <td>8.300000e+01</td>\n",
       "      <td>9.000000e+00</td>\n",
       "      <td>7.400000e+00</td>\n",
       "      <td>1.711090e+06</td>\n",
       "      <td>1.026240e+05</td>\n",
       "      <td>1.100000e+01</td>\n",
       "      <td>3.000000e+00</td>\n",
       "      <td>1.300000e+01</td>\n",
       "      <td>8.000000e+00</td>\n",
       "      <td>6.000000e+00</td>\n",
       "      <td>1.000000e+00</td>\n",
       "      <td>2.600000e+01</td>\n",
       "      <td>7.824691e+00</td>\n",
       "      <td>8.000000e+00</td>\n",
       "      <td>4.900000e+01</td>\n",
       "      <td>2.000000e+00</td>\n",
       "      <td>9.661000e+04</td>\n",
       "    </tr>\n",
       "    <tr>\n",
       "      <th>75%</th>\n",
       "      <td>3.794700e+04</td>\n",
       "      <td>1.070000e+02</td>\n",
       "      <td>1.600000e+01</td>\n",
       "      <td>1.130000e+01</td>\n",
       "      <td>2.565497e+06</td>\n",
       "      <td>1.543850e+05</td>\n",
       "      <td>2.400000e+01</td>\n",
       "      <td>5.000000e+00</td>\n",
       "      <td>1.600000e+01</td>\n",
       "      <td>1.500000e+01</td>\n",
       "      <td>1.100000e+01</td>\n",
       "      <td>1.000000e+00</td>\n",
       "      <td>4.700000e+01</td>\n",
       "      <td>8.254054e+00</td>\n",
       "      <td>1.300000e+01</td>\n",
       "      <td>6.500000e+01</td>\n",
       "      <td>3.000000e+00</td>\n",
       "      <td>1.279080e+05</td>\n",
       "    </tr>\n",
       "    <tr>\n",
       "      <th>max</th>\n",
       "      <td>4.968800e+04</td>\n",
       "      <td>1.340000e+02</td>\n",
       "      <td>2.100000e+01</td>\n",
       "      <td>9.999900e+04</td>\n",
       "      <td>3.421083e+06</td>\n",
       "      <td>2.062090e+05</td>\n",
       "      <td>9.900000e+01</td>\n",
       "      <td>6.000000e+00</td>\n",
       "      <td>2.300000e+01</td>\n",
       "      <td>3.000000e+01</td>\n",
       "      <td>1.440000e+02</td>\n",
       "      <td>1.000000e+00</td>\n",
       "      <td>9.900000e+01</td>\n",
       "      <td>2.500542e+04</td>\n",
       "      <td>3.000000e+01</td>\n",
       "      <td>8.100000e+01</td>\n",
       "      <td>3.000000e+00</td>\n",
       "      <td>5.939010e+05</td>\n",
       "    </tr>\n",
       "  </tbody>\n",
       "</table>\n",
       "</div>"
      ],
      "text/plain": [
       "         product_id      aisle_id  department_id        prices      order_id  \\\n",
       "count  1.944466e+07  1.944466e+07   1.944466e+07  1.944466e+07  1.944466e+07   \n",
       "mean   2.560236e+04  7.119326e+01   9.919777e+00  1.196175e+01  1.710746e+06   \n",
       "std    1.408389e+04  3.821518e+01   6.280882e+00  4.901215e+02  9.873132e+05   \n",
       "min    1.000000e+00  1.000000e+00   1.000000e+00  1.000000e+00  2.000000e+00   \n",
       "25%    1.354800e+04  3.100000e+01   4.000000e+00  4.200000e+00  8.559820e+05   \n",
       "50%    2.531600e+04  8.300000e+01   9.000000e+00  7.400000e+00  1.711090e+06   \n",
       "75%    3.794700e+04  1.070000e+02   1.600000e+01  1.130000e+01  2.565497e+06   \n",
       "max    4.968800e+04  1.340000e+02   2.100000e+01  9.999900e+04  3.421083e+06   \n",
       "\n",
       "            user_id  order_number     order_dow  order_hour_of_day  \\\n",
       "count  1.944466e+07  1.944466e+07  1.944466e+07       1.944466e+07   \n",
       "mean   1.029357e+05  1.714289e+01  2.738542e+00       1.342465e+01   \n",
       "std    5.946624e+04  1.753423e+01  2.089937e+00       4.246372e+00   \n",
       "min    1.000000e+00  1.000000e+00  0.000000e+00       0.000000e+00   \n",
       "25%    5.140900e+04  5.000000e+00  1.000000e+00       1.000000e+01   \n",
       "50%    1.026240e+05  1.100000e+01  3.000000e+00       1.300000e+01   \n",
       "75%    1.543850e+05  2.400000e+01  5.000000e+00       1.600000e+01   \n",
       "max    2.062090e+05  9.900000e+01  6.000000e+00       2.300000e+01   \n",
       "\n",
       "       days_since_prior_order  add_to_cart_order     reordered     max_order  \\\n",
       "count            1.819862e+07       1.944466e+07  1.944466e+07  1.944466e+07   \n",
       "mean             1.110438e+01       8.353570e+00  5.896482e-01  3.305326e+01   \n",
       "std              8.779275e+00       7.127583e+00  4.918976e-01  2.515721e+01   \n",
       "min              0.000000e+00       1.000000e+00  0.000000e+00  1.000000e+00   \n",
       "25%              5.000000e+00       3.000000e+00  0.000000e+00  1.300000e+01   \n",
       "50%              8.000000e+00       6.000000e+00  1.000000e+00  2.600000e+01   \n",
       "75%              1.500000e+01       1.100000e+01  1.000000e+00  4.700000e+01   \n",
       "max              3.000000e+01       1.440000e+02  1.000000e+00  9.900000e+01   \n",
       "\n",
       "       mean_product_price  median_days_between_orders           age  \\\n",
       "count        1.944466e+07                1.944466e+07  1.944466e+07   \n",
       "mean         1.199228e+01                1.039742e+01  4.946671e+01   \n",
       "std          8.321833e+01                7.131249e+00  1.848626e+01   \n",
       "min          1.000000e+00                0.000000e+00  1.800000e+01   \n",
       "25%          7.387151e+00                6.000000e+00  3.300000e+01   \n",
       "50%          7.824691e+00                8.000000e+00  4.900000e+01   \n",
       "75%          8.254054e+00                1.300000e+01  6.500000e+01   \n",
       "max          2.500542e+04                3.000000e+01  8.100000e+01   \n",
       "\n",
       "       n_dependants        income  \n",
       "count  1.944466e+07  1.944466e+07  \n",
       "mean   1.502023e+00  9.943595e+04  \n",
       "std    1.118793e+00  4.304646e+04  \n",
       "min    0.000000e+00  2.590300e+04  \n",
       "25%    1.000000e+00  6.700600e+04  \n",
       "50%    2.000000e+00  9.661000e+04  \n",
       "75%    3.000000e+00  1.279080e+05  \n",
       "max    3.000000e+00  5.939010e+05  "
      ]
     },
     "execution_count": 215,
     "metadata": {},
     "output_type": "execute_result"
    }
   ],
   "source": [
    "big_ords_prods_agg_cust.describe()"
   ]
  },
  {
   "cell_type": "markdown",
   "id": "b447c4c8-c1ec-4b59-9d07-1009a0e40794",
   "metadata": {},
   "source": [
    "## 8. Compare your customer profiles with regions and departments. Can you identify a link between them?"
   ]
  },
  {
   "cell_type": "markdown",
   "id": "338ff071-7f5d-4351-a670-a75444a60569",
   "metadata": {},
   "source": [
    "### Create a crosstab to compare age_group profile with region locations"
   ]
  },
  {
   "cell_type": "code",
   "execution_count": 218,
   "id": "85e08084-1c7d-4b82-aaf7-2f46d712ba92",
   "metadata": {},
   "outputs": [],
   "source": [
    "age_region_comparison = pd.crosstab(big_ords_prods_agg_cust['age_group'],big_ords_prods_agg_cust['region'],dropna=False)"
   ]
  },
  {
   "cell_type": "code",
   "execution_count": 221,
   "id": "ac1353d8-10ed-4625-b6d8-76ff115c3971",
   "metadata": {},
   "outputs": [
    {
     "data": {
      "text/html": [
       "<div>\n",
       "<style scoped>\n",
       "    .dataframe tbody tr th:only-of-type {\n",
       "        vertical-align: middle;\n",
       "    }\n",
       "\n",
       "    .dataframe tbody tr th {\n",
       "        vertical-align: top;\n",
       "    }\n",
       "\n",
       "    .dataframe thead th {\n",
       "        text-align: right;\n",
       "    }\n",
       "</style>\n",
       "<table border=\"1\" class=\"dataframe\">\n",
       "  <thead>\n",
       "    <tr style=\"text-align: right;\">\n",
       "      <th>region</th>\n",
       "      <th>Midwest</th>\n",
       "      <th>Northeast</th>\n",
       "      <th>South</th>\n",
       "      <th>West</th>\n",
       "    </tr>\n",
       "    <tr>\n",
       "      <th>age_group</th>\n",
       "      <th></th>\n",
       "      <th></th>\n",
       "      <th></th>\n",
       "      <th></th>\n",
       "    </tr>\n",
       "  </thead>\n",
       "  <tbody>\n",
       "    <tr>\n",
       "      <th>Middle-Age</th>\n",
       "      <td>2161557</td>\n",
       "      <td>1599435</td>\n",
       "      <td>3028669</td>\n",
       "      <td>2342831</td>\n",
       "    </tr>\n",
       "    <tr>\n",
       "      <th>Senior</th>\n",
       "      <td>1479313</td>\n",
       "      <td>1136207</td>\n",
       "      <td>2111647</td>\n",
       "      <td>1624457</td>\n",
       "    </tr>\n",
       "    <tr>\n",
       "      <th>Young</th>\n",
       "      <td>918512</td>\n",
       "      <td>697008</td>\n",
       "      <td>1336717</td>\n",
       "      <td>1008312</td>\n",
       "    </tr>\n",
       "  </tbody>\n",
       "</table>\n",
       "</div>"
      ],
      "text/plain": [
       "region      Midwest  Northeast    South     West\n",
       "age_group                                       \n",
       "Middle-Age  2161557    1599435  3028669  2342831\n",
       "Senior      1479313    1136207  2111647  1624457\n",
       "Young        918512     697008  1336717  1008312"
      ]
     },
     "execution_count": 221,
     "metadata": {},
     "output_type": "execute_result"
    }
   ],
   "source": [
    "age_region_comparison"
   ]
  },
  {
   "cell_type": "markdown",
   "id": "cb2dc0e5-4e38-44a9-a081-c8f2a241687c",
   "metadata": {},
   "source": [
    "### Create bar chart for age group by region"
   ]
  },
  {
   "cell_type": "code",
   "execution_count": 224,
   "id": "337a5afe-d1e5-4c32-b16f-9b4795e27278",
   "metadata": {},
   "outputs": [
    {
     "data": {
      "text/plain": [
       "<Figure size 1000x700 with 0 Axes>"
      ]
     },
     "metadata": {},
     "output_type": "display_data"
    },
    {
     "data": {
      "image/png": "[encoded data removed]",
      "text/plain": [
       "<Figure size 640x480 with 1 Axes>"
      ]
     },
     "metadata": {},
     "output_type": "display_data"
    }
   ],
   "source": [
    "plt.figure(figsize=(10, 7))\n",
    "age_region_comparison_bar= age_region_comparison.plot(kind='bar',rot=0)\n",
    "plt.title('Age Group By Region')\n",
    "plt.xlabel('Age Group')\n",
    "plt.ylabel('Count')\n",
    "plt.legend(title='Region')\n",
    "plt.tight_layout()\n",
    "plt.show()"
   ]
  },
  {
   "cell_type": "code",
   "execution_count": 226,
   "id": "ac960f27-5a47-429d-894e-6aee2b88634c",
   "metadata": {},
   "outputs": [],
   "source": [
    "age_region_comparison_bar.figure.savefig(os.path.join(path,'04 Analysis','Visualizations','age_region_comparison_bar.png'))"
   ]
  },
  {
   "cell_type": "markdown",
   "id": "4f8e9eb8-fb43-45ef-80d2-556e874f7f62",
   "metadata": {},
   "source": [
    "### Create crosstab to compare age_group profile with customer frequency type"
   ]
  },
  {
   "cell_type": "code",
   "execution_count": 229,
   "id": "4bcae7c4-1e72-452f-a458-da111dc23505",
   "metadata": {},
   "outputs": [],
   "source": [
    "age_customer_frequency_comparison = pd.crosstab(big_ords_prods_agg_cust['age_group'],big_ords_prods_agg_cust['order_frequency'])"
   ]
  },
  {
   "cell_type": "markdown",
   "id": "2d34181a-d257-4289-b4b2-89ce3404b146",
   "metadata": {},
   "source": [
    "### Create a bar chart for age_group by customer frequency"
   ]
  },
  {
   "cell_type": "code",
   "execution_count": 231,
   "id": "15e27db3-6f6e-4f22-85aa-8b100ea2e643",
   "metadata": {},
   "outputs": [
    {
     "data": {
      "text/plain": [
       "<Figure size 1000x700 with 0 Axes>"
      ]
     },
     "metadata": {},
     "output_type": "display_data"
    },
    {
     "data": {
      "image/png": "[encoded data removed]",
      "text/plain": [
       "<Figure size 640x480 with 1 Axes>"
      ]
     },
     "metadata": {},
     "output_type": "display_data"
    }
   ],
   "source": [
    "plt.figure(figsize=(10, 7))\n",
    "age_customer_frequency_comparison_bar= age_customer_frequency_comparison.plot(kind='bar', rot=0)\n",
    "plt.xlabel('Age Group')\n",
    "plt.ylabel('Count')\n",
    "plt.tight_layout()\n",
    "plt.show()"
   ]
  },
  {
   "cell_type": "code",
   "execution_count": 232,
   "id": "24cf51d8-d4ef-4f92-b1bf-8e9b9dbb07af",
   "metadata": {},
   "outputs": [],
   "source": [
    "age_customer_frequency_comparison_bar.figure.savefig(os.path.join(path,'04 Analysis','Visualizations','age_customer_frequency_comparison_bar.png'))"
   ]
  },
  {
   "cell_type": "markdown",
   "id": "d01f8e87-7fcd-433d-a339-750385b083a6",
   "metadata": {},
   "source": [
    "### Create crosstab bewtween age_group and loyalty_flag"
   ]
  },
  {
   "cell_type": "code",
   "execution_count": 234,
   "id": "50648ca9-ee20-493b-a534-52725b13a024",
   "metadata": {},
   "outputs": [],
   "source": [
    "age_group_loyalty_comparison = pd.crosstab(big_ords_prods_agg_cust['age_group'], big_ords_prods_agg_cust['loyalty_flag'], dropna=False)"
   ]
  },
  {
   "cell_type": "markdown",
   "id": "3cf883cc-e8fe-4925-b8a9-438501f29308",
   "metadata": {},
   "source": [
    "### Create a bar chart for age_group by customer loyalty"
   ]
  },
  {
   "cell_type": "code",
   "execution_count": 239,
   "id": "5bb0fe8a-00c1-43ab-b153-9553b476aa11",
   "metadata": {},
   "outputs": [
    {
     "data": {
      "text/plain": [
       "<Figure size 1000x700 with 0 Axes>"
      ]
     },
     "metadata": {},
     "output_type": "display_data"
    },
    {
     "data": {
      "image/png": "[encoded data removed]",
      "text/plain": [
       "<Figure size 640x480 with 1 Axes>"
      ]
     },
     "metadata": {},
     "output_type": "display_data"
    }
   ],
   "source": [
    "plt.figure(figsize=(10, 7))\n",
    "age_group_loaylty_comparison_bar = age_group_loyalty_comparison.plot(kind='bar', rot=0)\n",
    "plt.title('Age Group By Customer Loyalty')\n",
    "plt.xlabel('Age Group')\n",
    "plt.ylabel('Count')\n",
    "plt.tight_layout()\n",
    "plt.show()"
   ]
  },
  {
   "cell_type": "code",
   "execution_count": 242,
   "id": "915039e9-4db3-4111-826a-2ff0e70a8772",
   "metadata": {},
   "outputs": [],
   "source": [
    "age_group_loaylty_comparison_bar.figure.savefig(os.path.join(path,'04 Analysis','Visualizations','age_group_loaylty_comparison_bar.png'))"
   ]
  },
  {
   "cell_type": "markdown",
   "id": "aa73c019-da3b-437f-9a10-d0eec1442890",
   "metadata": {},
   "source": [
    "### Create a crosstab bewtween income_group and region"
   ]
  },
  {
   "cell_type": "code",
   "execution_count": 245,
   "id": "2bfb0846-8954-4a18-aa53-9d02e6a10e59",
   "metadata": {},
   "outputs": [
    {
     "data": {
      "text/plain": [
       "income_group\n",
       "Middle Income    10303944\n",
       "High Income       4628404\n",
       "Low Income        4512317\n",
       "Name: count, dtype: int64"
      ]
     },
     "execution_count": 245,
     "metadata": {},
     "output_type": "execute_result"
    }
   ],
   "source": [
    "big_ords_prods_agg_cust['income_group'].value_counts(dropna=False)"
   ]
  },
  {
   "cell_type": "code",
   "execution_count": 247,
   "id": "db1c3242-6067-469a-aaa8-efa07fef775c",
   "metadata": {},
   "outputs": [],
   "source": [
    "income_region_comparison = pd.crosstab(big_ords_prods_agg_cust['income_group'], big_ords_prods_agg_cust['region'], dropna=False)"
   ]
  },
  {
   "cell_type": "markdown",
   "id": "c7b987e3-a4dd-485f-83f6-75f2461e8066",
   "metadata": {},
   "source": [
    "### Create a bar chart for income group by region"
   ]
  },
  {
   "cell_type": "code",
   "execution_count": 249,
   "id": "105f5b81-1dd9-4124-baf4-bd3b691efeed",
   "metadata": {},
   "outputs": [
    {
     "data": {
      "text/plain": [
       "<Figure size 1000x700 with 0 Axes>"
      ]
     },
     "metadata": {},
     "output_type": "display_data"
    },
    {
     "data": {
      "image/png": "[encoded data removed]",
      "text/plain": [
       "<Figure size 640x480 with 1 Axes>"
      ]
     },
     "metadata": {},
     "output_type": "display_data"
    }
   ],
   "source": [
    "plt.figure(figsize=(10, 7))\n",
    "income_region_comparison_bar= income_region_comparison.plot(kind='bar',rot=0)\n",
    "plt.title('Income Group By Region')\n",
    "plt.xlabel('Income Group')\n",
    "plt.ylabel('Count')\n",
    "plt.legend(title='Region')\n",
    "plt.tight_layout()\n",
    "plt.show()"
   ]
  },
  {
   "cell_type": "code",
   "execution_count": 250,
   "id": "aa000c44-638f-4da6-b2dd-e2042bfb3262",
   "metadata": {},
   "outputs": [],
   "source": [
    "income_region_comparison_bar.figure.savefig(os.path.join(path,'04 Analysis','Visualizations','income_region_comparison_bar.png'))"
   ]
  },
  {
   "cell_type": "markdown",
   "id": "fe7430e5-841b-49c0-9aed-b2b99dcc5c1c",
   "metadata": {},
   "source": [
    "### Create a crosstab and bar chart for dependent_size of customers by region"
   ]
  },
  {
   "cell_type": "code",
   "execution_count": 255,
   "id": "7f05f8ba-1ac6-4d3a-bf4f-0544db08bbb3",
   "metadata": {},
   "outputs": [],
   "source": [
    "dependent_size_region_comparison = pd.crosstab(big_ords_prods_agg_cust['dependant_size'], big_ords_prods_agg_cust['region'], dropna=False)"
   ]
  },
  {
   "cell_type": "code",
   "execution_count": 256,
   "id": "8e605960-dae3-47e7-b951-dad2a637f56d",
   "metadata": {},
   "outputs": [
    {
     "data": {
      "text/plain": [
       "<Figure size 1000x700 with 0 Axes>"
      ]
     },
     "metadata": {},
     "output_type": "display_data"
    },
    {
     "data": {
      "image/png": "[encoded data removed]",
      "text/plain": [
       "<Figure size 640x480 with 1 Axes>"
      ]
     },
     "metadata": {},
     "output_type": "display_data"
    }
   ],
   "source": [
    "plt.figure(figsize=(10, 7))\n",
    "dependent_size_region_comparison_bar= dependent_size_region_comparison.plot(kind='bar',rot=0)\n",
    "plt.title('Customer Dependent Size By Region')\n",
    "plt.xlabel('Dependent Size')\n",
    "plt.ylabel('Count')\n",
    "plt.legend(title='Region')\n",
    "plt.tight_layout()\n",
    "plt.show()"
   ]
  },
  {
   "cell_type": "code",
   "execution_count": 259,
   "id": "fba296f1-e8fc-4db2-957e-09ec7232fde5",
   "metadata": {},
   "outputs": [],
   "source": [
    "dependent_size_region_comparison_bar.figure.savefig(os.path.join(path,'04 Analysis','Visualizations','dependent_size_region_comparison_bar.png'))"
   ]
  },
  {
   "cell_type": "markdown",
   "id": "a0e80b8b-9677-4b4a-b2c4-179754c56cd1",
   "metadata": {},
   "source": [
    "### Create a crosstab and bar chart for weekday order placement by region"
   ]
  },
  {
   "cell_type": "code",
   "execution_count": 262,
   "id": "1312291d-14f7-4904-ace3-27f3f483cbe0",
   "metadata": {},
   "outputs": [],
   "source": [
    "week_day_category_region_comparison = pd.crosstab(big_ords_prods_agg_cust['week_day_category'], big_ords_prods_agg_cust['region'], dropna=False)"
   ]
  },
  {
   "cell_type": "code",
   "execution_count": 263,
   "id": "4dc37001-623b-46d5-b4ad-3137f9584c37",
   "metadata": {},
   "outputs": [
    {
     "data": {
      "text/plain": [
       "<Figure size 1000x700 with 0 Axes>"
      ]
     },
     "metadata": {},
     "output_type": "display_data"
    },
    {
     "data": {
      "image/png": "[encoded data removed]",
      "text/plain": [
       "<Figure size 640x480 with 1 Axes>"
      ]
     },
     "metadata": {},
     "output_type": "display_data"
    }
   ],
   "source": [
    "plt.figure(figsize=(10, 7))\n",
    "week_day_category_region_comparison_bar = week_day_category_region_comparison.plot(kind='bar',rot=0)\n",
    "plt.title('Weekday Orders By Region')\n",
    "plt.xlabel('Weekday')\n",
    "plt.ylabel('Count')\n",
    "plt.legend(title='Region')\n",
    "plt.tight_layout()\n",
    "plt.show()"
   ]
  },
  {
   "cell_type": "code",
   "execution_count": 266,
   "id": "6fde2997-9ca6-4ef0-a14f-0aad3cb27e55",
   "metadata": {},
   "outputs": [],
   "source": [
    "week_day_category_region_comparison_bar.figure.savefig(os.path.join(path,'04 Analysis','Visualizations','week_day_category_region_comparison_bar.png'))"
   ]
  },
  {
   "cell_type": "markdown",
   "id": "4e4c69fc-8051-49e1-9c38-602fed0c64a4",
   "metadata": {},
   "source": [
    "### Create a crosstab and bar chart for weekday order placement by region"
   ]
  },
  {
   "cell_type": "code",
   "execution_count": 269,
   "id": "2fa8e9fb-9e3e-40ef-89dd-0d78346a3d83",
   "metadata": {},
   "outputs": [],
   "source": [
    "order_hour_group_region_comparison = pd.crosstab(big_ords_prods_agg_cust['order_hour_group'],big_ords_prods_agg_cust['region'],dropna=False)"
   ]
  },
  {
   "cell_type": "code",
   "execution_count": 270,
   "id": "4ad2d9d0-fa79-4eab-a245-2ff34576bb49",
   "metadata": {},
   "outputs": [
    {
     "data": {
      "text/plain": [
       "<Figure size 1000x700 with 0 Axes>"
      ]
     },
     "metadata": {},
     "output_type": "display_data"
    },
    {
     "data": {
      "image/png": "[encoded data removed]",
      "text/plain": [
       "<Figure size 640x480 with 1 Axes>"
      ]
     },
     "metadata": {},
     "output_type": "display_data"
    }
   ],
   "source": [
    "plt.figure(figsize=(10, 7))\n",
    "order_hour_group_region_comparison_bar= order_hour_group_region_comparison.plot(kind='bar',rot=0)\n",
    "plt.title('Hourly Grouping of Orders By Region')\n",
    "plt.xlabel('Time of Day')\n",
    "plt.ylabel('Count')\n",
    "plt.legend(title='Region')\n",
    "plt.tight_layout()\n",
    "plt.show()"
   ]
  },
  {
   "cell_type": "code",
   "execution_count": 271,
   "id": "d2d9eb39-6d33-4933-b1cd-cf931aca2901",
   "metadata": {},
   "outputs": [],
   "source": [
    "order_hour_group_region_comparison_bar.figure.savefig(os.path.join(path,'04 Analysis','Visualizations','order_hour_group_region_comparison_bar.png'))"
   ]
  },
  {
   "cell_type": "markdown",
   "id": "8e69d1af-dc90-4458-b88c-c29b34468550",
   "metadata": {},
   "source": [
    "### Create a crosstab and bar chart to compare region with order frequncy"
   ]
  },
  {
   "cell_type": "code",
   "execution_count": 273,
   "id": "10e74bd1-2d52-4f9c-96e5-602e2858e08e",
   "metadata": {},
   "outputs": [
    {
     "data": {
      "text/plain": [
       "order_frequency\n",
       "Frequent customer        12936806\n",
       "Regular customer          4326387\n",
       "Non-frequent customer     2181469\n",
       "Name: count, dtype: int64"
      ]
     },
     "execution_count": 273,
     "metadata": {},
     "output_type": "execute_result"
    }
   ],
   "source": [
    "big_ords_prods_agg_cust['order_frequency'].value_counts()"
   ]
  },
  {
   "cell_type": "code",
   "execution_count": 274,
   "id": "9b94a056-f660-4ff7-9db2-5160b3af497f",
   "metadata": {},
   "outputs": [],
   "source": [
    "region_order_frequency_comparison = pd.crosstab(big_ords_prods_agg_cust['region'], big_ords_prods_agg_cust['order_frequency'])"
   ]
  },
  {
   "cell_type": "code",
   "execution_count": 275,
   "id": "f0cafccf-cf86-4823-a881-d28e0e5e55b7",
   "metadata": {},
   "outputs": [
    {
     "data": {
      "text/plain": [
       "<Figure size 1000x700 with 0 Axes>"
      ]
     },
     "metadata": {},
     "output_type": "display_data"
    },
    {
     "data": {
      "image/png": "[encoded data removed]",
      "text/plain": [
       "<Figure size 640x480 with 1 Axes>"
      ]
     },
     "metadata": {},
     "output_type": "display_data"
    }
   ],
   "source": [
    "plt.figure(figsize=(10, 7))\n",
    "region_order_frequency_comparison_bar= region_order_frequency_comparison.plot(kind='bar', rot=0)\n",
    "plt.title('Region By Customer Order Frequency')\n",
    "plt.xlabel('Region')\n",
    "plt.ylabel('Count')\n",
    "plt.tight_layout()\n",
    "plt.show()"
   ]
  },
  {
   "cell_type": "code",
   "execution_count": 278,
   "id": "b61576c6-0129-417a-ac4a-d6d44d39652a",
   "metadata": {},
   "outputs": [],
   "source": [
    "region_order_frequency_comparison_bar.figure.savefig(os.path.join(path,'04 Analysis','Visualizations','region_customer_order_frequency_comparison_bar.png'))"
   ]
  },
  {
   "cell_type": "markdown",
   "id": "492e0b70-555b-4a6f-9865-c2975f78e453",
   "metadata": {},
   "source": [
    "### Create a crosstab and bar chart to compare region with spending_flag"
   ]
  },
  {
   "cell_type": "code",
   "execution_count": 282,
   "id": "108ee757-5366-42eb-9615-ae0980d9cf60",
   "metadata": {},
   "outputs": [],
   "source": [
    "region_spending_flag_comparison = pd.crosstab(big_ords_prods_agg_cust['region'], big_ords_prods_agg_cust['spending_flag'], dropna=False)"
   ]
  },
  {
   "cell_type": "code",
   "execution_count": 283,
   "id": "85fdad21-461a-4200-aa11-32b0e1656a2f",
   "metadata": {},
   "outputs": [
    {
     "data": {
      "text/plain": [
       "<Figure size 0x0 with 0 Axes>"
      ]
     },
     "metadata": {},
     "output_type": "display_data"
    },
    {
     "data": {
      "image/png": "[encoded data removed]",
      "text/plain": [
       "<Figure size 640x480 with 1 Axes>"
      ]
     },
     "metadata": {},
     "output_type": "display_data"
    }
   ],
   "source": [
    "plt.figure(figsize=(0, 0))\n",
    "region_spending_flag_comparison = region_spending_flag_comparison.plot(kind='bar', rot=0)\n",
    "plt.title('Region By Type of Customer Spender')\n",
    "plt.xlabel('Region')\n",
    "plt.ylabel('Count')\n",
    "plt.show()"
   ]
  },
  {
   "cell_type": "code",
   "execution_count": 284,
   "id": "0ab3f028-19bc-4bb6-a833-4ea3af7416f0",
   "metadata": {},
   "outputs": [],
   "source": [
    "region_spending_flag_comparison.figure.savefig(os.path.join(path,'04 Analysis','Visualizations','region_spending_flag_comparison.png'))"
   ]
  },
  {
   "cell_type": "markdown",
   "id": "2eaf9322-a05a-4bcb-920e-3ad1fb0631c9",
   "metadata": {},
   "source": [
    "### Create a crosstab and bar chart to compare loyalty_flag with spending_flag"
   ]
  },
  {
   "cell_type": "code",
   "execution_count": 292,
   "id": "019d32a5-5c11-407f-b95e-02fe016a544c",
   "metadata": {},
   "outputs": [],
   "source": [
    "loyalty_spending_flag_comparison = pd.crosstab(big_ords_prods_agg_cust['loyalty_flag'], big_ords_prods_agg_cust['spending_flag'], dropna=False)"
   ]
  },
  {
   "cell_type": "code",
   "execution_count": 293,
   "id": "4a3334a0-2a38-4895-9d36-f971551acfef",
   "metadata": {},
   "outputs": [
    {
     "data": {
      "text/plain": [
       "<Figure size 0x0 with 0 Axes>"
      ]
     },
     "metadata": {},
     "output_type": "display_data"
    },
    {
     "data": {
      "image/png": "[encoded data removed]",
      "text/plain": [
       "<Figure size 640x480 with 1 Axes>"
      ]
     },
     "metadata": {},
     "output_type": "display_data"
    }
   ],
   "source": [
    "plt.figure(figsize=(0, 0))\n",
    "loyalty_spending_flag_comparison_bar = loyalty_spending_flag_comparison.plot(kind='bar', rot=0)\n",
    "plt.title('Loyalty Spending By Type of Customer Spender')\n",
    "plt.xlabel('Type of Spender')\n",
    "plt.ylabel('Loyalty_Flag')\n",
    "plt.show()"
   ]
  },
  {
   "cell_type": "code",
   "execution_count": 294,
   "id": "661a6b5c-1df3-4d9e-99fd-1d704ed2d8dd",
   "metadata": {},
   "outputs": [],
   "source": [
    "loyalty_spending_flag_comparison_bar.figure.savefig(os.path.join(path,'04 Analysis','Visualizations','loyalty_spending_flag_comparison_bar.png'))"
   ]
  },
  {
   "cell_type": "markdown",
   "id": "01822ba1-6207-4e19-9b25-0b32b787569b",
   "metadata": {},
   "source": [
    "### Profiles compared with departments"
   ]
  },
  {
   "cell_type": "code",
   "execution_count": 296,
   "id": "96df5a49-7af9-4244-8f62-802ccf3ab37e",
   "metadata": {},
   "outputs": [],
   "source": [
    "df_dept = pd.read_csv(os.path.join(path,'02 Data','Prepared Data','departments_wrangled.csv'))"
   ]
  },
  {
   "cell_type": "code",
   "execution_count": 297,
   "id": "9201f524-e5c8-4e1d-a4f0-22be330ef2c3",
   "metadata": {},
   "outputs": [
    {
     "data": {
      "text/html": [
       "<div>\n",
       "<style scoped>\n",
       "    .dataframe tbody tr th:only-of-type {\n",
       "        vertical-align: middle;\n",
       "    }\n",
       "\n",
       "    .dataframe tbody tr th {\n",
       "        vertical-align: top;\n",
       "    }\n",
       "\n",
       "    .dataframe thead th {\n",
       "        text-align: right;\n",
       "    }\n",
       "</style>\n",
       "<table border=\"1\" class=\"dataframe\">\n",
       "  <thead>\n",
       "    <tr style=\"text-align: right;\">\n",
       "      <th></th>\n",
       "      <th>Unnamed: 0</th>\n",
       "      <th>department</th>\n",
       "    </tr>\n",
       "  </thead>\n",
       "  <tbody>\n",
       "    <tr>\n",
       "      <th>0</th>\n",
       "      <td>1</td>\n",
       "      <td>frozen</td>\n",
       "    </tr>\n",
       "    <tr>\n",
       "      <th>1</th>\n",
       "      <td>2</td>\n",
       "      <td>other</td>\n",
       "    </tr>\n",
       "    <tr>\n",
       "      <th>2</th>\n",
       "      <td>3</td>\n",
       "      <td>bakery</td>\n",
       "    </tr>\n",
       "    <tr>\n",
       "      <th>3</th>\n",
       "      <td>4</td>\n",
       "      <td>produce</td>\n",
       "    </tr>\n",
       "    <tr>\n",
       "      <th>4</th>\n",
       "      <td>5</td>\n",
       "      <td>alcohol</td>\n",
       "    </tr>\n",
       "    <tr>\n",
       "      <th>5</th>\n",
       "      <td>6</td>\n",
       "      <td>international</td>\n",
       "    </tr>\n",
       "    <tr>\n",
       "      <th>6</th>\n",
       "      <td>7</td>\n",
       "      <td>beverages</td>\n",
       "    </tr>\n",
       "    <tr>\n",
       "      <th>7</th>\n",
       "      <td>8</td>\n",
       "      <td>pets</td>\n",
       "    </tr>\n",
       "    <tr>\n",
       "      <th>8</th>\n",
       "      <td>9</td>\n",
       "      <td>dry goods pasta</td>\n",
       "    </tr>\n",
       "    <tr>\n",
       "      <th>9</th>\n",
       "      <td>10</td>\n",
       "      <td>bulk</td>\n",
       "    </tr>\n",
       "    <tr>\n",
       "      <th>10</th>\n",
       "      <td>11</td>\n",
       "      <td>personal care</td>\n",
       "    </tr>\n",
       "    <tr>\n",
       "      <th>11</th>\n",
       "      <td>12</td>\n",
       "      <td>meat seafood</td>\n",
       "    </tr>\n",
       "    <tr>\n",
       "      <th>12</th>\n",
       "      <td>13</td>\n",
       "      <td>pantry</td>\n",
       "    </tr>\n",
       "    <tr>\n",
       "      <th>13</th>\n",
       "      <td>14</td>\n",
       "      <td>breakfast</td>\n",
       "    </tr>\n",
       "    <tr>\n",
       "      <th>14</th>\n",
       "      <td>15</td>\n",
       "      <td>canned goods</td>\n",
       "    </tr>\n",
       "    <tr>\n",
       "      <th>15</th>\n",
       "      <td>16</td>\n",
       "      <td>dairy eggs</td>\n",
       "    </tr>\n",
       "    <tr>\n",
       "      <th>16</th>\n",
       "      <td>17</td>\n",
       "      <td>household</td>\n",
       "    </tr>\n",
       "    <tr>\n",
       "      <th>17</th>\n",
       "      <td>18</td>\n",
       "      <td>babies</td>\n",
       "    </tr>\n",
       "    <tr>\n",
       "      <th>18</th>\n",
       "      <td>19</td>\n",
       "      <td>snacks</td>\n",
       "    </tr>\n",
       "    <tr>\n",
       "      <th>19</th>\n",
       "      <td>20</td>\n",
       "      <td>deli</td>\n",
       "    </tr>\n",
       "    <tr>\n",
       "      <th>20</th>\n",
       "      <td>21</td>\n",
       "      <td>missing</td>\n",
       "    </tr>\n",
       "  </tbody>\n",
       "</table>\n",
       "</div>"
      ],
      "text/plain": [
       "    Unnamed: 0       department\n",
       "0            1           frozen\n",
       "1            2            other\n",
       "2            3           bakery\n",
       "3            4          produce\n",
       "4            5          alcohol\n",
       "5            6    international\n",
       "6            7        beverages\n",
       "7            8             pets\n",
       "8            9  dry goods pasta\n",
       "9           10             bulk\n",
       "10          11    personal care\n",
       "11          12     meat seafood\n",
       "12          13           pantry\n",
       "13          14        breakfast\n",
       "14          15     canned goods\n",
       "15          16       dairy eggs\n",
       "16          17        household\n",
       "17          18           babies\n",
       "18          19           snacks\n",
       "19          20             deli\n",
       "20          21          missing"
      ]
     },
     "execution_count": 297,
     "metadata": {},
     "output_type": "execute_result"
    }
   ],
   "source": [
    "df_dept"
   ]
  },
  {
   "cell_type": "markdown",
   "id": "1d8468a9-543d-4536-a462-206681bebdd1",
   "metadata": {},
   "source": [
    "Rename unnamed column"
   ]
  },
  {
   "cell_type": "code",
   "execution_count": 300,
   "id": "4163c015-ef43-4d55-b69e-3cf94e2b3cd9",
   "metadata": {},
   "outputs": [],
   "source": [
    "df_dept.rename(columns={'Unnamed: 0':'department_id'},inplace=True)"
   ]
  },
  {
   "cell_type": "code",
   "execution_count": 306,
   "id": "fc1c19f6-adb5-4432-9294-7e731ec4eac0",
   "metadata": {},
   "outputs": [
    {
     "data": {
      "text/html": [
       "<div>\n",
       "<style scoped>\n",
       "    .dataframe tbody tr th:only-of-type {\n",
       "        vertical-align: middle;\n",
       "    }\n",
       "\n",
       "    .dataframe tbody tr th {\n",
       "        vertical-align: top;\n",
       "    }\n",
       "\n",
       "    .dataframe thead th {\n",
       "        text-align: right;\n",
       "    }\n",
       "</style>\n",
       "<table border=\"1\" class=\"dataframe\">\n",
       "  <thead>\n",
       "    <tr style=\"text-align: right;\">\n",
       "      <th></th>\n",
       "      <th>department_id</th>\n",
       "      <th>department</th>\n",
       "    </tr>\n",
       "  </thead>\n",
       "  <tbody>\n",
       "    <tr>\n",
       "      <th>0</th>\n",
       "      <td>1</td>\n",
       "      <td>frozen</td>\n",
       "    </tr>\n",
       "    <tr>\n",
       "      <th>1</th>\n",
       "      <td>2</td>\n",
       "      <td>other</td>\n",
       "    </tr>\n",
       "    <tr>\n",
       "      <th>2</th>\n",
       "      <td>3</td>\n",
       "      <td>bakery</td>\n",
       "    </tr>\n",
       "    <tr>\n",
       "      <th>3</th>\n",
       "      <td>4</td>\n",
       "      <td>produce</td>\n",
       "    </tr>\n",
       "    <tr>\n",
       "      <th>4</th>\n",
       "      <td>5</td>\n",
       "      <td>alcohol</td>\n",
       "    </tr>\n",
       "    <tr>\n",
       "      <th>5</th>\n",
       "      <td>6</td>\n",
       "      <td>international</td>\n",
       "    </tr>\n",
       "    <tr>\n",
       "      <th>6</th>\n",
       "      <td>7</td>\n",
       "      <td>beverages</td>\n",
       "    </tr>\n",
       "    <tr>\n",
       "      <th>7</th>\n",
       "      <td>8</td>\n",
       "      <td>pets</td>\n",
       "    </tr>\n",
       "    <tr>\n",
       "      <th>8</th>\n",
       "      <td>9</td>\n",
       "      <td>dry goods pasta</td>\n",
       "    </tr>\n",
       "    <tr>\n",
       "      <th>9</th>\n",
       "      <td>10</td>\n",
       "      <td>bulk</td>\n",
       "    </tr>\n",
       "    <tr>\n",
       "      <th>10</th>\n",
       "      <td>11</td>\n",
       "      <td>personal care</td>\n",
       "    </tr>\n",
       "    <tr>\n",
       "      <th>11</th>\n",
       "      <td>12</td>\n",
       "      <td>meat seafood</td>\n",
       "    </tr>\n",
       "    <tr>\n",
       "      <th>12</th>\n",
       "      <td>13</td>\n",
       "      <td>pantry</td>\n",
       "    </tr>\n",
       "    <tr>\n",
       "      <th>13</th>\n",
       "      <td>14</td>\n",
       "      <td>breakfast</td>\n",
       "    </tr>\n",
       "    <tr>\n",
       "      <th>14</th>\n",
       "      <td>15</td>\n",
       "      <td>canned goods</td>\n",
       "    </tr>\n",
       "    <tr>\n",
       "      <th>15</th>\n",
       "      <td>16</td>\n",
       "      <td>dairy eggs</td>\n",
       "    </tr>\n",
       "    <tr>\n",
       "      <th>16</th>\n",
       "      <td>17</td>\n",
       "      <td>household</td>\n",
       "    </tr>\n",
       "    <tr>\n",
       "      <th>17</th>\n",
       "      <td>18</td>\n",
       "      <td>babies</td>\n",
       "    </tr>\n",
       "    <tr>\n",
       "      <th>18</th>\n",
       "      <td>19</td>\n",
       "      <td>snacks</td>\n",
       "    </tr>\n",
       "    <tr>\n",
       "      <th>19</th>\n",
       "      <td>20</td>\n",
       "      <td>deli</td>\n",
       "    </tr>\n",
       "    <tr>\n",
       "      <th>20</th>\n",
       "      <td>21</td>\n",
       "      <td>missing</td>\n",
       "    </tr>\n",
       "  </tbody>\n",
       "</table>\n",
       "</div>"
      ],
      "text/plain": [
       "    department_id       department\n",
       "0               1           frozen\n",
       "1               2            other\n",
       "2               3           bakery\n",
       "3               4          produce\n",
       "4               5          alcohol\n",
       "5               6    international\n",
       "6               7        beverages\n",
       "7               8             pets\n",
       "8               9  dry goods pasta\n",
       "9              10             bulk\n",
       "10             11    personal care\n",
       "11             12     meat seafood\n",
       "12             13           pantry\n",
       "13             14        breakfast\n",
       "14             15     canned goods\n",
       "15             16       dairy eggs\n",
       "16             17        household\n",
       "17             18           babies\n",
       "18             19           snacks\n",
       "19             20             deli\n",
       "20             21          missing"
      ]
     },
     "execution_count": 306,
     "metadata": {},
     "output_type": "execute_result"
    }
   ],
   "source": [
    "df_dept"
   ]
  },
  {
   "cell_type": "markdown",
   "id": "07d8d88d-0038-4b16-a2b6-394592aa5120",
   "metadata": {},
   "source": [
    "Change department_id from int64 to str for merge"
   ]
  },
  {
   "cell_type": "code",
   "execution_count": 309,
   "id": "54208703-fa8e-45f4-a8a2-9336122c3791",
   "metadata": {},
   "outputs": [],
   "source": [
    "df_dept['department_id'] = df_dept['department_id'].astype(str)"
   ]
  },
  {
   "cell_type": "code",
   "execution_count": 311,
   "id": "e7bb0ebf-b2af-42c6-a710-68c8d106270d",
   "metadata": {},
   "outputs": [],
   "source": [
    "big_ords_prods_agg_cust['department_id'] = big_ords_prods_agg_cust['department_id'].astype(str)"
   ]
  },
  {
   "cell_type": "markdown",
   "id": "392a2951-0f32-4eed-9a2b-2ccf70193453",
   "metadata": {},
   "source": [
    "Drop original merge column to merge department later"
   ]
  },
  {
   "cell_type": "code",
   "execution_count": 314,
   "id": "11984451-df57-4923-ad91-4885abacdda9",
   "metadata": {},
   "outputs": [],
   "source": [
    "big_ords_prods_agg_cust = big_ords_prods_agg_cust.drop(columns=['_merge'])"
   ]
  },
  {
   "cell_type": "code",
   "execution_count": 315,
   "id": "8f818acb-2aa9-4f32-922e-f7f405b3428e",
   "metadata": {},
   "outputs": [
    {
     "data": {
      "text/plain": [
       "['product_id',\n",
       " 'product_name',\n",
       " 'aisle_id',\n",
       " 'department_id',\n",
       " 'prices',\n",
       " 'order_id',\n",
       " 'user_id',\n",
       " 'eval_set',\n",
       " 'order_number',\n",
       " 'order_dow',\n",
       " 'order_hour_of_day',\n",
       " 'days_since_prior_order',\n",
       " 'add_to_cart_order',\n",
       " 'reordered',\n",
       " 'price_range_loc',\n",
       " 'busiest_day',\n",
       " 'days_most_busy',\n",
       " 'busiest_period_of_day',\n",
       " 'max_order',\n",
       " 'loyalty_flag',\n",
       " 'mean_product_price',\n",
       " 'spending_flag',\n",
       " 'median_days_between_orders',\n",
       " 'order_frequency',\n",
       " 'first_name',\n",
       " 'last_name',\n",
       " 'gender',\n",
       " 'state',\n",
       " 'age',\n",
       " 'date_joined',\n",
       " 'n_dependants',\n",
       " 'marital_status',\n",
       " 'income',\n",
       " 'region',\n",
       " 'customer_activity_flag',\n",
       " 'age_group',\n",
       " 'income_group',\n",
       " 'dependant_size',\n",
       " 'week_day_category',\n",
       " 'order_hour_group']"
      ]
     },
     "execution_count": 315,
     "metadata": {},
     "output_type": "execute_result"
    }
   ],
   "source": [
    "big_ords_prods_agg_cust.columns.tolist()"
   ]
  },
  {
   "cell_type": "markdown",
   "id": "72dc810d-aab8-467c-94fa-c879fc1e6d8c",
   "metadata": {},
   "source": [
    "Merge df_dept to ords_prods_cust_merge via department_id"
   ]
  },
  {
   "cell_type": "code",
   "execution_count": 323,
   "id": "f79e8173-5216-4bf7-a26a-a2d8e6288d07",
   "metadata": {},
   "outputs": [],
   "source": [
    "big_ords_prods_agg_cust.to_pickle(os.path.join(path, '02 Data','Prepared Data', 'big_ords_prods_agg_cust.pkl'))"
   ]
  },
  {
   "cell_type": "code",
   "execution_count": 325,
   "id": "e82e0150-c828-40c6-bf62-83896b820591",
   "metadata": {},
   "outputs": [],
   "source": [
    "df_dept.to_pickle(os.path.join(path, '02 Data','Prepared Data', 'df_dept.pkl'))"
   ]
  },
  {
   "cell_type": "code",
   "execution_count": 327,
   "id": "82b11aa0-080b-4b57-8141-8663886ba004",
   "metadata": {},
   "outputs": [
    {
     "ename": "MemoryError",
     "evalue": "Unable to allocate 3.33 GiB for an array with shape (23, 19444665) and data type object",
     "output_type": "error",
     "traceback": [
      "\u001b[1;31m---------------------------------------------------------------------------\u001b[0m",
      "\u001b[1;31mMemoryError\u001b[0m                               Traceback (most recent call last)",
      "Cell \u001b[1;32mIn[327], line 1\u001b[0m\n\u001b[1;32m----> 1\u001b[0m big_ords_prods_agg_cust_dept \u001b[38;5;241m=\u001b[39m big_ords_prods_agg_cust\u001b[38;5;241m.\u001b[39mmerge(df_dept,on\u001b[38;5;241m=\u001b[39m\u001b[38;5;124m'\u001b[39m\u001b[38;5;124mdepartment_id\u001b[39m\u001b[38;5;124m'\u001b[39m,indicator\u001b[38;5;241m=\u001b[39m\u001b[38;5;28;01mTrue\u001b[39;00m)\n",
      "File \u001b[1;32m~\\anaconda3\\Lib\\site-packages\\pandas\\core\\frame.py:10832\u001b[0m, in \u001b[0;36mDataFrame.merge\u001b[1;34m(self, right, how, on, left_on, right_on, left_index, right_index, sort, suffixes, copy, indicator, validate)\u001b[0m\n\u001b[0;32m  10813\u001b[0m \u001b[38;5;129m@Substitution\u001b[39m(\u001b[38;5;124m\"\u001b[39m\u001b[38;5;124m\"\u001b[39m)\n\u001b[0;32m  10814\u001b[0m \u001b[38;5;129m@Appender\u001b[39m(_merge_doc, indents\u001b[38;5;241m=\u001b[39m\u001b[38;5;241m2\u001b[39m)\n\u001b[0;32m  10815\u001b[0m \u001b[38;5;28;01mdef\u001b[39;00m \u001b[38;5;21mmerge\u001b[39m(\n\u001b[1;32m   (...)\u001b[0m\n\u001b[0;32m  10828\u001b[0m     validate: MergeValidate \u001b[38;5;241m|\u001b[39m \u001b[38;5;28;01mNone\u001b[39;00m \u001b[38;5;241m=\u001b[39m \u001b[38;5;28;01mNone\u001b[39;00m,\n\u001b[0;32m  10829\u001b[0m ) \u001b[38;5;241m-\u001b[39m\u001b[38;5;241m>\u001b[39m DataFrame:\n\u001b[0;32m  10830\u001b[0m     \u001b[38;5;28;01mfrom\u001b[39;00m \u001b[38;5;21;01mpandas\u001b[39;00m\u001b[38;5;21;01m.\u001b[39;00m\u001b[38;5;21;01mcore\u001b[39;00m\u001b[38;5;21;01m.\u001b[39;00m\u001b[38;5;21;01mreshape\u001b[39;00m\u001b[38;5;21;01m.\u001b[39;00m\u001b[38;5;21;01mmerge\u001b[39;00m \u001b[38;5;28;01mimport\u001b[39;00m merge\n\u001b[1;32m> 10832\u001b[0m     \u001b[38;5;28;01mreturn\u001b[39;00m merge(\n\u001b[0;32m  10833\u001b[0m         \u001b[38;5;28mself\u001b[39m,\n\u001b[0;32m  10834\u001b[0m         right,\n\u001b[0;32m  10835\u001b[0m         how\u001b[38;5;241m=\u001b[39mhow,\n\u001b[0;32m  10836\u001b[0m         on\u001b[38;5;241m=\u001b[39mon,\n\u001b[0;32m  10837\u001b[0m         left_on\u001b[38;5;241m=\u001b[39mleft_on,\n\u001b[0;32m  10838\u001b[0m         right_on\u001b[38;5;241m=\u001b[39mright_on,\n\u001b[0;32m  10839\u001b[0m         left_index\u001b[38;5;241m=\u001b[39mleft_index,\n\u001b[0;32m  10840\u001b[0m         right_index\u001b[38;5;241m=\u001b[39mright_index,\n\u001b[0;32m  10841\u001b[0m         sort\u001b[38;5;241m=\u001b[39msort,\n\u001b[0;32m  10842\u001b[0m         suffixes\u001b[38;5;241m=\u001b[39msuffixes,\n\u001b[0;32m  10843\u001b[0m         copy\u001b[38;5;241m=\u001b[39mcopy,\n\u001b[0;32m  10844\u001b[0m         indicator\u001b[38;5;241m=\u001b[39mindicator,\n\u001b[0;32m  10845\u001b[0m         validate\u001b[38;5;241m=\u001b[39mvalidate,\n\u001b[0;32m  10846\u001b[0m     )\n",
      "File \u001b[1;32m~\\anaconda3\\Lib\\site-packages\\pandas\\core\\reshape\\merge.py:184\u001b[0m, in \u001b[0;36mmerge\u001b[1;34m(left, right, how, on, left_on, right_on, left_index, right_index, sort, suffixes, copy, indicator, validate)\u001b[0m\n\u001b[0;32m    169\u001b[0m \u001b[38;5;28;01melse\u001b[39;00m:\n\u001b[0;32m    170\u001b[0m     op \u001b[38;5;241m=\u001b[39m _MergeOperation(\n\u001b[0;32m    171\u001b[0m         left_df,\n\u001b[0;32m    172\u001b[0m         right_df,\n\u001b[1;32m   (...)\u001b[0m\n\u001b[0;32m    182\u001b[0m         validate\u001b[38;5;241m=\u001b[39mvalidate,\n\u001b[0;32m    183\u001b[0m     )\n\u001b[1;32m--> 184\u001b[0m     \u001b[38;5;28;01mreturn\u001b[39;00m op\u001b[38;5;241m.\u001b[39mget_result(copy\u001b[38;5;241m=\u001b[39mcopy)\n",
      "File \u001b[1;32m~\\anaconda3\\Lib\\site-packages\\pandas\\core\\reshape\\merge.py:894\u001b[0m, in \u001b[0;36m_MergeOperation.get_result\u001b[1;34m(self, copy)\u001b[0m\n\u001b[0;32m    891\u001b[0m result \u001b[38;5;241m=\u001b[39m result\u001b[38;5;241m.\u001b[39m__finalize__(\u001b[38;5;28mself\u001b[39m, method\u001b[38;5;241m=\u001b[39m\u001b[38;5;28mself\u001b[39m\u001b[38;5;241m.\u001b[39m_merge_type)\n\u001b[0;32m    893\u001b[0m \u001b[38;5;28;01mif\u001b[39;00m \u001b[38;5;28mself\u001b[39m\u001b[38;5;241m.\u001b[39mindicator:\n\u001b[1;32m--> 894\u001b[0m     result \u001b[38;5;241m=\u001b[39m \u001b[38;5;28mself\u001b[39m\u001b[38;5;241m.\u001b[39m_indicator_post_merge(result)\n\u001b[0;32m    896\u001b[0m \u001b[38;5;28mself\u001b[39m\u001b[38;5;241m.\u001b[39m_maybe_add_join_keys(result, left_indexer, right_indexer)\n\u001b[0;32m    898\u001b[0m \u001b[38;5;28mself\u001b[39m\u001b[38;5;241m.\u001b[39m_maybe_restore_index_levels(result)\n",
      "File \u001b[1;32m~\\anaconda3\\Lib\\site-packages\\pandas\\core\\reshape\\merge.py:955\u001b[0m, in \u001b[0;36m_MergeOperation._indicator_post_merge\u001b[1;34m(self, result)\u001b[0m\n\u001b[0;32m    947\u001b[0m result[\u001b[38;5;28mself\u001b[39m\u001b[38;5;241m.\u001b[39m_indicator_name] \u001b[38;5;241m=\u001b[39m Categorical(\n\u001b[0;32m    948\u001b[0m     (result[\u001b[38;5;124m\"\u001b[39m\u001b[38;5;124m_left_indicator\u001b[39m\u001b[38;5;124m\"\u001b[39m] \u001b[38;5;241m+\u001b[39m result[\u001b[38;5;124m\"\u001b[39m\u001b[38;5;124m_right_indicator\u001b[39m\u001b[38;5;124m\"\u001b[39m]),\n\u001b[0;32m    949\u001b[0m     categories\u001b[38;5;241m=\u001b[39m[\u001b[38;5;241m1\u001b[39m, \u001b[38;5;241m2\u001b[39m, \u001b[38;5;241m3\u001b[39m],\n\u001b[0;32m    950\u001b[0m )\n\u001b[0;32m    951\u001b[0m result[\u001b[38;5;28mself\u001b[39m\u001b[38;5;241m.\u001b[39m_indicator_name] \u001b[38;5;241m=\u001b[39m result[\n\u001b[0;32m    952\u001b[0m     \u001b[38;5;28mself\u001b[39m\u001b[38;5;241m.\u001b[39m_indicator_name\n\u001b[0;32m    953\u001b[0m ]\u001b[38;5;241m.\u001b[39mcat\u001b[38;5;241m.\u001b[39mrename_categories([\u001b[38;5;124m\"\u001b[39m\u001b[38;5;124mleft_only\u001b[39m\u001b[38;5;124m\"\u001b[39m, \u001b[38;5;124m\"\u001b[39m\u001b[38;5;124mright_only\u001b[39m\u001b[38;5;124m\"\u001b[39m, \u001b[38;5;124m\"\u001b[39m\u001b[38;5;124mboth\u001b[39m\u001b[38;5;124m\"\u001b[39m])\n\u001b[1;32m--> 955\u001b[0m result \u001b[38;5;241m=\u001b[39m result\u001b[38;5;241m.\u001b[39mdrop(labels\u001b[38;5;241m=\u001b[39m[\u001b[38;5;124m\"\u001b[39m\u001b[38;5;124m_left_indicator\u001b[39m\u001b[38;5;124m\"\u001b[39m, \u001b[38;5;124m\"\u001b[39m\u001b[38;5;124m_right_indicator\u001b[39m\u001b[38;5;124m\"\u001b[39m], axis\u001b[38;5;241m=\u001b[39m\u001b[38;5;241m1\u001b[39m)\n\u001b[0;32m    956\u001b[0m \u001b[38;5;28;01mreturn\u001b[39;00m result\n",
      "File \u001b[1;32m~\\anaconda3\\Lib\\site-packages\\pandas\\core\\frame.py:5581\u001b[0m, in \u001b[0;36mDataFrame.drop\u001b[1;34m(self, labels, axis, index, columns, level, inplace, errors)\u001b[0m\n\u001b[0;32m   5433\u001b[0m \u001b[38;5;28;01mdef\u001b[39;00m \u001b[38;5;21mdrop\u001b[39m(\n\u001b[0;32m   5434\u001b[0m     \u001b[38;5;28mself\u001b[39m,\n\u001b[0;32m   5435\u001b[0m     labels: IndexLabel \u001b[38;5;241m|\u001b[39m \u001b[38;5;28;01mNone\u001b[39;00m \u001b[38;5;241m=\u001b[39m \u001b[38;5;28;01mNone\u001b[39;00m,\n\u001b[1;32m   (...)\u001b[0m\n\u001b[0;32m   5442\u001b[0m     errors: IgnoreRaise \u001b[38;5;241m=\u001b[39m \u001b[38;5;124m\"\u001b[39m\u001b[38;5;124mraise\u001b[39m\u001b[38;5;124m\"\u001b[39m,\n\u001b[0;32m   5443\u001b[0m ) \u001b[38;5;241m-\u001b[39m\u001b[38;5;241m>\u001b[39m DataFrame \u001b[38;5;241m|\u001b[39m \u001b[38;5;28;01mNone\u001b[39;00m:\n\u001b[0;32m   5444\u001b[0m \u001b[38;5;250m    \u001b[39m\u001b[38;5;124;03m\"\"\"\u001b[39;00m\n\u001b[0;32m   5445\u001b[0m \u001b[38;5;124;03m    Drop specified labels from rows or columns.\u001b[39;00m\n\u001b[0;32m   5446\u001b[0m \n\u001b[1;32m   (...)\u001b[0m\n\u001b[0;32m   5579\u001b[0m \u001b[38;5;124;03m            weight  1.0     0.8\u001b[39;00m\n\u001b[0;32m   5580\u001b[0m \u001b[38;5;124;03m    \"\"\"\u001b[39;00m\n\u001b[1;32m-> 5581\u001b[0m     \u001b[38;5;28;01mreturn\u001b[39;00m \u001b[38;5;28msuper\u001b[39m()\u001b[38;5;241m.\u001b[39mdrop(\n\u001b[0;32m   5582\u001b[0m         labels\u001b[38;5;241m=\u001b[39mlabels,\n\u001b[0;32m   5583\u001b[0m         axis\u001b[38;5;241m=\u001b[39maxis,\n\u001b[0;32m   5584\u001b[0m         index\u001b[38;5;241m=\u001b[39mindex,\n\u001b[0;32m   5585\u001b[0m         columns\u001b[38;5;241m=\u001b[39mcolumns,\n\u001b[0;32m   5586\u001b[0m         level\u001b[38;5;241m=\u001b[39mlevel,\n\u001b[0;32m   5587\u001b[0m         inplace\u001b[38;5;241m=\u001b[39minplace,\n\u001b[0;32m   5588\u001b[0m         errors\u001b[38;5;241m=\u001b[39merrors,\n\u001b[0;32m   5589\u001b[0m     )\n",
      "File \u001b[1;32m~\\anaconda3\\Lib\\site-packages\\pandas\\core\\generic.py:4788\u001b[0m, in \u001b[0;36mNDFrame.drop\u001b[1;34m(self, labels, axis, index, columns, level, inplace, errors)\u001b[0m\n\u001b[0;32m   4786\u001b[0m \u001b[38;5;28;01mfor\u001b[39;00m axis, labels \u001b[38;5;129;01min\u001b[39;00m axes\u001b[38;5;241m.\u001b[39mitems():\n\u001b[0;32m   4787\u001b[0m     \u001b[38;5;28;01mif\u001b[39;00m labels \u001b[38;5;129;01mis\u001b[39;00m \u001b[38;5;129;01mnot\u001b[39;00m \u001b[38;5;28;01mNone\u001b[39;00m:\n\u001b[1;32m-> 4788\u001b[0m         obj \u001b[38;5;241m=\u001b[39m obj\u001b[38;5;241m.\u001b[39m_drop_axis(labels, axis, level\u001b[38;5;241m=\u001b[39mlevel, errors\u001b[38;5;241m=\u001b[39merrors)\n\u001b[0;32m   4790\u001b[0m \u001b[38;5;28;01mif\u001b[39;00m inplace:\n\u001b[0;32m   4791\u001b[0m     \u001b[38;5;28mself\u001b[39m\u001b[38;5;241m.\u001b[39m_update_inplace(obj)\n",
      "File \u001b[1;32m~\\anaconda3\\Lib\\site-packages\\pandas\\core\\generic.py:4869\u001b[0m, in \u001b[0;36mNDFrame._drop_axis\u001b[1;34m(self, labels, axis, level, errors, only_slice)\u001b[0m\n\u001b[0;32m   4866\u001b[0m     new_axis \u001b[38;5;241m=\u001b[39m axis\u001b[38;5;241m.\u001b[39mtake(indexer)\n\u001b[0;32m   4868\u001b[0m bm_axis \u001b[38;5;241m=\u001b[39m \u001b[38;5;28mself\u001b[39m\u001b[38;5;241m.\u001b[39mndim \u001b[38;5;241m-\u001b[39m axis_num \u001b[38;5;241m-\u001b[39m \u001b[38;5;241m1\u001b[39m\n\u001b[1;32m-> 4869\u001b[0m new_mgr \u001b[38;5;241m=\u001b[39m \u001b[38;5;28mself\u001b[39m\u001b[38;5;241m.\u001b[39m_mgr\u001b[38;5;241m.\u001b[39mreindex_indexer(\n\u001b[0;32m   4870\u001b[0m     new_axis,\n\u001b[0;32m   4871\u001b[0m     indexer,\n\u001b[0;32m   4872\u001b[0m     axis\u001b[38;5;241m=\u001b[39mbm_axis,\n\u001b[0;32m   4873\u001b[0m     allow_dups\u001b[38;5;241m=\u001b[39m\u001b[38;5;28;01mTrue\u001b[39;00m,\n\u001b[0;32m   4874\u001b[0m     copy\u001b[38;5;241m=\u001b[39m\u001b[38;5;28;01mNone\u001b[39;00m,\n\u001b[0;32m   4875\u001b[0m     only_slice\u001b[38;5;241m=\u001b[39monly_slice,\n\u001b[0;32m   4876\u001b[0m )\n\u001b[0;32m   4877\u001b[0m result \u001b[38;5;241m=\u001b[39m \u001b[38;5;28mself\u001b[39m\u001b[38;5;241m.\u001b[39m_constructor_from_mgr(new_mgr, axes\u001b[38;5;241m=\u001b[39mnew_mgr\u001b[38;5;241m.\u001b[39maxes)\n\u001b[0;32m   4878\u001b[0m \u001b[38;5;28;01mif\u001b[39;00m \u001b[38;5;28mself\u001b[39m\u001b[38;5;241m.\u001b[39mndim \u001b[38;5;241m==\u001b[39m \u001b[38;5;241m1\u001b[39m:\n",
      "File \u001b[1;32m~\\anaconda3\\Lib\\site-packages\\pandas\\core\\internals\\managers.py:680\u001b[0m, in \u001b[0;36mBaseBlockManager.reindex_indexer\u001b[1;34m(self, new_axis, indexer, axis, fill_value, allow_dups, copy, only_slice, use_na_proxy)\u001b[0m\n\u001b[0;32m    677\u001b[0m     \u001b[38;5;28;01mraise\u001b[39;00m \u001b[38;5;167;01mIndexError\u001b[39;00m(\u001b[38;5;124m\"\u001b[39m\u001b[38;5;124mRequested axis not found in manager\u001b[39m\u001b[38;5;124m\"\u001b[39m)\n\u001b[0;32m    679\u001b[0m \u001b[38;5;28;01mif\u001b[39;00m axis \u001b[38;5;241m==\u001b[39m \u001b[38;5;241m0\u001b[39m:\n\u001b[1;32m--> 680\u001b[0m     new_blocks \u001b[38;5;241m=\u001b[39m \u001b[38;5;28mself\u001b[39m\u001b[38;5;241m.\u001b[39m_slice_take_blocks_ax0(\n\u001b[0;32m    681\u001b[0m         indexer,\n\u001b[0;32m    682\u001b[0m         fill_value\u001b[38;5;241m=\u001b[39mfill_value,\n\u001b[0;32m    683\u001b[0m         only_slice\u001b[38;5;241m=\u001b[39monly_slice,\n\u001b[0;32m    684\u001b[0m         use_na_proxy\u001b[38;5;241m=\u001b[39muse_na_proxy,\n\u001b[0;32m    685\u001b[0m     )\n\u001b[0;32m    686\u001b[0m \u001b[38;5;28;01melse\u001b[39;00m:\n\u001b[0;32m    687\u001b[0m     new_blocks \u001b[38;5;241m=\u001b[39m [\n\u001b[0;32m    688\u001b[0m         blk\u001b[38;5;241m.\u001b[39mtake_nd(\n\u001b[0;32m    689\u001b[0m             indexer,\n\u001b[1;32m   (...)\u001b[0m\n\u001b[0;32m    695\u001b[0m         \u001b[38;5;28;01mfor\u001b[39;00m blk \u001b[38;5;129;01min\u001b[39;00m \u001b[38;5;28mself\u001b[39m\u001b[38;5;241m.\u001b[39mblocks\n\u001b[0;32m    696\u001b[0m     ]\n",
      "File \u001b[1;32m~\\anaconda3\\Lib\\site-packages\\pandas\\core\\internals\\managers.py:843\u001b[0m, in \u001b[0;36mBaseBlockManager._slice_take_blocks_ax0\u001b[1;34m(self, slice_or_indexer, fill_value, only_slice, use_na_proxy, ref_inplace_op)\u001b[0m\n\u001b[0;32m    841\u001b[0m                     blocks\u001b[38;5;241m.\u001b[39mappend(nb)\n\u001b[0;32m    842\u001b[0m             \u001b[38;5;28;01melse\u001b[39;00m:\n\u001b[1;32m--> 843\u001b[0m                 nb \u001b[38;5;241m=\u001b[39m blk\u001b[38;5;241m.\u001b[39mtake_nd(taker, axis\u001b[38;5;241m=\u001b[39m\u001b[38;5;241m0\u001b[39m, new_mgr_locs\u001b[38;5;241m=\u001b[39mmgr_locs)\n\u001b[0;32m    844\u001b[0m                 blocks\u001b[38;5;241m.\u001b[39mappend(nb)\n\u001b[0;32m    846\u001b[0m \u001b[38;5;28;01mreturn\u001b[39;00m blocks\n",
      "File \u001b[1;32m~\\anaconda3\\Lib\\site-packages\\pandas\\core\\internals\\blocks.py:1307\u001b[0m, in \u001b[0;36mBlock.take_nd\u001b[1;34m(self, indexer, axis, new_mgr_locs, fill_value)\u001b[0m\n\u001b[0;32m   1304\u001b[0m     allow_fill \u001b[38;5;241m=\u001b[39m \u001b[38;5;28;01mTrue\u001b[39;00m\n\u001b[0;32m   1306\u001b[0m \u001b[38;5;66;03m# Note: algos.take_nd has upcast logic similar to coerce_to_target_dtype\u001b[39;00m\n\u001b[1;32m-> 1307\u001b[0m new_values \u001b[38;5;241m=\u001b[39m algos\u001b[38;5;241m.\u001b[39mtake_nd(\n\u001b[0;32m   1308\u001b[0m     values, indexer, axis\u001b[38;5;241m=\u001b[39maxis, allow_fill\u001b[38;5;241m=\u001b[39mallow_fill, fill_value\u001b[38;5;241m=\u001b[39mfill_value\n\u001b[0;32m   1309\u001b[0m )\n\u001b[0;32m   1311\u001b[0m \u001b[38;5;66;03m# Called from three places in managers, all of which satisfy\u001b[39;00m\n\u001b[0;32m   1312\u001b[0m \u001b[38;5;66;03m#  these assertions\u001b[39;00m\n\u001b[0;32m   1313\u001b[0m \u001b[38;5;28;01mif\u001b[39;00m \u001b[38;5;28misinstance\u001b[39m(\u001b[38;5;28mself\u001b[39m, ExtensionBlock):\n\u001b[0;32m   1314\u001b[0m     \u001b[38;5;66;03m# NB: in this case, the 'axis' kwarg will be ignored in the\u001b[39;00m\n\u001b[0;32m   1315\u001b[0m     \u001b[38;5;66;03m#  algos.take_nd call above.\u001b[39;00m\n",
      "File \u001b[1;32m~\\anaconda3\\Lib\\site-packages\\pandas\\core\\array_algos\\take.py:117\u001b[0m, in \u001b[0;36mtake_nd\u001b[1;34m(arr, indexer, axis, fill_value, allow_fill)\u001b[0m\n\u001b[0;32m    114\u001b[0m     \u001b[38;5;28;01mreturn\u001b[39;00m arr\u001b[38;5;241m.\u001b[39mtake(indexer, fill_value\u001b[38;5;241m=\u001b[39mfill_value, allow_fill\u001b[38;5;241m=\u001b[39mallow_fill)\n\u001b[0;32m    116\u001b[0m arr \u001b[38;5;241m=\u001b[39m np\u001b[38;5;241m.\u001b[39masarray(arr)\n\u001b[1;32m--> 117\u001b[0m \u001b[38;5;28;01mreturn\u001b[39;00m _take_nd_ndarray(arr, indexer, axis, fill_value, allow_fill)\n",
      "File \u001b[1;32m~\\anaconda3\\Lib\\site-packages\\pandas\\core\\array_algos\\take.py:157\u001b[0m, in \u001b[0;36m_take_nd_ndarray\u001b[1;34m(arr, indexer, axis, fill_value, allow_fill)\u001b[0m\n\u001b[0;32m    155\u001b[0m     out \u001b[38;5;241m=\u001b[39m np\u001b[38;5;241m.\u001b[39mempty(out_shape, dtype\u001b[38;5;241m=\u001b[39mdtype, order\u001b[38;5;241m=\u001b[39m\u001b[38;5;124m\"\u001b[39m\u001b[38;5;124mF\u001b[39m\u001b[38;5;124m\"\u001b[39m)\n\u001b[0;32m    156\u001b[0m \u001b[38;5;28;01melse\u001b[39;00m:\n\u001b[1;32m--> 157\u001b[0m     out \u001b[38;5;241m=\u001b[39m np\u001b[38;5;241m.\u001b[39mempty(out_shape, dtype\u001b[38;5;241m=\u001b[39mdtype)\n\u001b[0;32m    159\u001b[0m func \u001b[38;5;241m=\u001b[39m _get_take_nd_function(\n\u001b[0;32m    160\u001b[0m     arr\u001b[38;5;241m.\u001b[39mndim, arr\u001b[38;5;241m.\u001b[39mdtype, out\u001b[38;5;241m.\u001b[39mdtype, axis\u001b[38;5;241m=\u001b[39maxis, mask_info\u001b[38;5;241m=\u001b[39mmask_info\n\u001b[0;32m    161\u001b[0m )\n\u001b[0;32m    162\u001b[0m func(arr, indexer, out, fill_value)\n",
      "\u001b[1;31mMemoryError\u001b[0m: Unable to allocate 3.33 GiB for an array with shape (23, 19444665) and data type object"
     ]
    }
   ],
   "source": [
    "big_ords_prods_agg_cust_dept = big_ords_prods_agg_cust.merge(df_dept,on='department_id',indicator=True)"
   ]
  },
  {
   "cell_type": "code",
   "execution_count": null,
   "id": "2c30ee1b-53cc-4cf9-be4a-a3b27679034c",
   "metadata": {},
   "outputs": [],
   "source": []
  }
 ],
 "metadata": {
  "kernelspec": {
   "display_name": "Python 3 (ipykernel)",
   "language": "python",
   "name": "python3"
  },
  "language_info": {
   "codemirror_mode": {
    "name": "ipython",
    "version": 3
   },
   "file_extension": ".py",
   "mimetype": "text/x-python",
   "name": "python",
   "nbconvert_exporter": "python",
   "pygments_lexer": "ipython3",
   "version": "3.12.4"
  }
 },
 "nbformat": 4,
 "nbformat_minor": 5
}
